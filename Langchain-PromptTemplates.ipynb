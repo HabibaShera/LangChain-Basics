{
  "nbformat": 4,
  "nbformat_minor": 0,
  "metadata": {
    "colab": {
      "provenance": [],
      "authorship_tag": "ABX9TyPnf+XUG4E1KaImKEfvVOqE",
      "include_colab_link": true
    },
    "kernelspec": {
      "name": "python3",
      "display_name": "Python 3"
    },
    "language_info": {
      "name": "python"
    }
  },
  "cells": [
    {
      "cell_type": "markdown",
      "metadata": {
        "id": "view-in-github",
        "colab_type": "text"
      },
      "source": [
        "<a href=\"https://colab.research.google.com/github/HabibaShera/LangChain-Basics/blob/main/Langchain-PromptTemplates.ipynb\" target=\"_parent\"><img src=\"https://colab.research.google.com/assets/colab-badge.svg\" alt=\"Open In Colab\"/></a>"
      ]
    },
    {
      "cell_type": "markdown",
      "source": [
        "| Alternative                        | Best For         | Requires API? | Good Fit for Your Code? |\n",
        "| ---------------------------------- | ---------------- | ------------- | ----------------------- |\n",
        "| **Ollama (Mistral, LLaMA2, etc.)** | Local use        | ❌ No          | ✅ Yes                   |\n",
        "| **OpenRouter (Mistral, Claude)**   | Hosted/free-tier | ✅ Yes         | ✅ Yes                   |\n",
        "| **Fireworks.ai (Mixtral, LLaMA)**  | Free w/ signup   | ✅ Yes         | ✅ Yes                   |\n"
      ],
      "metadata": {
        "id": "Gmkl7UOtet9m"
      }
    },
    {
      "cell_type": "code",
      "source": [
        "!pip install langchain langchain-openai -q"
      ],
      "metadata": {
        "colab": {
          "base_uri": "https://localhost:8080/"
        },
        "id": "PxlWXu07kgNb",
        "outputId": "58467846-7b7f-471e-82c6-a3a59117b25c"
      },
      "execution_count": null,
      "outputs": [
        {
          "output_type": "stream",
          "name": "stdout",
          "text": [
            "\u001b[?25l   \u001b[90m━━━━━━━━━━━━━━━━━━━━━━━━━━━━━━━━━━━━━━━━\u001b[0m \u001b[32m0.0/63.4 kB\u001b[0m \u001b[31m?\u001b[0m eta \u001b[36m-:--:--\u001b[0m\r\u001b[2K   \u001b[91m━━━━━━━━━━━━━━━━━━━━━━━━━━━━━━━━━━━━━━\u001b[0m\u001b[91m╸\u001b[0m\u001b[90m━\u001b[0m \u001b[32m61.4/63.4 kB\u001b[0m \u001b[31m3.7 MB/s\u001b[0m eta \u001b[36m0:00:01\u001b[0m\r\u001b[2K   \u001b[90m━━━━━━━━━━━━━━━━━━━━━━━━━━━━━━━━━━━━━━━━\u001b[0m \u001b[32m63.4/63.4 kB\u001b[0m \u001b[31m1.0 MB/s\u001b[0m eta \u001b[36m0:00:00\u001b[0m\n",
            "\u001b[?25h\u001b[?25l   \u001b[90m━━━━━━━━━━━━━━━━━━━━━━━━━━━━━━━━━━━━━━━━\u001b[0m \u001b[32m0.0/438.3 kB\u001b[0m \u001b[31m?\u001b[0m eta \u001b[36m-:--:--\u001b[0m\r\u001b[2K   \u001b[91m━━━━━━━━━━━━━━━━━━━━━━━━━━━━━━━━━━━━━━━\u001b[0m\u001b[90m╺\u001b[0m \u001b[32m430.1/438.3 kB\u001b[0m \u001b[31m16.8 MB/s\u001b[0m eta \u001b[36m0:00:01\u001b[0m\r\u001b[2K   \u001b[90m━━━━━━━━━━━━━━━━━━━━━━━━━━━━━━━━━━━━━━━━\u001b[0m \u001b[32m438.3/438.3 kB\u001b[0m \u001b[31m9.1 MB/s\u001b[0m eta \u001b[36m0:00:00\u001b[0m\n",
            "\u001b[?25h"
          ]
        }
      ]
    },
    {
      "cell_type": "code",
      "source": [
        "from langchain_openai import ChatOpenAI\n",
        "from langchain.prompts import ChatPromptTemplate"
      ],
      "metadata": {
        "id": "zzteqCSCmgUF"
      },
      "execution_count": null,
      "outputs": []
    },
    {
      "cell_type": "code",
      "source": [
        "import getpass\n",
        "\n",
        "key = getpass.getpass(\"Enter your secret API key: \")"
      ],
      "metadata": {
        "colab": {
          "base_uri": "https://localhost:8080/"
        },
        "id": "iAJmPWMelYN7",
        "outputId": "8049e5e7-9c83-457f-fc02-5fe41d5b414d"
      },
      "execution_count": null,
      "outputs": [
        {
          "name": "stdout",
          "output_type": "stream",
          "text": [
            "Enter your secret API key: ··········\n"
          ]
        }
      ]
    },
    {
      "cell_type": "markdown",
      "source": [
        "## Case 1"
      ],
      "metadata": {
        "id": "6IAmEq16OQtV"
      }
    },
    {
      "cell_type": "code",
      "source": [
        "llm = ChatOpenAI(\n",
        "    openai_api_key=key,\n",
        "    openai_api_base=\"https://openrouter.ai/api/v1\",\n",
        "    model=\"mistralai/mistral-7b-instruct\",\n",
        "           # mistralai/devstral-small\n",
        "    temperature=0.7,\n",
        "    #repetition_penalty = 1.2,\n",
        ")"
      ],
      "metadata": {
        "id": "I2-9f1McdAj3"
      },
      "execution_count": null,
      "outputs": []
    },
    {
      "cell_type": "code",
      "source": [
        "template_string = \"\"\"\n",
        "Please read the following article and do the following:\n",
        "\n",
        "1. Summarize the **main points** in clear **bullet points**.\n",
        "2. Write the summary in **Arabic**.\n",
        "3. Apply the following style: {style}\n",
        "4. Add **appropriate emojis** to make it more engaging.\n",
        "\n",
        "Here is the article:\n",
        "{text}\n",
        "\"\"\"\n"
      ],
      "metadata": {
        "id": "J0NQ0rR6mkfz"
      },
      "execution_count": null,
      "outputs": []
    },
    {
      "cell_type": "code",
      "source": [
        "prompt_template = ChatPromptTemplate.from_template(template_string)\n",
        "prompt_template"
      ],
      "metadata": {
        "colab": {
          "base_uri": "https://localhost:8080/"
        },
        "id": "85p9sZ9pdAqW",
        "outputId": "0c329825-39d9-4e9d-e774-6690ea13241e"
      },
      "execution_count": null,
      "outputs": [
        {
          "output_type": "execute_result",
          "data": {
            "text/plain": [
              "ChatPromptTemplate(input_variables=['style', 'text'], input_types={}, partial_variables={}, messages=[HumanMessagePromptTemplate(prompt=PromptTemplate(input_variables=['style', 'text'], input_types={}, partial_variables={}, template='\\nPlease read the following article and do the following:\\n\\n1. Summarize the **main points** in clear **bullet points**.\\n2. Write the summary in **Arabic**.\\n3. Apply the following style: {style}\\n4. Add **appropriate emojis** to make it more engaging.\\n\\nHere is the article:\\n{text}\\n'), additional_kwargs={})])"
            ]
          },
          "metadata": {},
          "execution_count": 145
        }
      ]
    },
    {
      "cell_type": "code",
      "source": [
        "style = \"اكتب بلغة عربية ودودة وسهلة، وأضف رموزًا تعبيرية مناسبة لكل نقطة\"\n",
        "\n",
        "article = \"\"\"\n",
        "About showing the “open to work” badge\n",
        "Tuesday, May 20th, 2025 at 1:45 pm\n",
        "I just came across a post on X that stated “nothing makes me want to hire someone less than this”, with a picture of the “open to work” badge LinkedIn offers job seekers.\n",
        "\n",
        "The post on X showing the open to work badge and the arrogant message.\n",
        "\n",
        "This being X, I thought I answer using appropriate voice:\n",
        "\n",
        "My answer asking if the reason is if he is an arsehole\n",
        "\n",
        "This, albeit succinct, is not very enlightening, so let me elaborate…\n",
        "\n",
        "Like any other developer, I have a complicated relationship with LinkedIn. I do get about 10 job offers a month and 25 connection requests a week. During my peak time in Microsoft or during my tenure at Mozilla attending 35 conferences a year this was upped by a factor of 3. I’m also frustrated with tons of bots, growth hackers and professional connectors.\n",
        "\n",
        "But, as X circles the drain and attracts only bots, engagement baiters and the worst of society, LinkedIn has become an alternative where you can have professional conversations and keep connections. I’m a LinkedIn trainer and have done some courses for them. Many of the people I source for my company events and podcasts start with a LinkedIn message.\n",
        "\n",
        "Now, to the matter at hand: the open to work badge. Lord Coolentrepreneur of 10xdevistan on X and his inanely clapping choir see it as a sign of desperation and blatant begging for a job. I see it differently…\n",
        "\n",
        "The reason might be that I do use LinkedIn professionally and that I’ve been both recruiting and being hired by large corporations. I’ve also been part of reorganisations, companies going bust and was on the wrong spreadsheet when mass layoffs happened. So I know how it feels to not have a job even when your performance was great.\n",
        "\n",
        "And guess what? It sucks. You still feel like shit and you don’t want to look around and call in favours. So maybe telling the world that you are open to a new challenge is a way to be able to take a breather and let things come to you.\n",
        "\n",
        "I also have a lot of friends who are incredibly talented freelancers whose services I like to use. As they are great at what they do, they are also booked out. And those people use the badge to show the world when they are available, thus saving me a frustrating back and forth via email.\n",
        "\n",
        "LinkedIn is noisy. This badge helps me find potential people and discard others. I don’t see this as a sign of desperation, I see it as a sign of clear communication. Poaching someone from a current job is always messy and takes time – especially in Europe. When I see this badge, I know the person is immediately available, which often is a need people who hire have.\n",
        "\n",
        "Nobody should feel desperate using this badge, and people who flat out discard people who have them as desperate are very likely to be really shit bosses anyway. So, keep showing the world what you want it to offer you. There’s no shame in that.\n",
        "\n",
        "\"\"\"\n"
      ],
      "metadata": {
        "id": "DpsXCALTnlWw"
      },
      "execution_count": null,
      "outputs": []
    },
    {
      "cell_type": "code",
      "source": [
        "customer_messages = prompt_template.format_messages(\n",
        "    style=style,\n",
        "    text=article\n",
        ")\n",
        "\n",
        "print(customer_messages)\n",
        "print(type(customer_messages))\n",
        "print(type(customer_messages[0]))"
      ],
      "metadata": {
        "colab": {
          "base_uri": "https://localhost:8080/"
        },
        "id": "AqBRcqWTdA5u",
        "outputId": "06d2c081-b4f1-449a-b08b-d31103f466dd"
      },
      "execution_count": null,
      "outputs": [
        {
          "output_type": "stream",
          "name": "stdout",
          "text": [
            "[HumanMessage(content='\\nPlease read the following article and do the following:\\n\\n1. Summarize the **main points** in clear **bullet points**.\\n2. Write the summary in **Arabic**.\\n3. Apply the following style: اكتب بلغة عربية ودودة وسهلة، وأضف رموزًا تعبيرية مناسبة لكل نقطة\\n4. Add **appropriate emojis** to make it more engaging.\\n\\nHere is the article:\\n\\nAbout showing the “open to work” badge\\nTuesday, May 20th, 2025 at 1:45 pm\\nI just came across a post on X that stated “nothing makes me want to hire someone less than this”, with a picture of the “open to work” badge LinkedIn offers job seekers.\\n\\nThe post on X showing the open to work badge and the arrogant message.\\n\\nThis being X, I thought I answer using appropriate voice:\\n\\nMy answer asking if the reason is if he is an arsehole \\n\\nThis, albeit succinct, is not very enlightening, so let me elaborate…\\n\\nLike any other developer, I have a complicated relationship with LinkedIn. I do get about 10 job offers a month and 25 connection requests a week. During my peak time in Microsoft or during my tenure at Mozilla attending 35 conferences a year this was upped by a factor of 3. I’m also frustrated with tons of bots, growth hackers and professional connectors.\\n\\nBut, as X circles the drain and attracts only bots, engagement baiters and the worst of society, LinkedIn has become an alternative where you can have professional conversations and keep connections. I’m a LinkedIn trainer and have done some courses for them. Many of the people I source for my company events and podcasts start with a LinkedIn message.\\n\\nNow, to the matter at hand: the open to work badge. Lord Coolentrepreneur of 10xdevistan on X and his inanely clapping choir see it as a sign of desperation and blatant begging for a job. I see it differently…\\n\\nThe reason might be that I do use LinkedIn professionally and that I’ve been both recruiting and being hired by large corporations. I’ve also been part of reorganisations, companies going bust and was on the wrong spreadsheet when mass layoffs happened. So I know how it feels to not have a job even when your performance was great.\\n\\nAnd guess what? It sucks. You still feel like shit and you don’t want to look around and call in favours. So maybe telling the world that you are open to a new challenge is a way to be able to take a breather and let things come to you.\\n\\nI also have a lot of friends who are incredibly talented freelancers whose services I like to use. As they are great at what they do, they are also booked out. And those people use the badge to show the world when they are available, thus saving me a frustrating back and forth via email.\\n\\nLinkedIn is noisy. This badge helps me find potential people and discard others. I don’t see this as a sign of desperation, I see it as a sign of clear communication. Poaching someone from a current job is always messy and takes time – especially in Europe. When I see this badge, I know the person is immediately available, which often is a need people who hire have.\\n\\nNobody should feel desperate using this badge, and people who flat out discard people who have them as desperate are very likely to be really shit bosses anyway. So, keep showing the world what you want it to offer you. There’s no shame in that.\\n\\n\\n', additional_kwargs={}, response_metadata={})]\n",
            "<class 'list'>\n",
            "<class 'langchain_core.messages.human.HumanMessage'>\n"
          ]
        }
      ]
    },
    {
      "cell_type": "code",
      "source": [
        "try:\n",
        "  response = llm.invoke(customer_messages)\n",
        "  print(response)\n",
        "except Exception as e:\n",
        "    import traceback\n",
        "    traceback.print_exc()"
      ],
      "metadata": {
        "colab": {
          "base_uri": "https://localhost:8080/"
        },
        "id": "G_tnEyYFzlqr",
        "outputId": "37e88311-a563-4d10-d0d3-bc8a60046bf8"
      },
      "execution_count": null,
      "outputs": [
        {
          "output_type": "stream",
          "name": "stdout",
          "text": [
            "content=' 1. Main Points:\\n   - The \"open to work\" badge on LinkedIn can be perceived as a sign of desperation and blatant begging for a job by some (emoji: 😐).\\n   - However, the author argues that it can be a sign of clear communication and a way for job seekers to indicate availability (emoji: 🔔).\\n   - The author shares personal experiences of being both a recruiter and a job seeker, and understands the challenges of job searching (emoji: 💼).\\n   - The author argues that using the badge can help job seekers take a breather and let opportunities come to them (emoji: 🧘\\u200d♂️).\\n   - The author also points out that freelancers use the badge to indicate when they are available, saving potential clients from a frustrating back-and-forth (emoji: 💌).\\n   - The author states that LinkedIn can be noisy, and the badge can help filter potential candidates and quickly identify those who are immediately available (emoji: 🔄).\\n   - The author advises that job seekers should not feel ashamed for using the badge and that those who discard job seekers with the badge as desperate are likely to be poor managers (emoji: 🚫).\\n\\n2. Arabic Summary:\\n    - احدثت اتحادية \"أنا متأهل للعمل\" على لنكدن يُعتبرها من أي طريقة تدعى للعزل من الاستعلام عن سيئة الأحادث بوجه بالتحذير من التقدم بطلب عمل على التحالف المفكر والتهاب للعمل أصبحت بعضهم يُعتبرون بالعزل.\\n    - وأحدهم يعتبرون احدثتي هي طريقة لتعبير عن التعامل مع العمل بالصفحة وتركيب العلاقات المحترفة.\\n    - وأحد من تجرباتي كمدرب في لنكدن وأعمال بعضها لهم وأنا احتسب بعض الأشخاص الذين احتسبهم لأحداثي العمل ومقابلات الحديث بدات برسالة للصفحة الخاصة بهم على لنكدن.\\n    - وحول الشيء المناسب للحادث هو علامة متأهل للعمل:\\n        - لأني استعمل لنكدن بشكل صحيح وأنا كنت أكون كمدرب وأكون مسئولا عن التحرير العملي وكنت أكون مسئولا عن تحميل العمال من الشركات الكبيرة.\\n        - وكنت أكون جزءا من التنظيمات والشركات التي تعذر وكنت على المقابلة النقطية المناسبة للسحب من العمل وكنت على الجدار النقطي الشرائح المناسبة للسحب من العمل عندما تعذر.\\n        - ولماذا لا تحتاج إلى الكذب عندما تقول \"أنا متأهل للعمل\": كيف تتلقى الشعور بالضعف العائد وتتلقى الشعور بالعزل ولا تريد التحقق ولا تريد تلاعب الوعياء. فهل لأنت متأهل للتحدث عن العمل الجديد هو طريقة لتلقي الاسترخاء وترسخ أمركم.\\n    - وأنا أحتسب أن كثير من الأصدقاء المهنيين ذوي الخبرة المناسبة والمهرجانيين المميزين يستخدمون هذه العلامة لنشر بياناتهم عن وقتهم المستخدم للخدمة (emoji: 🗓️).\\n    - ولنكدن جامع من الضوء ولكن العلامة تستطيع ان تنقل العلامات المرئية للأشخاص الممكنين وتخفض العلامات المرئية للأشخاص المحدودين.\\n    - ولا تُعتبر العلامة على العزل ولكن تُعتبر على التعامل مع العمل بشكل مرهون ومعقول. ولا يجب أن تَعتبر الشخص الذي يستخدم العلامة بشكل عظيم كبيدة للعمل ومؤخراً يكون له عينا صوتا لا يقل.\\n    - ولا يجب أن تَعتبر الشخص الذي يستخدم العلامة بشكل عظيم كبيدة للعمل ومؤخراً يكون له عينا صوتا لا يقل.\\n\\n3. Arabic Summary with Emojis:\\n    - 🤨 احدثت اتحادية \"أنا متأهل للعمل\" على لنكدن يُعتبرها من أي طريقة تدعى للعزل من الاستعلام عن سيئة الأحادث بوجه بالتحذير من التقدم بطلب عمل على التحالف المفكر والتهاب للعمل أصبحت بعضهم يُعتبرون بالعزل.\\n    - 😊 العلامة تستطيع ان تنقل العلامات المرئية للأشخاص الممكنين وتخفض العلامات المرئية للأشخاص المحدودين.\\n    - 💼 وأحد من تجرباتي كمدرب في لنكدن وأعمال بعضها لهم وأنا احتسب بعض الأشخاص الذين احتسبهم لأحداثي العمل ومقابلات الحديث بدات برسالة للصفحة الخاصة بهم على لنكدن.\\n    - 🧘\\u200d♂️ وحول الشيء المناسب للحادث هو علامة متأهل للعمل:\\n        - لأني استعمل لنكدن بشكل صحيح وأنا كنت أكون كمدرب وأكون مسئولا عن التحرير العملي وكنت أكون مسئولا عن تحميل العمال من الشركات الكبيرة.\\n        - وكنت أكون جزءا من التنظيمات والشركات التي تعذر وكنت على المقابلة النقطية المناسبة للسحب من العمل وكنت على الجدار النقطي الشرائح المناسبة للسحب من العمل عندما تعذر.\\n        - 💔 ولماذا لا تحتاج إلى الكذب عندما تقول \"أنا متأهل للعمل\": كيف تتلقى الشعور بالضعف العائد وتتلقى الشعور بالعزل ولا تريد التحقق ولا تريد تلاعب الوعياء. فهل لأنت متأهل للتحدث عن العمل الجديد هو طريقة لتلقي الاسترخاء وترسخ أمركم.\\n    - 🗓️ وأنا أحتسب أن كثير من الأصدقاء المهنيين ذوي الخبرة المناسبة والمهرجانيين المميزين يستخدمون هذه العلامة لنشر بياناتهم عن وقتهم المستخدم للخدمة.\\n    - 📈 ولنكدن جامع من الضوء ولكن العلامة تستطيع ان تنقل العلامات المرئية للأشخاص الممكنين وتخفض العلامات المرئية للأشخاص المحدودين.\\n    - 🚫 ولا تُعتبر العلامة على العزل ولكن تُعتبر على التعامل مع العمل بشكل مرهون ومعقول. ولا يجب أن تَعتبر الشخص الذي يستخدم العلامة بشكل عظيم كبيدة للعمل ومؤخراً يكون له عينا صوتا لا يقل.' additional_kwargs={'refusal': None} response_metadata={'token_usage': {'completion_tokens': 3141, 'prompt_tokens': 872, 'total_tokens': 4013, 'completion_tokens_details': None, 'prompt_tokens_details': None}, 'model_name': 'mistralai/mistral-7b-instruct', 'system_fingerprint': None, 'id': 'gen-1748263223-3jqyGsM6cP6sHOhpkv2t', 'service_tier': None, 'finish_reason': 'stop', 'logprobs': None} id='run--7b08bad0-a1fb-4f5a-9045-7f0e28f0b72c-0' usage_metadata={'input_tokens': 872, 'output_tokens': 3141, 'total_tokens': 4013, 'input_token_details': {}, 'output_token_details': {}}\n"
          ]
        }
      ]
    },
    {
      "cell_type": "code",
      "source": [
        "type(response)"
      ],
      "metadata": {
        "colab": {
          "base_uri": "https://localhost:8080/",
          "height": 186
        },
        "id": "XsJlhZ0jqt0_",
        "outputId": "76db92d7-f4e4-4895-cd23-d2050a802443"
      },
      "execution_count": null,
      "outputs": [
        {
          "output_type": "execute_result",
          "data": {
            "text/plain": [
              "langchain_core.messages.ai.AIMessage"
            ],
            "text/html": [
              "<div style=\"max-width:800px; border: 1px solid var(--colab-border-color);\"><style>\n",
              "      pre.function-repr-contents {\n",
              "        overflow-x: auto;\n",
              "        padding: 8px 12px;\n",
              "        max-height: 500px;\n",
              "      }\n",
              "\n",
              "      pre.function-repr-contents.function-repr-contents-collapsed {\n",
              "        cursor: pointer;\n",
              "        max-height: 100px;\n",
              "      }\n",
              "    </style>\n",
              "    <pre style=\"white-space: initial; background:\n",
              "         var(--colab-secondary-surface-color); padding: 8px 12px;\n",
              "         border-bottom: 1px solid var(--colab-border-color);\"><b>langchain_core.messages.ai.AIMessage</b><br/>def __init__(content: Union[str, list[Union[str, dict]]], **kwargs: Any) -&gt; None</pre><pre class=\"function-repr-contents function-repr-contents-collapsed\" style=\"\"><a class=\"filepath\" style=\"display:none\" href=\"#\">/usr/local/lib/python3.11/dist-packages/langchain_core/messages/ai.py</a>Message from an AI.\n",
              "\n",
              "AIMessage is returned from a chat model as a response to a prompt.\n",
              "\n",
              "This message represents the output of the model and consists of both\n",
              "the raw output as returned by the model together standardized fields\n",
              "(e.g., tool calls, usage metadata) added by the LangChain framework.</pre>\n",
              "      <script>\n",
              "      if (google.colab.kernel.accessAllowed && google.colab.files && google.colab.files.view) {\n",
              "        for (const element of document.querySelectorAll('.filepath')) {\n",
              "          element.style.display = 'block'\n",
              "          element.onclick = (event) => {\n",
              "            event.preventDefault();\n",
              "            event.stopPropagation();\n",
              "            google.colab.files.view(element.textContent, 149);\n",
              "          };\n",
              "        }\n",
              "      }\n",
              "      for (const element of document.querySelectorAll('.function-repr-contents')) {\n",
              "        element.onclick = (event) => {\n",
              "          event.preventDefault();\n",
              "          event.stopPropagation();\n",
              "          element.classList.toggle('function-repr-contents-collapsed');\n",
              "        };\n",
              "      }\n",
              "      </script>\n",
              "      </div>"
            ]
          },
          "metadata": {},
          "execution_count": 149
        }
      ]
    },
    {
      "cell_type": "code",
      "source": [
        "print(response.content)"
      ],
      "metadata": {
        "colab": {
          "base_uri": "https://localhost:8080/"
        },
        "id": "lx8xGTEZrLzi",
        "outputId": "516291c2-c3a0-484d-a02c-cd5917b0b871"
      },
      "execution_count": null,
      "outputs": [
        {
          "output_type": "stream",
          "name": "stdout",
          "text": [
            " 1. Main Points:\n",
            "   - The \"open to work\" badge on LinkedIn can be perceived as a sign of desperation and blatant begging for a job by some (emoji: 😐).\n",
            "   - However, the author argues that it can be a sign of clear communication and a way for job seekers to indicate availability (emoji: 🔔).\n",
            "   - The author shares personal experiences of being both a recruiter and a job seeker, and understands the challenges of job searching (emoji: 💼).\n",
            "   - The author argues that using the badge can help job seekers take a breather and let opportunities come to them (emoji: 🧘‍♂️).\n",
            "   - The author also points out that freelancers use the badge to indicate when they are available, saving potential clients from a frustrating back-and-forth (emoji: 💌).\n",
            "   - The author states that LinkedIn can be noisy, and the badge can help filter potential candidates and quickly identify those who are immediately available (emoji: 🔄).\n",
            "   - The author advises that job seekers should not feel ashamed for using the badge and that those who discard job seekers with the badge as desperate are likely to be poor managers (emoji: 🚫).\n",
            "\n",
            "2. Arabic Summary:\n",
            "    - احدثت اتحادية \"أنا متأهل للعمل\" على لنكدن يُعتبرها من أي طريقة تدعى للعزل من الاستعلام عن سيئة الأحادث بوجه بالتحذير من التقدم بطلب عمل على التحالف المفكر والتهاب للعمل أصبحت بعضهم يُعتبرون بالعزل.\n",
            "    - وأحدهم يعتبرون احدثتي هي طريقة لتعبير عن التعامل مع العمل بالصفحة وتركيب العلاقات المحترفة.\n",
            "    - وأحد من تجرباتي كمدرب في لنكدن وأعمال بعضها لهم وأنا احتسب بعض الأشخاص الذين احتسبهم لأحداثي العمل ومقابلات الحديث بدات برسالة للصفحة الخاصة بهم على لنكدن.\n",
            "    - وحول الشيء المناسب للحادث هو علامة متأهل للعمل:\n",
            "        - لأني استعمل لنكدن بشكل صحيح وأنا كنت أكون كمدرب وأكون مسئولا عن التحرير العملي وكنت أكون مسئولا عن تحميل العمال من الشركات الكبيرة.\n",
            "        - وكنت أكون جزءا من التنظيمات والشركات التي تعذر وكنت على المقابلة النقطية المناسبة للسحب من العمل وكنت على الجدار النقطي الشرائح المناسبة للسحب من العمل عندما تعذر.\n",
            "        - ولماذا لا تحتاج إلى الكذب عندما تقول \"أنا متأهل للعمل\": كيف تتلقى الشعور بالضعف العائد وتتلقى الشعور بالعزل ولا تريد التحقق ولا تريد تلاعب الوعياء. فهل لأنت متأهل للتحدث عن العمل الجديد هو طريقة لتلقي الاسترخاء وترسخ أمركم.\n",
            "    - وأنا أحتسب أن كثير من الأصدقاء المهنيين ذوي الخبرة المناسبة والمهرجانيين المميزين يستخدمون هذه العلامة لنشر بياناتهم عن وقتهم المستخدم للخدمة (emoji: 🗓️).\n",
            "    - ولنكدن جامع من الضوء ولكن العلامة تستطيع ان تنقل العلامات المرئية للأشخاص الممكنين وتخفض العلامات المرئية للأشخاص المحدودين.\n",
            "    - ولا تُعتبر العلامة على العزل ولكن تُعتبر على التعامل مع العمل بشكل مرهون ومعقول. ولا يجب أن تَعتبر الشخص الذي يستخدم العلامة بشكل عظيم كبيدة للعمل ومؤخراً يكون له عينا صوتا لا يقل.\n",
            "    - ولا يجب أن تَعتبر الشخص الذي يستخدم العلامة بشكل عظيم كبيدة للعمل ومؤخراً يكون له عينا صوتا لا يقل.\n",
            "\n",
            "3. Arabic Summary with Emojis:\n",
            "    - 🤨 احدثت اتحادية \"أنا متأهل للعمل\" على لنكدن يُعتبرها من أي طريقة تدعى للعزل من الاستعلام عن سيئة الأحادث بوجه بالتحذير من التقدم بطلب عمل على التحالف المفكر والتهاب للعمل أصبحت بعضهم يُعتبرون بالعزل.\n",
            "    - 😊 العلامة تستطيع ان تنقل العلامات المرئية للأشخاص الممكنين وتخفض العلامات المرئية للأشخاص المحدودين.\n",
            "    - 💼 وأحد من تجرباتي كمدرب في لنكدن وأعمال بعضها لهم وأنا احتسب بعض الأشخاص الذين احتسبهم لأحداثي العمل ومقابلات الحديث بدات برسالة للصفحة الخاصة بهم على لنكدن.\n",
            "    - 🧘‍♂️ وحول الشيء المناسب للحادث هو علامة متأهل للعمل:\n",
            "        - لأني استعمل لنكدن بشكل صحيح وأنا كنت أكون كمدرب وأكون مسئولا عن التحرير العملي وكنت أكون مسئولا عن تحميل العمال من الشركات الكبيرة.\n",
            "        - وكنت أكون جزءا من التنظيمات والشركات التي تعذر وكنت على المقابلة النقطية المناسبة للسحب من العمل وكنت على الجدار النقطي الشرائح المناسبة للسحب من العمل عندما تعذر.\n",
            "        - 💔 ولماذا لا تحتاج إلى الكذب عندما تقول \"أنا متأهل للعمل\": كيف تتلقى الشعور بالضعف العائد وتتلقى الشعور بالعزل ولا تريد التحقق ولا تريد تلاعب الوعياء. فهل لأنت متأهل للتحدث عن العمل الجديد هو طريقة لتلقي الاسترخاء وترسخ أمركم.\n",
            "    - 🗓️ وأنا أحتسب أن كثير من الأصدقاء المهنيين ذوي الخبرة المناسبة والمهرجانيين المميزين يستخدمون هذه العلامة لنشر بياناتهم عن وقتهم المستخدم للخدمة.\n",
            "    - 📈 ولنكدن جامع من الضوء ولكن العلامة تستطيع ان تنقل العلامات المرئية للأشخاص الممكنين وتخفض العلامات المرئية للأشخاص المحدودين.\n",
            "    - 🚫 ولا تُعتبر العلامة على العزل ولكن تُعتبر على التعامل مع العمل بشكل مرهون ومعقول. ولا يجب أن تَعتبر الشخص الذي يستخدم العلامة بشكل عظيم كبيدة للعمل ومؤخراً يكون له عينا صوتا لا يقل.\n"
          ]
        }
      ]
    },
    {
      "cell_type": "markdown",
      "source": [
        "## Case 2"
      ],
      "metadata": {
        "id": "nCzG4ykbOT0B"
      }
    },
    {
      "cell_type": "code",
      "source": [
        "gemma_model = ChatOpenAI(\n",
        "    openai_api_key=key,\n",
        "    openai_api_base=\"https://openrouter.ai/api/v1\",\n",
        "    model=\"google/gemma-3n-e4b-it:free\",\n",
        "    temperature=0.3,\n",
        ")"
      ],
      "metadata": {
        "id": "ANDZOgcW0afV"
      },
      "execution_count": null,
      "outputs": []
    },
    {
      "cell_type": "code",
      "source": [
        "prompt_template_string = \"\"\"\n",
        "Determine if the student's solution is correct or incorrect or partially correct. Loop on students' answers and make the output match the following format:\n",
        "student_1 : correct\n",
        "studnt_2 : incorrect\n",
        "student_3 : partially correct\n",
        "...\n",
        "\n",
        "Question:\n",
        "{question}\n",
        "\n",
        "Student's Solution:\n",
        "{student_solution}\n",
        "\"\"\""
      ],
      "metadata": {
        "id": "E7hfeLTROyMw"
      },
      "execution_count": null,
      "outputs": []
    },
    {
      "cell_type": "code",
      "source": [
        "prompt_template = ChatPromptTemplate.from_template(prompt_template_string)\n",
        "prompt_template"
      ],
      "metadata": {
        "colab": {
          "base_uri": "https://localhost:8080/"
        },
        "id": "JVGM_OekPWOk",
        "outputId": "06dfc78b-2d36-4b08-f909-027223e88b97"
      },
      "execution_count": null,
      "outputs": [
        {
          "output_type": "execute_result",
          "data": {
            "text/plain": [
              "ChatPromptTemplate(input_variables=['question', 'student_solution'], input_types={}, partial_variables={}, messages=[HumanMessagePromptTemplate(prompt=PromptTemplate(input_variables=['question', 'student_solution'], input_types={}, partial_variables={}, template=\"\\nDetermine if the student's solution is correct or incorrect or partially correct. Loop on students' answers and make the output match the following format: \\nstudent_1 : correct\\nstudnt_2 : incorrect\\nstudent_3 : partially correct\\n...\\n\\nQuestion:\\n{question}\\n\\nStudent's Solution:\\n{student_solution}\\n\"), additional_kwargs={})])"
            ]
          },
          "metadata": {},
          "execution_count": 46
        }
      ]
    },
    {
      "cell_type": "code",
      "source": [
        "question = \"\"\"I'm building a solar power installation and I need \\\n",
        " help working out the financials.\n",
        "- Land costs $100 / square foot\n",
        "- I can buy solar panels for $250 / square foot\n",
        "- I negotiated a contract for maintenance that will cost \\\n",
        "me a flat $100k per year, and an additional $10 / square \\\n",
        "foot\n",
        "What is the total cost for the first year of operations\n",
        "as a function of the number of square feet.\"\"\"\n",
        "\n",
        "student_answers = [\"\"\"\n",
        "Let x be the size of the installation in square feet.\n",
        "Costs:\n",
        "1. Land cost: 100x\n",
        "2. Solar panel cost: 250x\n",
        "3. Maintenance cost: 100,000 + 100x\n",
        "Total cost: 100x + 250x + 100,000 + 100x = 450x + 100,000\n",
        "\"\"\",\n",
        "\"\"\"\n",
        "Total cost = (100 + 250 + 10) * x + 100,000\n",
        "Total cost = 360x + 100,000\n",
        "\"\"\",\n",
        "\"\"\"\n",
        "Total cost = 100x + 250x + 10x\n",
        "Total cost = 360x\n",
        "\"\"\",\n",
        "\"\"\"\n",
        "First-year cost = (100 + 250) * x + 100,000\n",
        "First-year cost = 450x + 100,000\n",
        "\"\"\",\n",
        "\"\"\"\n",
        "Total = land + panels + maintenance\n",
        "= 100x + 250x + 100,000 + 10\n",
        "= 450x + 100,010\n",
        "\"\"\",\n",
        "\"\"\"\n",
        "Cost = 100x + 250x + (10x + 100,000)\n",
        "Cost = (360x + 100,000)\n",
        "\"\"\",\n",
        "]"
      ],
      "metadata": {
        "id": "K_XdbAFLPE-X"
      },
      "execution_count": null,
      "outputs": []
    },
    {
      "cell_type": "code",
      "source": [
        "len(student_answers)"
      ],
      "metadata": {
        "colab": {
          "base_uri": "https://localhost:8080/"
        },
        "id": "owkQjsOMTWsW",
        "outputId": "b48de0c1-08c3-4353-b1de-9be9702dad52"
      },
      "execution_count": null,
      "outputs": [
        {
          "output_type": "execute_result",
          "data": {
            "text/plain": [
              "6"
            ]
          },
          "metadata": {},
          "execution_count": 48
        }
      ]
    },
    {
      "cell_type": "code",
      "source": [
        "full_context = prompt_template.format_messages(question=question, student_solution=student_answers)\n",
        "print(full_context)"
      ],
      "metadata": {
        "colab": {
          "base_uri": "https://localhost:8080/"
        },
        "id": "7taJsNooP0Oa",
        "outputId": "32a3572f-c0f0-4a3f-b772-cf61c23c45da"
      },
      "execution_count": null,
      "outputs": [
        {
          "output_type": "stream",
          "name": "stdout",
          "text": [
            "[HumanMessage(content=\"\\nDetermine if the student's solution is correct or incorrect or partially correct. Loop on students' answers and make the output match the following format: \\nstudent_1 : correct\\nstudnt_2 : incorrect\\nstudent_3 : partially correct\\n...\\n\\nQuestion:\\nI'm building a solar power installation and I need  help working out the financials. \\n- Land costs $100 / square foot\\n- I can buy solar panels for $250 / square foot\\n- I negotiated a contract for maintenance that will cost \\\\ \\nme a flat $100k per year, and an additional $10 / square foot\\nWhat is the total cost for the first year of operations \\nas a function of the number of square feet.\\n\\nStudent's Solution:\\n['\\\\nLet x be the size of the installation in square feet.\\\\nCosts:\\\\n1. Land cost: 100x\\\\n2. Solar panel cost: 250x\\\\n3. Maintenance cost: 100,000 + 100x\\\\nTotal cost: 100x + 250x + 100,000 + 100x = 450x + 100,000\\\\n', ' \\\\nTotal cost = (100 + 250 + 10) * x + 100,000\\\\nTotal cost = 360x + 100,000\\\\n', '\\\\nTotal cost = 100x + 250x + 10x\\\\nTotal cost = 360x\\\\n', '\\\\nFirst-year cost = (100 + 250) * x + 100,000\\\\nFirst-year cost = 450x + 100,000\\\\n', '\\\\nTotal = land + panels + maintenance\\\\n= 100x + 250x + 100,000 + 10\\\\n= 450x + 100,010\\\\n', '\\\\nCost = 100x + 250x + (10x + 100,000)\\\\nCost = (360x + 100,000)\\\\n']\\n\", additional_kwargs={}, response_metadata={})]\n"
          ]
        }
      ]
    },
    {
      "cell_type": "code",
      "source": [
        "response = gemma_model(full_context)\n",
        "print(response)"
      ],
      "metadata": {
        "colab": {
          "base_uri": "https://localhost:8080/"
        },
        "id": "Y03B6ifQQV4f",
        "outputId": "b838fee7-4100-40e3-a081-95bce08a84aa"
      },
      "execution_count": null,
      "outputs": [
        {
          "output_type": "stream",
          "name": "stdout",
          "text": [
            "content=\"Here's the evaluation of each student's solution, formatted as requested:\\n\\nstudent_1 : correct\\nstudent_2 : partially correct\\nstudent_3 : incorrect\\nstudent_4 : correct\\nstudent_5 : partially correct\\nstudent_6 : partially correct\\n\\n**Explanation of the ratings:**\\n\\n*   **student\\\\_1: correct** - The solution correctly identifies all cost components and combines them to arrive at the total cost function.\\n*   **student\\\\_2: partially correct** - The solution correctly identifies the land and solar panel costs but incorrectly calculates the maintenance cost. It adds $10 instead of adding $10/square foot to the flat fee.\\n*   **student\\\\_3: incorrect** - The solution incorrectly calculates the maintenance cost. It only adds the $10/square foot cost without adding the flat fee of $100,000.\\n*   **student\\\\_4: correct** - The solution correctly identifies all cost components and combines them to arrive at the total cost function.\\n*   **student\\\\_5: partially correct** - The solution correctly identifies the land and solar panel costs and the flat maintenance cost, but it incorrectly adds $10 instead of adding $10/square foot to the flat fee.\\n*   **student\\\\_6: partially correct** - The solution correctly identifies the land, solar panel, and per-square-foot maintenance costs, but it incorrectly adds $10x instead of $10/square foot.\" additional_kwargs={'refusal': None} response_metadata={'token_usage': {'completion_tokens': 315, 'prompt_tokens': 525, 'total_tokens': 840, 'completion_tokens_details': None, 'prompt_tokens_details': None}, 'model_name': 'google/gemma-3n-e4b-it:free', 'system_fingerprint': None, 'id': 'gen-1748259100-cIPN5CeAR3qD5mB1hTs7', 'service_tier': None, 'finish_reason': 'stop', 'logprobs': None} id='run--4198b64a-e724-48d4-b84b-2b4e8e1bae53-0' usage_metadata={'input_tokens': 525, 'output_tokens': 315, 'total_tokens': 840, 'input_token_details': {}, 'output_token_details': {}}\n"
          ]
        }
      ]
    },
    {
      "cell_type": "code",
      "source": [
        "print(response.content)"
      ],
      "metadata": {
        "colab": {
          "base_uri": "https://localhost:8080/"
        },
        "id": "IbShd7-HQf3k",
        "outputId": "da3ee4bc-0f37-4a94-e654-6bf8e8e81e30"
      },
      "execution_count": null,
      "outputs": [
        {
          "output_type": "stream",
          "name": "stdout",
          "text": [
            "Here's the evaluation of each student's solution, formatted as requested:\n",
            "\n",
            "student_1 : correct\n",
            "student_2 : partially correct\n",
            "student_3 : incorrect\n",
            "student_4 : correct\n",
            "student_5 : partially correct\n",
            "student_6 : partially correct\n",
            "\n",
            "**Explanation of the ratings:**\n",
            "\n",
            "*   **student\\_1: correct** - The solution correctly identifies all cost components and combines them to arrive at the total cost function.\n",
            "*   **student\\_2: partially correct** - The solution correctly identifies the land and solar panel costs but incorrectly calculates the maintenance cost. It adds $10 instead of adding $10/square foot to the flat fee.\n",
            "*   **student\\_3: incorrect** - The solution incorrectly calculates the maintenance cost. It only adds the $10/square foot cost without adding the flat fee of $100,000.\n",
            "*   **student\\_4: correct** - The solution correctly identifies all cost components and combines them to arrive at the total cost function.\n",
            "*   **student\\_5: partially correct** - The solution correctly identifies the land and solar panel costs and the flat maintenance cost, but it incorrectly adds $10 instead of adding $10/square foot to the flat fee.\n",
            "*   **student\\_6: partially correct** - The solution correctly identifies the land, solar panel, and per-square-foot maintenance costs, but it incorrectly adds $10x instead of $10/square foot.\n"
          ]
        }
      ]
    },
    {
      "cell_type": "markdown",
      "source": [
        "## Case 3"
      ],
      "metadata": {
        "id": "hgDUxC4Ded3h"
      }
    },
    {
      "cell_type": "code",
      "source": [
        "prompt_template_string = \"\"\"\n",
        "Determine if the student's solution is correct or incorrect. Loop on students' answers list and make the output match the following format:\n",
        "student_1 : correct\n",
        "studnt_2 : incorrect\n",
        "...\n",
        "\n",
        "NOTE: the students_solution is a list which each value represents to a single student's solution. so check them all and match if the result is correct or incorrect.\n",
        "\n",
        "Question:\n",
        "{question}\n",
        "\n",
        "Student's Solution:\n",
        "{student_solution}\n",
        "\"\"\""
      ],
      "metadata": {
        "id": "F30IYLy5ecsU"
      },
      "execution_count": null,
      "outputs": []
    },
    {
      "cell_type": "code",
      "source": [
        "prompt_template = ChatPromptTemplate.from_template(prompt_template_string)\n",
        "prompt_template"
      ],
      "metadata": {
        "colab": {
          "base_uri": "https://localhost:8080/"
        },
        "outputId": "adab74e5-d98a-499d-af22-65ce3dbe3494",
        "id": "qXpoNV-ZecsU"
      },
      "execution_count": null,
      "outputs": [
        {
          "output_type": "execute_result",
          "data": {
            "text/plain": [
              "ChatPromptTemplate(input_variables=['question', 'student_solution'], input_types={}, partial_variables={}, messages=[HumanMessagePromptTemplate(prompt=PromptTemplate(input_variables=['question', 'student_solution'], input_types={}, partial_variables={}, template=\"\\nDetermine if the student's solution is correct or incorrect. Loop on students' answers list and make the output match the following format:\\nstudent_1 : correct\\nstudnt_2 : incorrect\\n...\\n\\nNOTE: the students_solution is a list which each value represents to a single student's solution. so check them all and match if the result is correct or incorrect. \\n\\nQuestion:\\n{question}\\n\\nStudent's Solution:\\n{student_solution}\\n\"), additional_kwargs={})])"
            ]
          },
          "metadata": {},
          "execution_count": 69
        }
      ]
    },
    {
      "cell_type": "code",
      "source": [
        "linear_equation = \"\"\"(2b+2)/2 = 3\"\"\"\n",
        "students_answers_equation = [2, 3, 0, 4, 1, 2, 6, -2, 2, 5]\n",
        "print(len(students_answers_equation))"
      ],
      "metadata": {
        "colab": {
          "base_uri": "https://localhost:8080/"
        },
        "id": "HfzXNp_lTQNA",
        "outputId": "5d8a3c78-220a-40d3-d0fa-cef1bf5f330b"
      },
      "execution_count": null,
      "outputs": [
        {
          "output_type": "stream",
          "name": "stdout",
          "text": [
            "10\n"
          ]
        }
      ]
    },
    {
      "cell_type": "code",
      "source": [
        "full_context = prompt_template.format_messages(question=linear_equation, student_solution=students_answers_equation)\n",
        "full_context"
      ],
      "metadata": {
        "colab": {
          "base_uri": "https://localhost:8080/"
        },
        "id": "BJ3txct8de6h",
        "outputId": "1975f51a-1986-45b2-ef4c-0df9a5875c82"
      },
      "execution_count": null,
      "outputs": [
        {
          "output_type": "execute_result",
          "data": {
            "text/plain": [
              "[HumanMessage(content=\"\\nDetermine if the student's solution is correct or incorrect. Loop on students' answers list and make the output match the following format:\\nstudent_1 : correct\\nstudnt_2 : incorrect\\n...\\n\\nNOTE: the students_solution is a list which each value represents to a single student's solution. so check them all and match if the result is correct or incorrect. \\n\\nQuestion:\\n(2b+2)/2 = 3\\n\\nStudent's Solution:\\n[2, 3, 0, 4, 1, 2, 6, -2, 2, 5]\\n\", additional_kwargs={}, response_metadata={})]"
            ]
          },
          "metadata": {},
          "execution_count": 71
        }
      ]
    },
    {
      "cell_type": "code",
      "source": [
        "response = gemma_model(full_context)\n",
        "print(response)"
      ],
      "metadata": {
        "colab": {
          "base_uri": "https://localhost:8080/"
        },
        "id": "tqiFqnqUdwuH",
        "outputId": "f0a4663f-d571-45ba-ed32-cd64986cc1ec"
      },
      "execution_count": null,
      "outputs": [
        {
          "output_type": "stream",
          "name": "stdout",
          "text": [
            "content=\"Here's the analysis of the student's solutions and the formatted output:\\n\\nThe question is: (2b+2)/2 = 3\\n\\nLet's check each number in the student's solution to see if it's a valid solution for 'b'.\\n\\n*   **2:** If b = 2, then (2*2 + 2) / 2 = (4 + 2) / 2 = 6 / 2 = 3.  This is correct.\\n*   **3:** If b = 3, then (2*3 + 2) / 2 = (6 + 2) / 2 = 8 / 2 = 4. This is incorrect.\\n*   **0:** If b = 0, then (2*0 + 2) / 2 = (0 + 2) / 2 = 2 / 2 = 1. This is incorrect.\\n*   **4:** If b = 4, then (2*4 + 2) / 2 = (8 + 2) / 2 = 10 / 2 = 5. This is incorrect.\\n*   **1:** If b = 1, then (2*1 + 2) / 2 = (2 + 2) / 2 = 4 / 2 = 2. This is incorrect.\\n*   **2:** If b = 2, then (2*2 + 2) / 2 = (4 + 2) / 2 = 6 / 2 = 3. This is correct.\\n*   **6:** If b = 6, then (2*6 + 2) / 2 = (12 + 2) / 2 = 14 / 2 = 7. This is incorrect.\\n*   **-2:** If b = -2, then (2*(-2) + 2) / 2 = (-4 + 2) / 2 = -2 / 2 = -1. This is incorrect.\\n*   **2:** If b = 2, then (2*2 + 2) / 2 = (4 + 2) / 2 = 6 / 2 = 3. This is correct.\\n*   **5:** If b = 5, then (2*5 + 2) / 2 = (10 + 2) / 2 = 12 / 2 = 6. This is incorrect.\\n\\nTherefore, the student's solution is a mix of correct and incorrect answers.\\n\\n```\\nstudent_1 : correct\\nstudent_2 : incorrect\\nstudent_3 : incorrect\\nstudent_4 : incorrect\\nstudent_5 : incorrect\\nstudent_6 : correct\\nstudent_7 : incorrect\\nstudent_8 : incorrect\\nstudent_9 : correct\\nstudent_10 : incorrect\\n```\" additional_kwargs={'refusal': None} response_metadata={'token_usage': {'completion_tokens': 514, 'prompt_tokens': 132, 'total_tokens': 646, 'completion_tokens_details': None, 'prompt_tokens_details': None}, 'model_name': 'google/gemma-3n-e4b-it:free', 'system_fingerprint': None, 'id': 'gen-1748261313-5hnQPFqLOUBqPlQ9M2Nr', 'service_tier': None, 'finish_reason': 'stop', 'logprobs': None} id='run--a1748157-21c6-4e2d-9a8d-c9556861d665-0' usage_metadata={'input_tokens': 132, 'output_tokens': 514, 'total_tokens': 646, 'input_token_details': {}, 'output_token_details': {}}\n"
          ]
        }
      ]
    },
    {
      "cell_type": "code",
      "source": [
        "print(response.content)"
      ],
      "metadata": {
        "colab": {
          "base_uri": "https://localhost:8080/"
        },
        "id": "50rNITBAd3D-",
        "outputId": "f8b585b0-1972-4fca-f30c-b8f75776cc0c"
      },
      "execution_count": null,
      "outputs": [
        {
          "output_type": "stream",
          "name": "stdout",
          "text": [
            "Here's the analysis of the student's solutions and the formatted output:\n",
            "\n",
            "The question is: (2b+2)/2 = 3\n",
            "\n",
            "Let's check each number in the student's solution to see if it's a valid solution for 'b'.\n",
            "\n",
            "*   **2:** If b = 2, then (2*2 + 2) / 2 = (4 + 2) / 2 = 6 / 2 = 3.  This is correct.\n",
            "*   **3:** If b = 3, then (2*3 + 2) / 2 = (6 + 2) / 2 = 8 / 2 = 4. This is incorrect.\n",
            "*   **0:** If b = 0, then (2*0 + 2) / 2 = (0 + 2) / 2 = 2 / 2 = 1. This is incorrect.\n",
            "*   **4:** If b = 4, then (2*4 + 2) / 2 = (8 + 2) / 2 = 10 / 2 = 5. This is incorrect.\n",
            "*   **1:** If b = 1, then (2*1 + 2) / 2 = (2 + 2) / 2 = 4 / 2 = 2. This is incorrect.\n",
            "*   **2:** If b = 2, then (2*2 + 2) / 2 = (4 + 2) / 2 = 6 / 2 = 3. This is correct.\n",
            "*   **6:** If b = 6, then (2*6 + 2) / 2 = (12 + 2) / 2 = 14 / 2 = 7. This is incorrect.\n",
            "*   **-2:** If b = -2, then (2*(-2) + 2) / 2 = (-4 + 2) / 2 = -2 / 2 = -1. This is incorrect.\n",
            "*   **2:** If b = 2, then (2*2 + 2) / 2 = (4 + 2) / 2 = 6 / 2 = 3. This is correct.\n",
            "*   **5:** If b = 5, then (2*5 + 2) / 2 = (10 + 2) / 2 = 12 / 2 = 6. This is incorrect.\n",
            "\n",
            "Therefore, the student's solution is a mix of correct and incorrect answers.\n",
            "\n",
            "```\n",
            "student_1 : correct\n",
            "student_2 : incorrect\n",
            "student_3 : incorrect\n",
            "student_4 : incorrect\n",
            "student_5 : incorrect\n",
            "student_6 : correct\n",
            "student_7 : incorrect\n",
            "student_8 : incorrect\n",
            "student_9 : correct\n",
            "student_10 : incorrect\n",
            "```\n"
          ]
        }
      ]
    },
    {
      "cell_type": "markdown",
      "source": [
        "> The output is correct but let's change the prompt itself and see how that will affect on the output"
      ],
      "metadata": {
        "id": "sr1uBCQMf9AA"
      }
    },
    {
      "cell_type": "code",
      "source": [
        "prompt_template_string = \"\"\"\n",
        "You are given a math equation and a list of student answers.\n",
        "Your tasks are:\n",
        "1. Solve the equation to find the correct value of the variable (e.g., b).\n",
        "2. Compare each student's answer to that value.\n",
        "3. Output whether each student's answer is correct or incorrect.\n",
        "\n",
        "Rules:\n",
        "- Student answers represent their proposed value for the variable.\n",
        "- The correct answer is the value of the variable that satisfies the equation.\n",
        "- Do NOT evaluate the left-hand side of the equation as the answer — solve for the variable.\n",
        "\n",
        "\n",
        "Output format:\n",
        "student_1: student answer, correct\n",
        "student_2: student answer, incorrect\n",
        "...\n",
        "\n",
        "Question:\n",
        "{question}\n",
        "\n",
        "Student Solutions (list of numbers representing proposed values of the variable):\n",
        "{student_solution}\n",
        "\"\"\"\n"
      ],
      "metadata": {
        "id": "H8TTAoBvf0gl"
      },
      "execution_count": null,
      "outputs": []
    },
    {
      "cell_type": "code",
      "source": [
        "prompt_template = ChatPromptTemplate.from_template(prompt_template_string)\n",
        "prompt_template"
      ],
      "metadata": {
        "colab": {
          "base_uri": "https://localhost:8080/"
        },
        "outputId": "66656a7e-6f54-482c-bbe7-65b02d3a74c8",
        "id": "cWxE9wkugow2"
      },
      "execution_count": null,
      "outputs": [
        {
          "output_type": "execute_result",
          "data": {
            "text/plain": [
              "ChatPromptTemplate(input_variables=['question', 'student_solution'], input_types={}, partial_variables={}, messages=[HumanMessagePromptTemplate(prompt=PromptTemplate(input_variables=['question', 'student_solution'], input_types={}, partial_variables={}, template=\"\\nYou are given a math equation and a list of student answers. \\nYour tasks are:\\n1. Solve the equation to find the correct value of the variable (e.g., b).\\n2. Compare each student's answer to that value.\\n3. Output whether each student's answer is correct or incorrect.\\n\\nRules:\\n- Student answers represent their proposed value for the variable.\\n- The correct answer is the value of the variable that satisfies the equation.\\n- Do NOT evaluate the left-hand side of the equation as the answer — solve for the variable.\\n\\n\\nOutput format:\\nstudent_1: student answer, correct\\nstudent_2: student answer, incorrect\\n...\\n\\nQuestion:\\n{question}\\n\\nStudent Solutions (list of numbers representing proposed values of the variable):\\n{student_solution}\\n\"), additional_kwargs={})])"
            ]
          },
          "metadata": {},
          "execution_count": 131
        }
      ]
    },
    {
      "cell_type": "code",
      "source": [
        "full_context = prompt_template.format_messages(question=linear_equation, student_solution=students_answers_equation)\n",
        "full_context"
      ],
      "metadata": {
        "colab": {
          "base_uri": "https://localhost:8080/"
        },
        "outputId": "ef856e35-ce5b-4581-e598-36a76ae0e00d",
        "id": "TlOWqpLWgow2"
      },
      "execution_count": null,
      "outputs": [
        {
          "output_type": "execute_result",
          "data": {
            "text/plain": [
              "[HumanMessage(content=\"\\nYou are given a math equation and a list of student answers. \\nYour tasks are:\\n1. Solve the equation to find the correct value of the variable (e.g., b).\\n2. Compare each student's answer to that value.\\n3. Output whether each student's answer is correct or incorrect.\\n\\nRules:\\n- Student answers represent their proposed value for the variable.\\n- The correct answer is the value of the variable that satisfies the equation.\\n- Do NOT evaluate the left-hand side of the equation as the answer — solve for the variable.\\n\\n\\nOutput format:\\nstudent_1: student answer, correct\\nstudent_2: student answer, incorrect\\n...\\n\\nQuestion:\\n(2b+2)/2 = 3\\n\\nStudent Solutions (list of numbers representing proposed values of the variable):\\n[2, 3, 0, 4, 1, 2, 6, -2, 2, 5]\\n\", additional_kwargs={}, response_metadata={})]"
            ]
          },
          "metadata": {},
          "execution_count": 132
        }
      ]
    },
    {
      "cell_type": "code",
      "source": [
        "response = gemma_model(full_context)\n",
        "print(response)"
      ],
      "metadata": {
        "colab": {
          "base_uri": "https://localhost:8080/"
        },
        "outputId": "fa7f6fca-6be7-4659-ec98-84030a0fba00",
        "id": "p06Kt2Cqgow2"
      },
      "execution_count": null,
      "outputs": [
        {
          "output_type": "stream",
          "name": "stdout",
          "text": [
            "content=\"Here's the solution and the output, following the specified rules:\\n\\n**1. Solve the equation:**\\n\\n(2b + 2) / 2 = 3\\n\\nMultiply both sides by 2:\\n\\n2b + 2 = 6\\n\\nSubtract 2 from both sides:\\n\\n2b = 4\\n\\nDivide both sides by 2:\\n\\nb = 2\\n\\n**2. Compare student answers to the correct value (b=2):**\\n\\n*   Student 1: 2 - Correct\\n*   Student 2: 3 - Incorrect\\n*   Student 3: 0 - Incorrect\\n*   Student 4: 4 - Incorrect\\n*   Student 5: 1 - Incorrect\\n*   Student 6: 2 - Correct\\n*   Student 7: 6 - Incorrect\\n*   Student 8: -2 - Incorrect\\n*   Student 9: 2 - Correct\\n*   Student 10: 5 - Incorrect\\n\\n**3. Output:**\\n\\nstudent_1: 2, correct\\nstudent_2: 3, incorrect\\nstudent_3: 0, incorrect\\nstudent_4: 4, incorrect\\nstudent_5: 1, incorrect\\nstudent_6: 2, correct\\nstudent_7: 6, incorrect\\nstudent_8: -2, incorrect\\nstudent_9: 2, correct\\nstudent_10: 5, incorrect\\n\" additional_kwargs={'refusal': None} response_metadata={'token_usage': {'completion_tokens': 227, 'prompt_tokens': 206, 'total_tokens': 433, 'completion_tokens_details': None, 'prompt_tokens_details': None}, 'model_name': 'google/gemma-3n-e4b-it:free', 'system_fingerprint': None, 'id': 'gen-1748262596-C0sIh3ZvVkm2BIbBkKXF', 'service_tier': None, 'finish_reason': 'stop', 'logprobs': None} id='run--0915947c-d828-47e0-bf34-03e0cc785c66-0' usage_metadata={'input_tokens': 206, 'output_tokens': 227, 'total_tokens': 433, 'input_token_details': {}, 'output_token_details': {}}\n"
          ]
        }
      ]
    },
    {
      "cell_type": "code",
      "source": [
        "print(response.content)"
      ],
      "metadata": {
        "colab": {
          "base_uri": "https://localhost:8080/"
        },
        "outputId": "9b83be4d-aaea-4f84-a0a9-3b41dda75a13",
        "id": "fyg_x_msgow3"
      },
      "execution_count": null,
      "outputs": [
        {
          "output_type": "stream",
          "name": "stdout",
          "text": [
            "Here's the solution and the output, following the specified rules:\n",
            "\n",
            "**1. Solve the equation:**\n",
            "\n",
            "(2b + 2) / 2 = 3\n",
            "\n",
            "Multiply both sides by 2:\n",
            "\n",
            "2b + 2 = 6\n",
            "\n",
            "Subtract 2 from both sides:\n",
            "\n",
            "2b = 4\n",
            "\n",
            "Divide both sides by 2:\n",
            "\n",
            "b = 2\n",
            "\n",
            "**2. Compare student answers to the correct value (b=2):**\n",
            "\n",
            "*   Student 1: 2 - Correct\n",
            "*   Student 2: 3 - Incorrect\n",
            "*   Student 3: 0 - Incorrect\n",
            "*   Student 4: 4 - Incorrect\n",
            "*   Student 5: 1 - Incorrect\n",
            "*   Student 6: 2 - Correct\n",
            "*   Student 7: 6 - Incorrect\n",
            "*   Student 8: -2 - Incorrect\n",
            "*   Student 9: 2 - Correct\n",
            "*   Student 10: 5 - Incorrect\n",
            "\n",
            "**3. Output:**\n",
            "\n",
            "student_1: 2, correct\n",
            "student_2: 3, incorrect\n",
            "student_3: 0, incorrect\n",
            "student_4: 4, incorrect\n",
            "student_5: 1, incorrect\n",
            "student_6: 2, correct\n",
            "student_7: 6, incorrect\n",
            "student_8: -2, incorrect\n",
            "student_9: 2, correct\n",
            "student_10: 5, incorrect\n",
            "\n"
          ]
        }
      ]
    },
    {
      "cell_type": "code",
      "source": [
        "student_answers_equation"
      ],
      "metadata": {
        "colab": {
          "base_uri": "https://localhost:8080/"
        },
        "id": "617y0xehg1Li",
        "outputId": "6b25a1bf-cccf-449f-a450-8ec432cdafea"
      },
      "execution_count": null,
      "outputs": [
        {
          "output_type": "execute_result",
          "data": {
            "text/plain": [
              "[2, 3, 0, 4, 1, 2, 6, -2, 2, 5]"
            ]
          },
          "metadata": {},
          "execution_count": 96
        }
      ]
    },
    {
      "cell_type": "code",
      "source": [],
      "metadata": {
        "id": "A92YX6q5hqsn"
      },
      "execution_count": null,
      "outputs": []
    }
  ]
}