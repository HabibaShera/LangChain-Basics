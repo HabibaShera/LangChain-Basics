{
  "nbformat": 4,
  "nbformat_minor": 0,
  "metadata": {
    "colab": {
      "provenance": [],
      "authorship_tag": "ABX9TyMcGSXnB1VCGRDUyRVIGeUJ",
      "include_colab_link": true
    },
    "kernelspec": {
      "name": "python3",
      "display_name": "Python 3"
    },
    "language_info": {
      "name": "python"
    }
  },
  "cells": [
    {
      "cell_type": "markdown",
      "metadata": {
        "id": "view-in-github",
        "colab_type": "text"
      },
      "source": [
        "<a href=\"https://colab.research.google.com/github/HabibaShera/LangChain-Basics/blob/main/LangChain_Output_Parsing.ipynb\" target=\"_parent\"><img src=\"https://colab.research.google.com/assets/colab-badge.svg\" alt=\"Open In Colab\"/></a>"
      ]
    },
    {
      "cell_type": "code",
      "execution_count": 1,
      "metadata": {
        "colab": {
          "base_uri": "https://localhost:8080/"
        },
        "id": "9TKTeMoABpjj",
        "outputId": "66551864-ecc9-47a7-e9ca-fb3eb0c10101"
      },
      "outputs": [
        {
          "output_type": "stream",
          "name": "stdout",
          "text": [
            "\u001b[2K   \u001b[90m━━━━━━━━━━━━━━━━━━━━━━━━━━━━━━━━━━━━━━━━\u001b[0m \u001b[32m63.4/63.4 kB\u001b[0m \u001b[31m1.4 MB/s\u001b[0m eta \u001b[36m0:00:00\u001b[0m\n",
            "\u001b[2K   \u001b[90m━━━━━━━━━━━━━━━━━━━━━━━━━━━━━━━━━━━━━━━━\u001b[0m \u001b[32m438.4/438.4 kB\u001b[0m \u001b[31m5.4 MB/s\u001b[0m eta \u001b[36m0:00:00\u001b[0m\n",
            "\u001b[?25h"
          ]
        }
      ],
      "source": [
        "!pip install langchain langchain-openai -q"
      ]
    },
    {
      "cell_type": "code",
      "source": [
        "from langchain_openai import ChatOpenAI\n",
        "from langchain.prompts import ChatPromptTemplate"
      ],
      "metadata": {
        "id": "MB0gJdysDIEP"
      },
      "execution_count": 2,
      "outputs": []
    },
    {
      "cell_type": "code",
      "source": [
        "import getpass\n",
        "import os\n",
        "\n",
        "key = getpass.getpass(\"Enter you Secret API Key:\")"
      ],
      "metadata": {
        "colab": {
          "base_uri": "https://localhost:8080/"
        },
        "id": "TU0FAvYDDMCA",
        "outputId": "364b2581-509e-4a66-cb2c-1977b1b7fef0"
      },
      "execution_count": 3,
      "outputs": [
        {
          "name": "stdout",
          "output_type": "stream",
          "text": [
            "Enter you Secret API Key:··········\n"
          ]
        }
      ]
    },
    {
      "cell_type": "markdown",
      "source": [
        "## Case 1"
      ],
      "metadata": {
        "id": "hy_LW5m0R6fs"
      }
    },
    {
      "cell_type": "code",
      "source": [
        "customer_review = \"\"\"\\\n",
        "This leaf blower is pretty amazing.  It has four settings:\\\n",
        "candle blower, gentle breeze, windy city, and tornado. \\\n",
        "It arrived in two days, just in time for my wife's \\\n",
        "anniversary present. \\\n",
        "I think my wife liked it so much she was speechless. \\\n",
        "So far I've been the only one using it, and I've been \\\n",
        "using it every other morning to clear the leaves on our lawn. \\\n",
        "It's slightly more expensive than the other leaf blowers \\\n",
        "out there, but I think it's worth it for the extra features.\n",
        "\"\"\"\n",
        "\n",
        "review_template = \"\"\"\\\n",
        "For the following text, extract the following information:\n",
        "\n",
        "gift: Was the item purchased as a gift for someone else? \\\n",
        "Answer True if yes, False if not or unknown.\n",
        "\n",
        "delivery_days: How many days did it take for the product \\\n",
        "to arrive? If this information is not found, output -1.\n",
        "\n",
        "price_value: Extract any sentences about the value or price,\\\n",
        "and output them as a comma separated Python list.\n",
        "\n",
        "Format the output as JSON with the following keys:\n",
        "gift\n",
        "delivery_days\n",
        "price_value\n",
        "\n",
        "text: {text}\n",
        "\"\"\""
      ],
      "metadata": {
        "id": "e2cmhQw5DlJ5"
      },
      "execution_count": 30,
      "outputs": []
    },
    {
      "cell_type": "code",
      "source": [
        "prompt_template = ChatPromptTemplate.from_template(review_template)\n",
        "print(prompt_template)"
      ],
      "metadata": {
        "colab": {
          "base_uri": "https://localhost:8080/"
        },
        "id": "9yqNvK3GEprH",
        "outputId": "f33c2e6a-b169-48a8-b969-f6cd66d48979"
      },
      "execution_count": 31,
      "outputs": [
        {
          "output_type": "stream",
          "name": "stdout",
          "text": [
            "input_variables=['text'] input_types={} partial_variables={} messages=[HumanMessagePromptTemplate(prompt=PromptTemplate(input_variables=['text'], input_types={}, partial_variables={}, template='For the following text, extract the following information:\\n\\ngift: Was the item purchased as a gift for someone else? Answer True if yes, False if not or unknown.\\n\\ndelivery_days: How many days did it take for the product to arrive? If this information is not found, output -1.\\n\\nprice_value: Extract any sentences about the value or price,and output them as a comma separated Python list.\\n\\nFormat the output as JSON with the following keys:\\ngift\\ndelivery_days\\nprice_value\\n\\ntext: {text}\\n'), additional_kwargs={})]\n"
          ]
        }
      ]
    },
    {
      "cell_type": "code",
      "source": [
        "gemma_model = ChatOpenAI(\n",
        "    openai_api_key=key,\n",
        "    openai_api_base=\"https://openrouter.ai/api/v1\",\n",
        "    model=\"google/gemma-3n-e4b-it:free\",\n",
        "    temperature=0.0,\n",
        ")"
      ],
      "metadata": {
        "id": "oCraJzE2E8gQ"
      },
      "execution_count": 4,
      "outputs": []
    },
    {
      "cell_type": "code",
      "source": [
        "messages = prompt_template.format_messages(text=customer_review)\n",
        "response = gemma_model(messages)"
      ],
      "metadata": {
        "id": "5Cb4JYlkFDud",
        "colab": {
          "base_uri": "https://localhost:8080/"
        },
        "outputId": "7b437d04-cc37-4634-f6f5-a34a51e17d74"
      },
      "execution_count": 7,
      "outputs": [
        {
          "output_type": "stream",
          "name": "stderr",
          "text": [
            "<ipython-input-7-a3e752576580>:2: LangChainDeprecationWarning: The method `BaseChatModel.__call__` was deprecated in langchain-core 0.1.7 and will be removed in 1.0. Use :meth:`~invoke` instead.\n",
            "  response = gemma_model(messages)\n"
          ]
        }
      ]
    },
    {
      "cell_type": "code",
      "source": [
        "print(response.content)"
      ],
      "metadata": {
        "id": "YJRMy9npFDoQ",
        "colab": {
          "base_uri": "https://localhost:8080/"
        },
        "outputId": "0d9f823f-b79a-4e25-a8ce-0094f67b873d"
      },
      "execution_count": 8,
      "outputs": [
        {
          "output_type": "stream",
          "name": "stdout",
          "text": [
            "```json\n",
            "{\n",
            "  \"gift\": true,\n",
            "  \"delivery_days\": 2,\n",
            "  \"price_value\": [\n",
            "    \"It's slightly more expensive than the other leaf blowers out there, but I think it's worth it for the extra features.\"\n",
            "  ]\n",
            "}\n",
            "```\n"
          ]
        }
      ]
    },
    {
      "cell_type": "code",
      "source": [
        "type(response.content)"
      ],
      "metadata": {
        "id": "JrXrCmLTFDnT",
        "colab": {
          "base_uri": "https://localhost:8080/"
        },
        "outputId": "58f8b5c9-9448-4153-df78-7913df7564bf"
      },
      "execution_count": 9,
      "outputs": [
        {
          "output_type": "execute_result",
          "data": {
            "text/plain": [
              "str"
            ]
          },
          "metadata": {},
          "execution_count": 9
        }
      ]
    },
    {
      "cell_type": "markdown",
      "source": [
        ">NOTE: We already define the output format which is JSON, but what found is str"
      ],
      "metadata": {
        "id": "5nLUey7jTP9A"
      }
    },
    {
      "cell_type": "code",
      "source": [
        "from langchain.output_parsers import ResponseSchema\n",
        "from langchain.output_parsers import StructuredOutputParser\n",
        "\n",
        "\n",
        "gift_schema = ResponseSchema(name=\"gift\",\n",
        "                             description=\"Was the item purchased\\\n",
        "                             as a gift for someone else? \\\n",
        "                             Answer True if yes,\\\n",
        "                             False if not or unknown.\")\n",
        "delivery_days_schema = ResponseSchema(name=\"delivery_days\",\n",
        "                                      description=\"How many days\\\n",
        "                                      did it take for the product\\\n",
        "                                      to arrive? If this \\\n",
        "                                      information is not found,\\\n",
        "                                      output -1.\")\n",
        "price_value_schema = ResponseSchema(name=\"price_value\",\n",
        "                                    description=\"Extract any\\\n",
        "                                    sentences about the value or \\\n",
        "                                    price, and output them as a \\\n",
        "                                    comma separated Python list.\")\n",
        "\n",
        "response_schemas = [gift_schema,\n",
        "                    delivery_days_schema,\n",
        "                    price_value_schema]"
      ],
      "metadata": {
        "id": "Prc0hU55Ta3E"
      },
      "execution_count": 33,
      "outputs": []
    },
    {
      "cell_type": "code",
      "source": [
        "output_parser = StructuredOutputParser.from_response_schemas(response_schemas)\n",
        "format_instructions = output_parser.get_format_instructions()\n",
        "print(format_instructions)"
      ],
      "metadata": {
        "colab": {
          "base_uri": "https://localhost:8080/"
        },
        "id": "QcHevDHJTakf",
        "outputId": "839ac307-db92-4336-f261-51d7466488b9"
      },
      "execution_count": 34,
      "outputs": [
        {
          "output_type": "stream",
          "name": "stdout",
          "text": [
            "The output should be a markdown code snippet formatted in the following schema, including the leading and trailing \"```json\" and \"```\":\n",
            "\n",
            "```json\n",
            "{\n",
            "\t\"gift\": string  // Was the item purchased                             as a gift for someone else?                              Answer True if yes,                             False if not or unknown.\n",
            "\t\"delivery_days\": string  // How many days                                      did it take for the product                                      to arrive? If this                                       information is not found,                                      output -1.\n",
            "\t\"price_value\": string  // Extract any                                    sentences about the value or                                     price, and output them as a                                     comma separated Python list.\n",
            "}\n",
            "```\n"
          ]
        }
      ]
    },
    {
      "cell_type": "code",
      "source": [
        "review_template_2 = \"\"\"\\\n",
        "For the following text, extract the following information:\n",
        "\n",
        "gift: Was the item purchased as a gift for someone else? \\\n",
        "Answer True if yes, False if not or unknown.\n",
        "\n",
        "delivery_days: How many days did it take for the product\\\n",
        "to arrive? If this information is not found, output -1.\n",
        "\n",
        "price_value: Extract any sentences about the value or price,\\\n",
        "and output them as a comma separated Python list.\n",
        "\n",
        "text: {text}\n",
        "\n",
        "{format_instructions}\n",
        "\"\"\"\n",
        "\n",
        "prompt = ChatPromptTemplate.from_template(template=review_template_2)\n",
        "\n",
        "messages = prompt.format_messages(text=customer_review,\n",
        "                                format_instructions=format_instructions)"
      ],
      "metadata": {
        "id": "F0fUxSq8TaeW"
      },
      "execution_count": 35,
      "outputs": []
    },
    {
      "cell_type": "code",
      "source": [
        "messages"
      ],
      "metadata": {
        "colab": {
          "base_uri": "https://localhost:8080/"
        },
        "id": "2QLi69BvTODk",
        "outputId": "120d8e42-d1c4-4b53-8109-3c924efda43f"
      },
      "execution_count": 36,
      "outputs": [
        {
          "output_type": "execute_result",
          "data": {
            "text/plain": [
              "[HumanMessage(content='For the following text, extract the following information:\\n\\ngift: Was the item purchased as a gift for someone else? Answer True if yes, False if not or unknown.\\n\\ndelivery_days: How many days did it take for the productto arrive? If this information is not found, output -1.\\n\\nprice_value: Extract any sentences about the value or price,and output them as a comma separated Python list.\\n\\ntext: This leaf blower is pretty amazing.  It has four settings:candle blower, gentle breeze, windy city, and tornado. It arrived in two days, just in time for my wife\\'s anniversary present. I think my wife liked it so much she was speechless. So far I\\'ve been the only one using it, and I\\'ve been using it every other morning to clear the leaves on our lawn. It\\'s slightly more expensive than the other leaf blowers out there, but I think it\\'s worth it for the extra features.\\n\\n\\nThe output should be a markdown code snippet formatted in the following schema, including the leading and trailing \"```json\" and \"```\":\\n\\n```json\\n{\\n\\t\"gift\": string  // Was the item purchased                             as a gift for someone else?                              Answer True if yes,                             False if not or unknown.\\n\\t\"delivery_days\": string  // How many days                                      did it take for the product                                      to arrive? If this                                       information is not found,                                      output -1.\\n\\t\"price_value\": string  // Extract any                                    sentences about the value or                                     price, and output them as a                                     comma separated Python list.\\n}\\n```\\n', additional_kwargs={}, response_metadata={})]"
            ]
          },
          "metadata": {},
          "execution_count": 36
        }
      ]
    },
    {
      "cell_type": "code",
      "source": [
        "response = gemma_model(messages)"
      ],
      "metadata": {
        "id": "SJjWYRISWmg2"
      },
      "execution_count": 37,
      "outputs": []
    },
    {
      "cell_type": "code",
      "source": [
        "print(response.content)"
      ],
      "metadata": {
        "colab": {
          "base_uri": "https://localhost:8080/"
        },
        "id": "tpBv-Y0wWwom",
        "outputId": "33a01c3b-bf57-4483-dcf5-12d9356ee4cc"
      },
      "execution_count": 38,
      "outputs": [
        {
          "output_type": "stream",
          "name": "stdout",
          "text": [
            "```json\n",
            "{\n",
            "\t\"gift\": \"True\",\n",
            "\t\"delivery_days\": \"2\",\n",
            "\t\"price_value\": \"It's slightly more expensive than the other leaf blowers out there, but I think it's worth it for the extra features.\"\n",
            "}\n",
            "```\n"
          ]
        }
      ]
    },
    {
      "cell_type": "code",
      "source": [
        "print(type(response.content))"
      ],
      "metadata": {
        "colab": {
          "base_uri": "https://localhost:8080/"
        },
        "id": "8g6EdoYOWyrO",
        "outputId": "0d45c84b-f1af-4d6f-9387-3478a6b130ee"
      },
      "execution_count": 39,
      "outputs": [
        {
          "output_type": "stream",
          "name": "stdout",
          "text": [
            "<class 'str'>\n"
          ]
        }
      ]
    },
    {
      "cell_type": "code",
      "source": [
        "final_output = output_parser.parse(response.content)\n",
        "final_output"
      ],
      "metadata": {
        "colab": {
          "base_uri": "https://localhost:8080/"
        },
        "id": "ca1Z_Y_hW1LJ",
        "outputId": "d65d72bf-43f5-43d8-8db4-7d78a0bf3d23"
      },
      "execution_count": 40,
      "outputs": [
        {
          "output_type": "execute_result",
          "data": {
            "text/plain": [
              "{'gift': 'True',\n",
              " 'delivery_days': '2',\n",
              " 'price_value': \"It's slightly more expensive than the other leaf blowers out there, but I think it's worth it for the extra features.\"}"
            ]
          },
          "metadata": {},
          "execution_count": 40
        }
      ]
    },
    {
      "cell_type": "code",
      "source": [
        "final_output.get('price_value')"
      ],
      "metadata": {
        "colab": {
          "base_uri": "https://localhost:8080/",
          "height": 35
        },
        "id": "cFQd5XuMXA7v",
        "outputId": "2acf4852-d153-4907-e4b1-6b80f3137f78"
      },
      "execution_count": 41,
      "outputs": [
        {
          "output_type": "execute_result",
          "data": {
            "text/plain": [
              "\"It's slightly more expensive than the other leaf blowers out there, but I think it's worth it for the extra features.\""
            ],
            "application/vnd.google.colaboratory.intrinsic+json": {
              "type": "string"
            }
          },
          "metadata": {},
          "execution_count": 41
        }
      ]
    },
    {
      "cell_type": "markdown",
      "source": [
        "# Case 2"
      ],
      "metadata": {
        "id": "qghd6yfJSMf4"
      }
    },
    {
      "cell_type": "code",
      "source": [
        "from langchain.output_parsers import ResponseSchema\n",
        "from langchain.output_parsers import StructuredOutputParser\n",
        "\n",
        "\n",
        "review_schema = ResponseSchema(name=\"review\", description=\"customer review\")\n",
        "sentiment_schema = ResponseSchema(name=\"sentiment\", description=\"sentiment analysis for the customer review, Is that positive or negative or neutral?\")\n",
        "response_schemas = [review_schema,\n",
        "                    sentiment_schema]"
      ],
      "metadata": {
        "id": "F-CWKNjnTTs-"
      },
      "execution_count": 5,
      "outputs": []
    },
    {
      "cell_type": "code",
      "source": [
        "output_parser = StructuredOutputParser.from_response_schemas(response_schemas)\n",
        "format_instructions = output_parser.get_format_instructions()\n",
        "print(format_instructions)"
      ],
      "metadata": {
        "colab": {
          "base_uri": "https://localhost:8080/"
        },
        "id": "W7sIOLnTU8x6",
        "outputId": "63eeb24d-be2d-4977-8948-423e3eab99ef"
      },
      "execution_count": 6,
      "outputs": [
        {
          "output_type": "stream",
          "name": "stdout",
          "text": [
            "The output should be a markdown code snippet formatted in the following schema, including the leading and trailing \"```json\" and \"```\":\n",
            "\n",
            "```json\n",
            "{\n",
            "\t\"review\": string  // customer review\n",
            "\t\"sentiment\": string  // sentiment analysis for the customer review, Is that positive or negative or neutral?\n",
            "}\n",
            "```\n"
          ]
        }
      ]
    },
    {
      "cell_type": "code",
      "source": [
        "main_prompt = \"\"\"Determine the sentiment (positive, negative, or neutral) for each of the following customer reviews.\n",
        "Output a JSON format where each item has the following keys:\n",
        "- review: the original customer review\n",
        "- sentiment: the sentiment analysis result\n",
        "\n",
        "Reviews:\n",
        "{reviews}\n",
        "\n",
        "{format_instructions}\n",
        "\"\"\""
      ],
      "metadata": {
        "id": "I-3NrsXOXKNR"
      },
      "execution_count": 7,
      "outputs": []
    },
    {
      "cell_type": "code",
      "source": [
        "prompt_template = ChatPromptTemplate.from_template(main_prompt)\n",
        "print(prompt_template)"
      ],
      "metadata": {
        "colab": {
          "base_uri": "https://localhost:8080/"
        },
        "id": "gmVAJo8lSoJQ",
        "outputId": "5ede3be9-7ad7-4de6-a90f-08765adbaeac"
      },
      "execution_count": 8,
      "outputs": [
        {
          "output_type": "stream",
          "name": "stdout",
          "text": [
            "input_variables=['format_instructions', 'reviews'] input_types={} partial_variables={} messages=[HumanMessagePromptTemplate(prompt=PromptTemplate(input_variables=['format_instructions', 'reviews'], input_types={}, partial_variables={}, template='Determine the sentiment (positive, negative, or neutral) for each of the following customer reviews.\\nOutput a JSON format where each item has the following keys:\\n- review: the original customer review\\n- sentiment: the sentiment analysis result\\n\\nReviews:\\n{reviews}\\n\\n{format_instructions}\\n'), additional_kwargs={})]\n"
          ]
        }
      ]
    },
    {
      "cell_type": "code",
      "source": [
        "customer_reviews = [\n",
        "    \"Absolutely loved this book! The plot twists kept me hooked till the last page.\",\n",
        "    \"The story started off strong but got a bit slow in the middle. Still a decent read.\",\n",
        "    \"Not what I expected. Characters felt flat and the ending was rushed.\",\n",
        "    \"I bought this as a gift for my sister and she couldn't put it down. Worth every penny!\",\n",
        "    \"Took a while to arrive, but the book was in great condition and the content was excellent.\",\n",
        "    \"The price was a bit high compared to similar books, but the writing quality justifies it.\",\n",
        "    \"This book changed my perspective on so many things. Highly recommended for deep thinkers.\",\n",
        "    \"Some typos here and there, but the overall message and storytelling were beautiful.\",\n",
        "    \"A friend recommended this and I wasn't disappointed. Finished it in two days!\",\n",
        "    \"Too much filler content. Could have been half the length and just as effective.\"\n",
        "]"
      ],
      "metadata": {
        "id": "4gQ2zE80T7_Z"
      },
      "execution_count": 9,
      "outputs": []
    },
    {
      "cell_type": "code",
      "source": [
        "messages = prompt_template.format_messages(reviews=customer_reviews, format_instructions=format_instructions)\n",
        "print(messages)"
      ],
      "metadata": {
        "colab": {
          "base_uri": "https://localhost:8080/"
        },
        "id": "3PRwF71TU8wg",
        "outputId": "637a50d7-28d1-4e39-b631-02d59b6a97e6"
      },
      "execution_count": 10,
      "outputs": [
        {
          "output_type": "stream",
          "name": "stdout",
          "text": [
            "[HumanMessage(content='Determine the sentiment (positive, negative, or neutral) for each of the following customer reviews.\\nOutput a JSON format where each item has the following keys:\\n- review: the original customer review\\n- sentiment: the sentiment analysis result\\n\\nReviews:\\n[\\'Absolutely loved this book! The plot twists kept me hooked till the last page.\\', \\'The story started off strong but got a bit slow in the middle. Still a decent read.\\', \\'Not what I expected. Characters felt flat and the ending was rushed.\\', \"I bought this as a gift for my sister and she couldn\\'t put it down. Worth every penny!\", \\'Took a while to arrive, but the book was in great condition and the content was excellent.\\', \\'The price was a bit high compared to similar books, but the writing quality justifies it.\\', \\'This book changed my perspective on so many things. Highly recommended for deep thinkers.\\', \\'Some typos here and there, but the overall message and storytelling were beautiful.\\', \"A friend recommended this and I wasn\\'t disappointed. Finished it in two days!\", \\'Too much filler content. Could have been half the length and just as effective.\\']\\n\\nThe output should be a markdown code snippet formatted in the following schema, including the leading and trailing \"```json\" and \"```\":\\n\\n```json\\n{\\n\\t\"review\": string  // customer review\\n\\t\"sentiment\": string  // sentiment analysis for the customer review, Is that positive or negative or neutral?\\n}\\n```\\n', additional_kwargs={}, response_metadata={})]\n"
          ]
        }
      ]
    },
    {
      "cell_type": "code",
      "source": [
        "response = gemma_model(messages)"
      ],
      "metadata": {
        "colab": {
          "base_uri": "https://localhost:8080/"
        },
        "id": "FcHBDKiuV6_0",
        "outputId": "674b7f1c-17a1-4815-c129-a07bcaf624b7"
      },
      "execution_count": 11,
      "outputs": [
        {
          "output_type": "stream",
          "name": "stderr",
          "text": [
            "<ipython-input-11-d33ba93d5365>:1: LangChainDeprecationWarning: The method `BaseChatModel.__call__` was deprecated in langchain-core 0.1.7 and will be removed in 1.0. Use :meth:`~invoke` instead.\n",
            "  response = gemma_model(messages)\n"
          ]
        }
      ]
    },
    {
      "cell_type": "code",
      "source": [
        "print(response.content)"
      ],
      "metadata": {
        "colab": {
          "base_uri": "https://localhost:8080/"
        },
        "id": "e7BUe2DIWB4n",
        "outputId": "9cb23da7-5519-4b0d-c7ba-f0cfbb9bb66e"
      },
      "execution_count": 12,
      "outputs": [
        {
          "output_type": "stream",
          "name": "stdout",
          "text": [
            "```json\n",
            "[\n",
            "  {\n",
            "    \"review\": \"Absolutely loved this book! The plot twists kept me hooked till the last page.\",\n",
            "    \"sentiment\": \"positive\"\n",
            "  },\n",
            "  {\n",
            "    \"review\": \"The story started off strong but got a bit slow in the middle. Still a decent read.\",\n",
            "    \"sentiment\": \"neutral\"\n",
            "  },\n",
            "  {\n",
            "    \"review\": \"Not what I expected. Characters felt flat and the ending was rushed.\",\n",
            "    \"sentiment\": \"negative\"\n",
            "  },\n",
            "  {\n",
            "    \"review\": \"I bought this as a gift for my sister and she couldn't put it down. Worth every penny!\",\n",
            "    \"sentiment\": \"positive\"\n",
            "  },\n",
            "  {\n",
            "    \"review\": \"Took a while to arrive, but the book was in great condition and the content was excellent.\",\n",
            "    \"sentiment\": \"positive\"\n",
            "  },\n",
            "  {\n",
            "    \"review\": \"The price was a bit high compared to similar books, but the writing quality justifies it.\",\n",
            "    \"sentiment\": \"positive\"\n",
            "  },\n",
            "  {\n",
            "    \"review\": \"This book changed my perspective on so many things. Highly recommended for deep thinkers.\",\n",
            "    \"sentiment\": \"positive\"\n",
            "  },\n",
            "  {\n",
            "    \"review\": \"Some typos here and there, but the overall message and storytelling were beautiful.\",\n",
            "    \"sentiment\": \"positive\"\n",
            "  },\n",
            "  {\n",
            "    \"review\": \"A friend recommended this and I wasn't disappointed. Finished it in two days!\",\n",
            "    \"sentiment\": \"positive\"\n",
            "  },\n",
            "  {\n",
            "    \"review\": \"Too much filler content. Could have been half the length and just as effective.\",\n",
            "    \"sentiment\": \"negative\"\n",
            "  }\n",
            "]\n",
            "```\n"
          ]
        }
      ]
    },
    {
      "cell_type": "markdown",
      "source": [
        "> In the previous case, we can't use `output_parser.parse(response.content)` because it will raise the following error:\n",
        "![image.png](data:image/png;base64,iVBORw0KGgoAAAANSUhEUgAABOoAAAF/CAIAAAB487HfAAAgAElEQVR4Aey9T4xlx3XmqYVXXvXGDXRjurrhWQzgnby6C8kADYsgIVILoYdFUvQQEBekMGyRVKsMtgCJZEEwy2WWCzJgjtlt1cg5oJvNKZZd6hp00mXRNi2ZSRgFDAQ1mAAh1yJ3DQhoEIPBgJsanIg4J74Tce579/3Nl5lfolAvbtw4/34R9+X7Xtz38jPn+HMyCPzzv/+Hz3z8uycj15OV5du3CPZkzRizJQESIAESIIGTTeBf6M//wB8SOHsEdPn/i2f/2T/7q3/6T5t/4bU9wM9nwhGLdH735s8OfvDEIhZu7IrmztcpPnj71mfu3fqVU1zg5NJWWzCx9a98/NEv/f1vT06BA0mABEiABEiABEhgZQL2Iv7s6RdWfEYJ2JrPVw/l68rPIjvr4Hd/+d4//JOXdza9rSYWC9CpKYxZk/BUghxHAiRAAiRAAiSwZgL2mp4NEjjdBJorZ63y9YkfHPys/OjWKr7wL+3v3tRB5fHmd8+dO/fEDw4OfvBddVDMxWE6mwekdmzelJUOQ5fnzqEDdf7dmz+7+V07ob1Qj6WB9lqkuAzM+5zicRhGXc7PXUcmdEpUMz937lx32/CIS4herQ3Fz3STPE5dpk1ja0Iy8gfarZ0uywqzxqkDe2yppw41874r1fgDXWC5HhiVUy1lQuq15+AHE61zlh3kkeTZTQIkQAIkQAIkQAIkQAIksDqB9clXUQOmQUQyJE0QyNeUNPanjiwmso6QdmpZA+RrbB6RCF3iwCR20h3MSeIUEWOpJcWG41Vll5ue55g3lnKYwhRIFgbHWciUexlpFGpAsDGT7L8Uce7cr3z80S+/DeOy0mxdhtZRnCh1SSycchW9lnkq3VIrWWEYbGPSpS3RLVLuky71aIlIQ7sdYHcgDqLCp1tbii/v/RJvzzYabJAACZAACZAACZAACZDARgmsT76iHkjqIMkNlA1j7VQgKJ2yFftE3rFDiaJtER+NmgkohS79NmAoddRVVjOmkaS7dOmG40xzdQOPLu0KLElD9ZnrcrmbhzzQVe5sf1ZF3m//k//e3DkcuRyxjuPUuCX1WoFkqMXpI/YZOZtB69G6laUVCw10Wbq93tXa9FEGYduSU6dh4WiB7c5avZw7d+53f5nyFXCwSQIkQAIkQAIkQAIkQAIbJHDm5KvIEtVhVaIE+sigo5bzogmHqE/rixoujIo/8a+qzgbU1Ho/cg73GNXYjZwsX0Pr5KqNU0tcQr6W5ADmCEtXRbWqwXOft1Zc+ihjsN0JUIXvoqEFtjtrsKJ8BRhskgAJkAAJkAAJkAAJkMBGCaxPvsrrfdUYtV21WRIuOsBrC6kQ5YITcdlETleV50aP8gld1oRElKhLizjizNSO2FgRNnjM3NdcNyix3soqVVW8Y+4WBhqm3hKYSIKGNw+3A0etNZTFgRItN2kojNqGkbHuU5gxS4nccksdTe4yRrusbakhYfGIJ/TYzKFY63MG7kBHp8eX937pv+/9c9fFAxIgARIgARIgARIgARIggc0QWJ98VdWRbwZVYZElmfSlL2ZSseMGp7GiEOzHrLOQkf701Ui1v54wwdEBil3W3vQ1PdklSi71UweaypVTUXdkLmNbGZaOS5UVRe2VrzzK/RIFqs051YFOQ8fd3bcKhS5Ljj6nyGHUpxVma00XYVg7ohazjLg12Esk8KkwsUZsu0yLeV8RWmA7ss4z0kHO3fyfBEiABEiABEiABEiABEhgAwTWKl9Xya+RC6u4UtsNuFTXSz6amlvSfjGztf5Zl+2mvlihxzZ6rYSPrQoGJgESIAESIAESIAESIIETQmBt8vV//Jf/Mpf8r3/t127fdx8e/uKhh6znX//ar+HhuXPnSs+/fTtvN4YDzLyO1xDh+Bwiy9dwwBIOxyo6d+5cXFGQYdGAOaUlHBrhPmJY0fVbn7l361dCAtnDdIf/+Jc/++nb/zbnPOZwiYp2xOFYRbfvu28c0bn/56NfPvhf6rLPI/k/CZAACZAACZAACZAACZDAhgisTb7+0TCcO3fus7/6q//4wAP/9f778fB3fv3XrecfH3gAD/N46fmd6wc/u/laMu8HmHkdryH+8YEHXv+zD8vNr/jw7h+JfP3h74YRxxz2/q1nrKLP/uqv9glbj5mniFdv/uzgz54URL/z67++hEMjbP6tZ6Siz/79P/zS//vvRpjff7+Zz3X49v/1s59d/52cc4h0uYr+aBg8orqKtulwrKL/Oo7ok7/6zP/3v7l1vqFLlG5JgARIgARIgARIgARIgAQygbXJ129+9rP/7Ytf/L+/8IX/6V/9q3PnzjWH1pPP2qGNP3fuHJr3A7bjEPNpIjaHmGFGGQ5Yr8NdQPTfvvjFsUkMCeSct4bom5/97BLMxypaYlnymYUESIAESIAESIAESIAESGBDBNYmXzeUH92SAAmQAAmQAAmQAAmQAAmQAAmQwEIEBvj5zEKWHEwCJEACJEACJEACJEACJEACJEACWyMA6nWgfN0adgYiARIgARIgARIgARIgARIgARJYjADl62K8OJoESIAESIAESIAESIAESIAESOBYCFC+Hgt2BiUBEiABEiABEiABEiABEiABEliMAOXrYrw4mgRIgARIgARIgARIgARIgARI4FgIUL4eC3YGJQESIAESIAESIAESIAESIAESWIwA5etivDiaBEiABEiABEiABEiABEiABEjgWAhQvh4LdgYlARIgARIgARIgARIgARIgARJYjICTr3jANgmQAAmQAAmQAAmQAAmQAAmQAAnsJoHP7GZazIoESIAESIAESIAESIAESIAESIAEkADlK9JgmwRIgARIgARIgARIgARIgARIYEcJUL7u6MQwLRIgARIgARIgARIgARIgARIgASRA+Yo02CYBEiABEiABEiABEiABEiABEthRApSvOzoxTIsESIAESIAESIAESIAESIAESAAJUL4iDbZJgARIgARIgARIgARIgARIgAR2lADl645ODNMiARIgARIgARIgARIgARIgARJAApSvSINtEiABEiABEiABEiABEiABEiCBHSVA+bqjE8O0SIAESIAESIAESIAESIAESIAEkADlK9JgmwRIgARIgARIgARIgARIgARIYEcJUL7u6MQwLRIgARIgARIgARIgARIgARIgASRA+Yo02CYBEiABEiABEiABEiABEiABEthRApSvOzoxTIsESIAESIAESIAESIAESIAESAAJUL4iDbZJgARIgARIgARIgARIgARIgAR2lEAoXx+888Kle9/K/755q2Qedj56twy7dO+Fp6+Wkat1fumbGvrSJ195sLic3Hn1K98x87tfKtardYaFT+88ThpDxO1YaYTciOjSvW9t8kKLlkG4NqZ3HusqWm3BDJH5aohWozFE5uGVMr0zqjEsfIHO8nTKBxIgARIgARIgARI4RgKhfD3GfBiaBEiABEiABEiABEiABEiABEiABAIClK8BFHaRAAmQAAmQAAmQAAmQAAmQAAnsGgHK112bEeZDAiRAAiRAAiRAAiRAAiRAAiQQEKB8DaCwiwRIgARIgARIgARIgARIgARIYNcIUL7u2owwHxIgARIgARIgARIgARIgARIggYAA5WsAhV0kQAIkQAIkQAIkQAIkQAIkQAK7RoDydddmhPmQAAmQAAmQAAmQAAmQAAmQAAkEBChfAyjsIgESIAESIAESIAESIAESIAES2DUClK+7NiPMhwRIgARIgARIgARIgARIgARIICBA+RpAYRcJkAAJkAAJkAAJkAAJkAAJkMCuEaB83akZefDOC5fuvfD01Z1KismcbAJ7B0eH+xeXruHi/uHRwd5C5kuYLOT/lA0WXOkHpinqi8uePjK2D3sv7h9CMuEQdpIACZAACZAACZDAcRCI5eutpy/d+1b+981bM9O6+pXv3Hv60ZlDZp3szB+9W+JK9E++8uAs4/WfS+rREtikjOwKz8VQvq5/UnfV495B1iz1/wVF4tTCti1fpbA1lrJi+lMpTR+3IXEe1Rn1xYlOH9nZx/XEvZ0xO0iABEiABEiABEhguwQC+SrKSpUbtsPERmRYODbo7Mwfvfut79z5zTTyN5/+5FuX7n4psNpYl6jH7UTsCt9YTXS82wQ2LxNWUDaCbsEEV4zWT9baHfYhFutZEMhU51GdUV/sb/rIzn6snrH+zgE7SIAESIAESIAESGB7BHr5CgJS0iiHKLdKO8lL3aStm6W3nr5090u2iVo2b289XbdSSzs2x+giJvMGrETUTVHbkg0DDV/6Zj9ygFiqTh+888J37nxJFLKML3K9l69uOzSlodvR4NNSgjxr4S0NMMypFnPLHHezYbBGefTut755R4Fo5/ZWDCOtl0ArEtJtm3vN7aQySH/wpk7YwbX9ztpXRu4dHB3sWa+Om+yyJphNMH6Hog7OpyT2fkpeU8jxLR3cqIXOHAQ6cvWafBd3GOIqpbv8YN611/aJa5cOrLkfHZXbrxFacqtjg4SK8m+i1zBYuZhHAjTqi0M1IzHRmiP2JpTYEdTTOI0js5cESIAESIAESIAEtkmgk6+il1ShSSJF0RXJmlIba+e8043HZQfVVKs1hmHANrpK5iBfJRPdic2u5X8Rb/l+5hSotpOQS6I0b95GJmCOutRUa+pUnYyaVpwjmaQqVQlrpC99s95Hre2QxjAMXeHFiet3BOQdgRQxvTWQ9TampFnw8WQREAWBqiwpiqI42nNSWZJpqURRQlWa5KrxM4vaToqpDAwFyVyXkqDk0kbrSVdX+VyKfbCnReXw0qklV7eabus0TLkdlLiYVzVBl7UdcKsn025zrhO4uYlwB30i2pNq1jK1Ex4xpnRr0jAk7MPztR1Z57N1Smqr2s3eXh/36jzwgARIgARIgARIgAS2RmAj8rVuCYKKs8558jV/5vbSPdSutjMp2rLVxggrf2rXYskpZ2vmJlnROuzMmtkMZbwTmeogh7a936x+sVjJRHdWQw+tZxgPsh8Uvu6Nawp8PHkEWjHUHueKkpQqG3lFRUbSIkkmHSaPIp/cwCphJrpMulVdzcPbSjKNrUWlVK67rwXSU0WA9hLZpT+eQDAspKEpoaf5A9F7zRh9tO2RUT4UqlsMoc6iPj3nH9uRwezqTGJQcTKSaTk1/y0LnwiPSIAESIAESIAESGCjBDr52iqi8ZuHU169DAsFG3ZiuzNHbWaF28ZjvZkZ5JwNqw1x+61LRSt6EaiDQqUadpagn8DHYru0xWu6mVnd6yMWS/mqVPhYCbTioT2WkaJFVHSYTrFG9SVKpJcbbqDK18kui7qRtHrXEDo1u/glthaVDsfka3YmQ4vuzh0u/TZgPQ6Gddmk0UsNRCMtpsaOWuEo6VSK7QAMoQ6jPj3nH/3IcHbVICtbTYPyVbnwkQRIgARIgARI4EQQ6OWryDDbJLS2CLZ6w2odIJJMv+cpFwyCrapB85P3QuvuaGseyVe4hzbp0lm7rxX6bz79CSTc3uirN0XX8dKqCUO/duKdupCSjUy54X3XciakISfawosbJ4wxSm0jImxbImycJAKtimmPy/ZYURtyVgUQahStWPqqMMm9oGzMuTQmujSbKJ7G1UdVx3AsYdRHTgUdYVuNvApXWzsbN6BKGxDR8G8GlKHhQPSI7Wj/1kLWBiC2TqhWmvaehAxwIYpF1GfOXMONhNDS1JkGAzdPzhYGpZz0bRPXzwMSIAESIAESIAESOC4CgXzNKq7cBFulKXwbk9vPFHWHX0GE99BWmSrqq3xJ0q2vfKf2J8UI5rEeqz6fflq+cil9uhWUodGzJN29vlkz+4pUlJqpNGotMlhqTz14x6/euow+rZyap/7Vn75HA9ZY2TypX7txWt8ggDufVYEjImyrYz6eKAKtOmuPUzFJ66SbguWLkEyfJm2SuqsSwr4sj6oxCpnaO8clJJR9zxI0MFgT7+Vr3vAreVsxNSFMU7zUMzNCxxqspyEOsbe4xK6iKtEjttHesk/Vtv/VxFVB1jCH+/vylVq+vsQk+QRT6ZwRJxxZO+vs1tiNcAYePo6vuq2OxyRAAiRAAiRAAiRwDARC+bpSHpGqXMnhiTYmjRM9fUx+YQKUPAsj21EDkbsz3i/Y0ayZFgmQAAmQAAmQwCknQPm62QmmfN0sX3rfPQKy80fZs3vzslhGFK+L8eJoEiABEiABEiCBLRGgfN0saMrXzfKl910kEH9n0i5mypxiApzBmAt7SYAESIAESIAEjp3A+uXrsZfEBEiABEiABEiABEiABEiABEiABE4fAcrX0zenrIgESIAESIAESIAESIAESIAETiEBytdTOKksiQRIgARIgARIgARIgARIgAROHwHK19M3p6yIBEiABEiABEiABEiABEiABE4hgcXk67PXP33rg4+fXROHZ69/+v1rr63JGbi59PFbH3x69RL0nNHmzasf/OKVr4XFv/bKe5++9YH828gUhDF95/lrv3jr+k3fN+Uo/fVK/+cpp5itPObrL9z46I3bH71x+84LT5izsNPOQuOJt18T24/euPH2w9A9DMOT1z564/a7T/rOYz965PV7L756taTx+J0X37zzwLHnxARIgARIgARIgARIgATOPIHtydderpwY+Xrp47fe+/D8/LVSNWErzL724fc/+LTtbB3evJr0pJOU2VD6UYjWkaDS+85R+drPRc4lvT2BgZoUocCc6nwsKato2FgOTcju8Ljka07key87+Tqjs0t8GIYL7x6TfP3ey1k83/7o5QtRYr7vgVc/uej1qvS8fsuP4hEJkAAJkAAJkAAJkAAJbJvAbPk6qn+WSLOXK5uSr0skN9tkmnwV7afbib40wXj1+uzNRlGGuhEq7aRLX3vlvSImhV4RgXZ2GAaboLDTzrbl+fTK2TRBH49v2LZO+gltRwwpq+ux+K/mItHXtqXf5RB0PHzlzhvXvhecmN+1fvk6P+aqI2SLWFVrzX8UwuN3Xrx595E26NWn3rz33PNtL49JgARIgARIgARIgARIYJsExuVr2verm3u2DQg7ac9e//TqJdv0SwpEhtXtO5Eo73143mz97mISUR+WLUdzC4NVzt28+sHHr1z7xYSbXUUvpWE1h+FrH37/vQ9fkdue5V+pKHU+2/iU0KqjStuqK+YmULtJqlJTTl362EZmrVjVWmeZOqRGuyv7/LVfaO062nJDLZ1uk5aRYaeI24+fTWOk9iSt0/6q1iJANGitt6LDwXUllIycNpbqyuSqw2EoJWNuuVOXgSGS/GHZaM3d497BUf452NNzewdHB/v7h7l7yj3FcrOuv4M33b6bbwzWm3jtXt92u7LKP01gGIawE85bs9l9tSiQz8NX7rx25W3dLNV8yj3G/e3HaVt1thTHoBfefeP2R69d+XrOqEcxDIO7bdgyH4bh+bvNliyeZJsESIAESIAESIAESIAEtkBgRL6OyQkvRfBeU9vQs8aQN9/0M6i9fgNz3TwUEWXySaRjUk1JQ2Z9aypuFhunrES+qnirMg87zac1hiFZqRLzVY9Fbgovm6Vq25fv/SgB6U316kZuHmbmrvHeh6LAr98MO4uf8r6AYwKpZvcW3Q2rGSa1j7dPW0QZA1q9tg2mEhiydtX3KZyHAlzfXKiBg5bcPezk69FRlq3+RGA5pI+qerEXSbjvvVw/jIrtMaW6rHzNKaK8HAbZFFXN/OS1IjWTpi2aE9tJOX80eyfZdlmlcePtJ/3OcwpXRfIwXH3qzU+eejyCN9x67ubYqXA8O0mABEiABEiABEiABEhgzQQC+ZpUpSq3JhxIkWEYnAoyDWNSxxrJSStXvHlxZU6SifpHTQVt21dsv38IxjRC1DSVNSSQbpxiJ7Z91Sk12+aFDcwsO2Vr8RevXMu7r3VP1ZefBGrehFQ5V2S2dMpWs9t9lUrLjGQ/MkdJ3+bDsBNuLZaU01Z5yt2Tz6pSwzl04tZ2SjWB5MINSwsGdnSlIkWaxW2p0USy+Mg5l4TKQ6Db/QA58ip176CI12EYsN3Zpa1O23jU05HyTFuU8jVL5R9+V1M0fund15xEL19VYKvytC+I0pR0gFYx6zE7EZWerNQnmKR69e7iW88Fdw7nwTOULXhjkwRIgARIgARIgARIgAQ2RiCQrxJr8u6ryh7cgisqpbkDtpcrqk4l4DLydRSKE1duH9VEqTXEiWot7MR2IF9HY+cTuXYv/7LAs73lWR5Qaqa5gHcTkmg37JUbaHgF6zigTx2QcwAtbWL1+s3ETbNFGmmy6n2/XhiXquCdBRPAVy/NlK8SYrndV7tleKZ8lcz63ddIjl54d3w/Mxq/DfmKEnrWygnOdTcMo4bvdl8pXwOE7CIBEiABEiABEiABEtgRAiPydexmTi/kQAU5ZZLuIP0YP8wp1XrbKlkTieJKNAxKptxGGYbtMYZ+DEova1sDE6vRpRzb8HQCeCwm9sNmqXX36t1ONQ0ZqVuySQCDdpWhUF1NeEpn9QMT1wQHP1CF25CvQYttlCS4hXm3TeOkyes3XaVDnXcwDZtL7r6qr+ZuYduW1PPDkPZpdTeydqfWscjX9Md14POxkNOEz76iupbSqhJuUCS3M7ZYZyhbyIhNEiABEiABEiABEiABEtgYgXH5KiEbMdPcICpbpra3ZvuBKdXwLtCsCcUkD0YRVduwcadfFwRpYEoBlGYjMSkiVKrWloYl73Rdrih9JVXQj7uObXzLXMUnDpgrX5MITCnVT7025ehXE9fkQfIFnWgOI22vG/MrbUSN8/WhvRlRJSiYj6+E5m0LTem9D8/bjeI2KeAwbIpwxR/5BCzuuGI7dFA6/Q20eGuufgoU7x8uurH+7Zl0U3EWgWFnFBod2l9/jToxN2hjkvY1wsOUz75KNvYdUaBdwblLmF/d5HDwgARIgARIgARIgARIYJcIzJavczKtmrMdKCpFxWd7bieOJ0umnciWSZDA1gjwD+dsDTUDkQAJkAAJkAAJkAAJLEigla/Pv/SGbajObuDdvzgSv2AW+3enLYhUvu5OVszECPzPv/2/LriMOXydBB549ZPmb+RIz+u31hmDvkiABEiABEiABEiABEhgcQKtfF3IQ7D7Wm6grbfdLuRwe4NVvm4vIiORwMkh8Mjr9557XtN9/M6Lb955QI/4SAIkQAIkQAIkQAIkQALHRWAl+XpcSTMuCZAACZAACZAACZAACZAACZDAWSNA+XrWZpz1kgAJkAAJkAAJkAAJkAAJkMCJJED5eiKnjUmTAAmQAAmQAAmQAAmQAAmQwFkjQPl61mZ8k/XGX1q7yYhnxrf7MOqZqZqFkgAJkAAJkAAJkAAJkAAS2EH5+uD9Ny6fv335y1cexERXa0/9i6BxlNWsY5+nsPfWczfh+35OYYHTS1ptxcTWt567+clTj0/PgSNJgARIgARIgARIgARI4LQR2JZ8feKZL9++cN98eo89dPvyQxdEwVK+zqe1SyMeef3ei69e3aWMjjGXWIBOTWjM+vm7zd+zmeqQ40iABEiABEiABEiABEjgVBDYlnwdhuHChfO3X7r/iSnYpsnXi/uHR+XncP+i+JWeg70cQdt7BzqoPKYBF/cPD/f31MG4eWwd1hC6TClpAiXMMOwdHB3smWvMWIdqXxpbOtU8tg5yigda3KMjhNXjwNhHGjxDRpQpcH/bcIwDeViNMJGaUZw6WmtCMnK/mUiXpLocsB61DqjlLqCkefZdqcZ9XWB5HIzKlIo5FFl7DvcnWuekrj71Jve3R6eMJ0iABEiABEiABEiABE49gS3K12EYZA/28kMX5lKdIF9FDZgGEckgmkAlqwTAtuhFG5yiZzGRdYSNtEZj3lmHBYQucWSSZKkjSZwiYsx5PV2Nkj5KyjwVlGsIratNbaWBpW4LU08LonI25Q7tlFs9DTaYJbSfv3vx9VswrAjI1iVYZA0vJtipLqLUJcniMCvRlCWMrPMXucRysK0h4VF8WqTcL11lxtLSSqdxyh1gdyAOMCFtT7e21B549ZOWs51jgwRIgARIgARIgARIgAROO4FQvpZPn56/ffl8veM37JR7fdOwy+dvPPO5AivsNJDp7LXH7DhqTJCvqgGyeZELVb9Mka+qRkzGjZl3YiTK2evlqo+SvNJN1aKJQodZzZhGkhilS62LgAqto5TcQAPmnWYIWHn1lFN3Os5Vc2Qi74FXP2nvHI5cxtYlIZsOSSBK3SpIGeoIfXRWgcvS1bCsxUILXZbuOp/SobXpI/Ylg9ZDWPhk65KDPPRvE8BJNkmABEiABEiABEiABEjgdBMI5evGSl7j7muoZaYLAhy5SfkqukV1WdU0tdWjzkona0YvmnTsLGsdkx7dwAJMCldBWiHUlnOQDuSc3Wfssdvg6fJVYZipNbDwVeVrcYouY5YWHRuOWz7hrRWXPsoYbPv0m81Xi4QW2O6szYLyFVCwSQIkQAIkQAIkQAIkcPYIbFG+rvezr/J6H2VYatdOaVXh6LWFzDLKBVMrY+Y4eHyJ4Ch1WT2miJqxnh5zZiJR9JdWaYNHrZ+/e/Emfn8SDLTkxGORkEnc5badtiC+YepNBqo9Dul3BSOXY9bmCQvXus2RNLAzt6HIUPehSzO3gKnRchM/bZHYZW1LrVlRbnlJiLDwydY12+BtgnqSLRIgARIgARIgARIgARI45QS2JV+nfvMw3qIstyXP+qBskl/5ZlDb07O+9NVI1p0/Kwljk57QG0nrsDFz629VDSyP2CVY7ttHTVFyqYfYPAsfn2hknby0MqzGBhFc46TvDZohX0NzJAlew69uimD1TmtC8IZDPyxVCN06aUhD26HLIiI9y5Cb6s0ytEQCpyiiNQ85re283+rNIfWiotEC25F1XiX86qbMgf+TAAmQAAmQAAmQAAmcUQLbkq+7hreRC+tIbwMuV0xL1dyKbqaZr/cP52w19WkFHm5gOI4AACAASURBVP8o/uGc458DZkACJEACJEACJEACJHCcBChf10b/jMvXYbj13M21/VkXytduXd567uYnTz3edbODBEiABEiABEiABEiABM4MAcrXhadaZGr/c7B35uXrMDx+58U37zywMNHAgPK1gfLI62t7a6DxzEMSIAESIAESIAESIAESOCkEzqp8PSnzwzxJgARIgARIgARIgARIgARIgAQSAcpXLgQSIAESIAESIAESIAESIAESIIETQIDy9QRMElMkARIgARIgARIgARIgARIgARKgfOUaIAESIAESIAESIAESIAESIAESOAEEKF9PwCQxRRIgARIgARIgARIgARIgARIgAcpXrgESIAESIAESIAESIAESIAESIIETQIDy9QRMElMkARIgARIgARIgARIgARIgARKgfOUaIAESIAESIAESIAESIAESIAESOAEEKF9PwCQxRRIgARIgARIgARIgARIgARIgAcpXrgESIAESIAESIAESIAESIAESIIETQIDy9QRMElMkARIgARIgARIgARIgARIgARKgfOUaIAESIAESIAESIAESIAESIAESOAEEKF9PwCQxRRIgARIgARIgARIgARIgARIgAcpXrgESIAESIAESIAESIAESIAESIIETQIDy9QRMElMkARIgARIgARIgARIgARIgARKgfOUaIAESIAESIAESIAESIAESIAESOAEEKF9PwCQxRRIgARIgARIgARIgARIgARIgAcpXrgESIAESIAESIAESIAESIAESIIETQIDy9QRMElNcC4HPf/7zl3//99fiik5IgARIgARIgARIgARIgAS2T4DydfvMGfF4CFy/8c57f/PX12+8czzhGZUESIAESIAESIAESIAESGA1ApSvq/Gj9QkhcP3GO+//+O9+/MFP/vr9v/k/36GCPSHTxjRJgARIgARIgARIgARIAAhQvgIMNk8pgXf+/J33f/J3f/Xej/7jf3rrr977UVKw15et9eGLP7zz86Ojo8P9i8u6oB0JkAAJkAAJkAAJkAAJkMASBChfl4BGk5NE4E/+92t/++P33/ubv/79K68Nw/AHV//gvb/9679+/2/+/Z/8h9/4jd/oK3n0mW//4Vv7Bz89PDrY688O3/jhT48Of3Tp0eAUu0iABEiABEiABEiABEiABDZJgPJ1k3TpewcIPPTww//l3f1Xf++S5XL59y//5V/d/uIXv2g90Ng7ODr86cH+/sHPY/l6cX9E14IPNkmABEiABEiABEiABEiABDZAgPJ1A1DpcscIfOH++xfNKFapewdH+iP3DovUvfO+3Ep8sDc8/O23Dg7z2Z/f+eHFh4chnT/YL70/v/PDP/7j/XTf8dHR4fvffyal9Ix1qVHkaNHsOZ4ESIAESIAESIAESIAETiMBytfTOKusaWUCsXwdhgFPiJr9+Z13Ln3jG888eulHPz863Jebih+99KPD/MlYOX/4/h9/4+Hh4W+8dUc+L/ujP/zqw8OjL75z5+jnP/rDYXjxhz89+vnBW994eHj029L80aUB7k5+9NL+Ye5buRw6IAESIAESIAESIAESIIFTQGAx+frjD37CfyRw7AS2cOGhSnXh8ITsvuoXOD36zDf+zVdlyxUkLp5/+K07dXBx8u39w6M773y1+C+jv/rWnaOf3/nhH7741YeHh7/6b77xzMyP2R77XDABEiABEiABEiABEiABEliRQHk9POFhMfk6wSGHkMBpIIAq1dWDJ1CeDnIbcLl5WG4hlu99cufxoDiRB/+Tvi3q0W+/9f5PD+XbjX9+Z/+P803GLgcekAAJkAAJkAAJkAAJkMCZJED5eian/YwVff7RdgfzC1/4wmwGqFLdSDwBijTtmb6/92IKpGPgvNeyZUDafX2rbNlqlLqN++iLcsdx+P3HOpiPJEACJEACJEACJEACJHCGCFC+nqHJPpul/tYXfuvP/tNbl37v96z8Vy6+cuMv/vy3vvBb1tM3VIF2Z/AEyNP893TyJ1u//6PDabuv6YO0h1n0Pvri3vsH+5d+e5AP0f70h99+dCgfmKV87eaAHSRAAiRAAiRAAiRAAmeUAOXrGZ34s1P2n+796d/++P3/8u7+710WBft7ly/v3373b3/8/p/+H9GfdVUuqFK1Lz3iCZCvw8MXf1i+VfjnBz96P3+mFc+7O4mrk/rNw0eHB299W3ZiH774jn2F8U9/VL6h2OXAAxIgARIgARIgARIgARI4kwQoX8/ktJ+xot/58xvv/+Tv3r39l//+T/7D/l+++/5P/u76jXfOGAOWSwIkQAIkQAIkQAIkQAInngDl64mfQhYwhcCf3/wL+z60G3/x51NMOIYESIAESIAESIAESIAESGCnCFC+7tR0MJkNErj5n3/44w9+cvM/39xgDLomARIgARIgARIgARIgARLYGAHK142hpeMdI/D5z3/+yh9c+fznP79jeTEdEiABEiABEiABEiABEiCBSQQoXydh4iASIAESIAESIAESIAESIAESIIHjJUD5erz8GZ0ESIAESIAESIAESIAESIAESGASAcrXSZg4iARIgARIgARIgARIgARIgARI4HgJUL4eL39GJwESIAESIAESIAESIAESIAESmESA8nUSJg4iARIgARIgARIgARIgARIgARI4XgKUr8fLn9FJgARIgARIgARIgARIgARIgAQmEZgjX5+9/un3r702ydPUQa+98t6nVy+l0Zc+fuuDT+Xf9XX9KU5xnnz+4pWvRQld+vit9z48L2fGR6asSobDcP7aL2anty5E6/ITlb1yX+VWXTVknr3+6VsffPxsPX+MLVhjW8vCEH3tw+/nVV1W2qYyWGzBpKzWfS2vobTFqqgB0/WLhJd5MunWya5SqnUPw97B0dHRwR52ndb2E2+/dvvdJxep7uErd9649r1FLNzYxc2//sKNj9648fbDzs3OHFx4d3Zui9c7r7Tn7158884D80ad8fOPvH7vxVevjkC4+tSb9557fuTk0t3P3734+q2lrWlIAiRAArtGYLZ8vXl17YLkax9+H190TtCHiyO7efWDWL4+e12Vc3EajVxMvi6JqNF+wzAs+zq+VJLUY5buTY09v5tXk74yiZ5GhJ3VuR8s/U0JU+Wrybw+r7X1dLJkbZ5HHbVLa/NlLrZgdlSYTbh8YpKdfE0z06zJ0dnKJ7rnomFHKbk6KF8dDn+woh5b3JzyFSbg8Tsv3vzkqcdrzwOvfrKCatqMkKvZrae1RI3HIF+HYWbQ9aCgFxIgARLYGoFZ8nWx14LTUu5fc28gSiRKhyG9Nm22B0dGQi2z05t9Fty0zd6wJ9PaTDyOX+6rsbxA/8UrXxOxWhVp2KkWETc515dgFrMas9ObZTn93NblqwD0S2vzZa5twUznuu6Rk5bQIiQnOdQqTgFALeWUPp6A3dfdJr/V3ddAbS4h7QBo4BDO7kpziRpnKsnNVX3rOf/mwq4QZB4kQAIksDiBGfL1tVfeq3uY+LoQ2mkPJN8qaS/fL3381vWbthlYNZIkF2y2gLeUftoAyTcV472O5tDuUBXDErq5wzkWpeev/QIdpmDNSCvHFf79azdH7kluEbUjiyws0yIJv/fheSgQy0wvpj/M+6J6h3OW3GVPVZMXhq9o7dpZQkxWlV6+FuuwU2QqRkHs5bZqq8jvq8OUZZ5lg9dmbcZd2Wkz08arMrRAH3xaEaWNa/WZR1b5mrPN+WPmtSL0afexQ2ddwHZ76gfNemsRCc5WdFkt9RbrBFZn3C4fV86nb9l9BBA9pzR3wRgim4haS7oSZ6yiup5SyzzY1ScF6tWnbtPlcKm7dzqEKW7by8fWg8yUfKAAocGnDCx096EDNbT07Yqu2PUcPhfhsOZtnXL1WW55hxavXOl578NX5OZ5+ac0NA4+ppHP+otX2NZCpORRDxf3D4/Sz+H+RXV7cf/wcH9fbiiWn1k3FT957aOXL3zv5dsfvSH/9KZckYi5B26CvfDuG9e+9+S10v/yhRQMR9YbdM3hR69d+bomFTyatzduf1Qd3nj7hSbKMAwYyPIMXLqROXraPn1bbujFGodB+pvCh2G48K52lpTq7mvOYfyuYHD4Ub1dGTM3RNCpiL738u13X9CUtDOoUKbsSpognY6MLoA5fP2FG3deuKCzmTOv8jVPU5n0MHnwmYalNQA5Jf9PDDWl27BghmFobhuWndh7F+Gf3i576zntLD3P3714857eLitnX3z1qmhCHZYablMXshpvQgLJuchCu7E5+b/7yDA88OonL756S05JuBoFEpBh5Qd8SvJwmLPVGmWrs+QPt1LXzlSjOm0eq3zNOajPlpucrc7FCnk2+eQYYsJbiBvePCQBEjiZBMbla1KhVhS+LqxtP6YMTi8uyysw/yK+EUJ5fPVWNkhNOtZXcvIKz0sjSyw18JVoFsnmxAY2Y3J/I1+DTklPX1C6VLNEqa87025kNxJ2eKqmCkVmUgg5bR0pr/utEKORXtNnGjJApV19rW89VnvfMG94aqyzOhQCOhEBDT0lTvs7M3MovyQwPLaBRnxbtd2sG62NAhCzRefwNgqUXBPDpWJtp7VGvEF39QadqWlXgaSnC8bWCeSsyyCvtLoSikNABCMhmiFKfc2YsVUE9toMCMs1rquirlIJocvDwhnA7t0r/+yBywnb3RsBJS03RlNtO30IHSWPNgvYme/hN/XoAaaBtdhcTpKa0qkSdHzexR5HSjsxtEbwrkeTXTrcOzjy8tVkqz/T2iZ9cueFJ6T/yWuB2kz6NlklXVdEpkqgerY6LpImdWC7jghaT7z9WhZXWddlmadRknYtSaa2yuzeUTIvSerZLMxM4xVliErM2lKjBkLza99zOeip0UdzmKg2+XhXoiHTgCQmK4TRGtOUvftkqvS1K18PZs1ginw1PSltCVSoWlwpQhCpLJd24i+BVG+XAepZ510k95OpRuWmURKapAPbz3N2eunqU2+aRIS2KFhRiX5bsgq5UfijJ249lxym89ZWjSeys4jSLBGzeK7Z4idFrZ3EqsrsGrhaaR+isLZoV5WOvkw1K4+lanHr1GnPDXZTa0VAtXE8DElvgxrvB7CHBEiABE4IgTH5aq8+Sx34urC286sxeyGbx46+gAu1YlJ9JgL9y019TR8b4v5P3aSSHILxNWc3McHIxtwZOkk2C1EVb2ZijZSAc5t6tFg5KO35NKL8UVq4YvEAZFvtDjp9nq5kf2psv9Hkt4YJlkeSUnkrTwUw0pCJLisERpYt0IiAfS+Xrasc3HbtJFZODEo2bm6YjZRJeavbdw3fiZBobZmCzrYrczkI0NrSKBDEJO8SOxoKEjuh3SPKBm7u/CIPGWqYkaupbl8n2knyNSGShxGY+bvTTCg2GI2GuGhJlsTcGE227QyfoGTwaMkoWcWb6dIcoi5FOS7YUX9iW7Oqj+5sfUPEglqjmvQtL1JlR1b3XLHd2znxU0VX3pfL25WqaU1MgpesDE3kyBnYV8zbmK14681xC1TMVblp2wSV+tcB4Co33Ug9i53Whn3FVGYSb44GmvttWz0z/lhJ6h6v6kCxgbPwrsH3Xq7KGdttlJKkwrGcpbRC0jbSnZgsjsr2Mqp0N0wR+bceSrisV7/+wpV3X86SvuNm+QxJec6Xdt12pZlkGWkCL+W/gnxNO7pl/9Ntq+Y9TJOCsvtagz5+58WkGHGbVJykTjcSJqrrl7QhdFatIDVblQ6+pKnmqnWlb4SbaWNr5Im4OLq7a0q+CcpDEiABEjhhBEbkq9das15cSr35FbMKlZGXmyBCHCP3ijN8dRi/1gTh0Q7oX5vWV4oudmuYTzpzlx5iwXayGxlZXtM3uz1ucDIHBaIvi+fTcKlqaWPF6nl5RHrW33c2rpw+aUuI511MbI9RIsXDLIfSQBq2ckRAqiLVAWMEPr16SUKDysLqqlUWpUlYwgLWKG1a+RO/TtI0iNTClymsVJkbN2u466sorqR1NQ0tVp2nR+y0doQoW7m58/qt0nABykFw1i9m82wNcOPXcD0x8/JBMmMLxo1Rv2Fn+wSVF6GyVdPyGAjIrMDz9PlyCnYUpdhuXLcfv4eVU1YL7lT3xtqzVvmK225VjUTytYTPish2DnUfT5MbeRRFpCJKxZjbXNVOFVTJj3aGTt1IHYGd1tb9Qx2UHmux0J1N5P+JdXUCVZwhok3I1xBm2n1t3z7I8yj52LsA0+Xr11+4IRu/L8uu77tPaiHIDduPvH7PtKgRbaWd6kMbYA0RYG/ifmMRcr1PM5nVsC3TdpDIyBfhq31dhprepFrUs/MgneH+52Ly9bnnRcTqbcNJvtadWA1cd1ODiJLVzbrfqzaUr0qCjyRAAiecQCxf+9dw8rowv4DLL6+7F3/VxL9wVz7wWk278qN7xSnOVUVAG1+UF2s4Kx7MSk53L7j9i06I343szDE9EwnNTYbZ4djIpL4+br/DuaPUOBfdBTVCG3PGtpZlu4i5I734BhWXe1HLqWGvaTtudSLya3pcBl1F5tepHSlK7zu1EV0DaJgokkYpRJzUnUnTtOrGTKBMgFkXTCeixENyjhuD6lYf0apDVAZ5GpVbgjxj97VeRxpNHps5TacAkb7fkTZCe0RpuDHJfnHlYDufdf9D8tqP+dR2EyINHoHZlymTEj7DiIdgweDlpmn5WzmsNzUg4uhzUXhdJ2sVlrCK6iWJGWJb3+yoawnPuhUiKV297j5k7tOHozXIV9Mw0ih32Ioo0vYM+SqJlPtIU0NNIMGgCQqq3BBbNm9VVplSrSPztrAO6J2iitOzJlnLXbJpI1Q6q37ToTWQ9uQba7ubaevpsKW6zp9URJhkbeOOK7a9D7vHW+EUuQiZV5gz5Ku/Ybi+YSF+yj3DtTPfHlwg3Hn52rsvPCG7yi9fezevE5Ss2MYNwFpG84HYoXy0tQ7ILR3W3FXbHOaxWZjNkbXxjb66nVtvtXW7rxYuhehushWrum1bS9DkrUc2b1u1WeVozr9KUzMrDU0ysdIyR7jlTe/XR/4ojqrxGqHvqefYIgESIIGTRCCSr/gaq9YiSiBtUn38rL5kTzJAb4k0JeNelql91OnMbUcr66L2S1DklbHee1ley8qr6pzS9Q/1W6YsyXwqK+HoVXVWEaUiu0E0MHdJWo0RonikAEhuzbYgqRVlvRGpkaxbSpn6IhjFhrUhc93lK3EST5CvMFLKz4jCzpnc3vvwvC6DJK50LuxLlWAebeMxpwQTN/r3fusYlaliW33Kl1dpUZWkfiATMpeZKnu21WddMOWWYF1a+tZJDWQf5kREOqzeN1tg+yQTE5RkGfi1ci+0LBhdFbWdE7aViQO0M6+EeQvGECEfSSmZ28qJ3u6BalITPZSrD1b7TBpu1hRmdPnoHmn6jiVbWik8TJwsGAidCCdE8zuVpKyi5hqBer3Kratarz5chPodS1gOtjXVausm12nylL+RhISwmf5mTvmSpqOj/AlYvGEY22iX20nqpLtnTabaVmG6Y/aFK3fqh0Xb7UcRunbDat3lE2Vl/eNSM38yM4187crb+VOU4e5rvsM2BbrzwhMqAvtick8WYMWtfHFUKF/Bp6RaasyDNflcEZjnemdUpDlV+TqCCJJUbihZsa0+9bHow0a+hjBnylclkDfA9XbxG28/HCavU1+1cZrlnDxKVmy3X91UShAxlu+kLYLN3QebJKLc6GuyMN3ca/fN1sE2IH1H1OjNsQouf5WUffmTiMmUiXpOGlJ8ZjFZ7vXVs3YLrsvc+wT92dVoNwCnBIoEtVpevxVLfSDmTHJWZi4+QVq7L74ahiR6SzmVanEtxUKNAItNEiABEjhhBAL5ii+L11QNyIk1eVzAzcxXqwv4gaEhInkBai+RYXB+XV5fwrpTO3ywAW7Tqw0JTzefOtKLDZFJ8QyO+NsAIle4pDdP0oyktsvdrsZtJzr7uWj22ZVz9esN3cmzx7ioxpFLt53YWNoLDT0BULz+xJk7sm3DTVcuEle3JVeNdeIVnX7r1QQQ7gbmCeM5hARIgAR2l0ArX59/6Q3diao7D+yZSwA/vpgH25zbC9O5TjjA0JnC2RwTmSDZZbVNMJEu37/22uYizvWcv9BId5VrenMNOWAVAnap2v3Aq3gbs5UoKl9tjIaWvf2rl4bc/+Ll/6j963ykfF0nzeIL7r7egPcT5lJ2CGGbdAPZ5y9VWpd2HdIfzjnJG5LylgHsA88ibrdGzxrEcyRAAiRwQgi08vWEpL2LaQa7r+UeVBNIu5j2buZk8nXT6dUbU/Ue401HnONfFI69c7TNrVe8O/pYEpgDZoOngflm75JQ+Qq1yJsm4Tdaw5j1NLciX/XGVL0pV28DXqEEd3/ylBuVV4jVmeId16mWfPvxH9ZbqfF7hjvzqR3HWuPUJKeMG/3OpCnGxzDm+HZf023SdntzaSwg/svXI0+8GfikzcsxLAWGJAESOFEEKF9P1HQxWRIgARIgARIgARIgARIgARI4qwQoX8/qzLNuEiABEiABEiABEiABEiABEjhRBChfT9R0MVkSIAESIAESIAESIAESIAESOKsEKF/P6syzbhIgARIgARIgARIgARIgARI4UQQoX0/UdG022fbv1+mfXx/9m+mLpnN835OxaKZrHn+yCpdsb95rv5Az/eHBid9yuS58s7mlLy/RP4FY/i6iHuYMUudzz+e/7uhPrStF+iEBEiABEiABEiABEtgige3J189deen87cvnbzzzuVreYw/dviydty9/+cqDtXsY8uCHLmAf25sl0EsF6ZE/+N78nb3l/3xcH2KzJa3Z+7YKf/5uwr7G7Bf5k4wi+SKlt+PyNdHqFlhZurqS14iUrkiABEiABEiABEiABI6BwJbk633XLp+/9piI0ipfH7z/hqlWaVexeuHC+RsXHsKeYyBz5kL2fxdOxUAjfral4nZuBrZV+LHLV3nPYid+dAVOTqb9+xA6ZetHOjklDiQBEiABEiABEiABElgfgS3J15ywl6+PPXT7wn1ayeeuvKQbsI89dPul+5/wglaH8XETBMpfkKt/gy7afEuBx0ZC/6ht/hvxL75666k378m9qfAH7qv5TOH0yOv3nnve/lyeBkqKxTzoX7S3YfBX3cv9pSl6/XN53cjH77z45p2nXs9J3ssOzX/K/N7FcH9yfG4eePWTvnDUZtquyZRANc/ee73ZOw3OQKAzwRTPdWYd9t6j9KTyQb6Cw5uFhgx7/q65rXcUQ2eZiAhmHHcYAHKZ3JAbhm63qVv5OhaK/SRAAiRAAiRAAiRAAieSwDHKVxSo6S7ia48Nw3Dftbwli2dPJNkTl3S/+zpSgu5o6WlRHaqyRCyNS9AspbKwUcEmn0s0/YNtdV8fk7wpf9i9ZpskUxFLZZPt6lNv2t9/r+2kfqu31Kpnh0HbWeXmityuXVt442vG4VjhjpsyFHk2ztCiAHZLTKSmwYQB0l8Qmf1YY1wBAkBlhU5kIvQ9BWGYpmAUJlpKG7JNH1UF7d0smGrZKu1ee9exbJEACZAACZAACZAACZwCAscoX4fhiWe+XD77euH+vPt64cL5JGKHgfJ126urCsI5kU0s5XFeyYhcUQ3T+THJKmeK9nCbe7KhZyquM3cZmsrqxV6WTLDlWPVP4z8ciSVgWz4DbKq4S25mR1R4EmlarBvQVxQ5B70ne7apxlvPIfzqZ6J8TXu/mlIfE+Rr2Sk1qaxb61fVSiMiQGzrOH2MV5HDMlGsSpSq4dU/H0mABEiABEiABEiABE4DgWOVrwDwvmuXH7ogkjV/k1P9v35WFkazuQECThzO8t+ouFh4hA4iNeLNQzPtdBnOlq8zdi/zDa55QK+Isq42EegUV1O4pjXhMSp8VfmK99CqjFxRvqZKDGxXF8rXfFLq0ncE/M75McnXcEK7QthBAiRAAiRAAiRAAiRwQgnshHz1n4nNJLn7uu0V5cThrOCqTHQMbAO6W0D1fH1EFWfhxHyG2qzW4lx1GuRQ9xhtqOwi6kjrxIbJvGgkSlZsy93FwS24WcLNvjU3LFw6TUWrCJQsXVBMG9uh7JcMtXBsIzp0ErXHFWAvX8XexuPNw9bGWrDdRQ5XUcitmlpo6xrX3jaEDRIgARIgARIgARIggZNLYEvyNf8hnLqnmu4Qrp3lhmHESPmKNLbRBnE4L1zewJS7c+OvCxqzz0qvfOVPvUlVhJZ9D9AMHSgKR28JVpGWvkOoV7+ilGxwlyR+BVE/ElUWtt33FcEN0olGzScqfqTwdLNuxuh1V620Uur81lmQSjUB8+lvw65lzrv/udeEGhnkK0SBG6qhTI2CALGtPuERloFOKDj05WSzPlWPEZyzSQIkQAIkQAIkQAIkcBoIbEm+ngZUrOG4CSwgsLeaqmi5Gap7M7mI2KtBbbdz9WC9Jiw+fcTVA63uod94p3xdnSo9kAAJkAAJkAAJkMAOE6B83eHJYWqewA7K17xNWmWkT3iTR04zyy6l7liuGlT2SHXvFH2N9eOY7bbxfuMcWTjM2K/ebnqMRgIkQAIkQAIkQAIksHYClK9rR0qHmyKwg/J1U6VO8etuHoabmafYzhxTbtnNOlBUa7kNey0q3d0PrJ4X0pz1zmpU7CXPdXKYCYknSYAESIAESIAESIAEjoEA5esxQGdIEiABEiABEiABEiABEiABEiCBRQlQvi5KjONJgARIgARIgARIgARIgARIgASOgQDl6zFAZ0gSIAESIAESIAESIAESIAESIIFFCVC+LkpsB8Zf3D883L+4A4kwBRIgARIgARIgARIgARIgARLYGoHtydfyV15vPPO5WtxjD92+nP8Y7JevPJi65c+91j8P6wZXM7Yu7h8eHeyRAwmQAAmQAAmQAAmQAAmQAAmcHQJbkq/3Xbt8/tpjomCrIhWliqr1oQvDMEhnapydKViuUgrY5bjRigRI21j6BAAAIABJREFUgARIgARIgARIgARI4KQS2JJ8zXi8fH3sodsX7lNun7vyUpKylK9KZO7j3sERbyGeS4kDSIAESIAESIAESIAESIAETguBY5SvqFTTXcTXHsu7r3bzMLdhZy4z6teZeHiSBEiABEiABEiABEiABEjgdBE4Rvk6DE888+Xy2dcL95fdV6B74cL52y/d/wT0sOkI8BucHA4ekAAJkAAJkAAJkAAJkAAJnG4CxypfAe191/qPvD72EOUrIOqalK8dEnaQAAmQAAmQAAmQAAmQAAmcXgI7IV/9Z2IL7LDz9E7EEpXtHfDbh5fARhMSIAESIAESIAESIAESIIGTSWBL8lW0qP6NHGnIx1yH2pkOE0D5QGwZWb+j+GSi3XTW/OjrpgnTPwmQAAmQAAmQAAmQAAmQwC4R2JJ83aWST0cu/MM5p2MeWQUJkAAJkAAJkAAJkAAJkMBUApSvU0nt1DiK152aDiZDAiRAAiRAAiRAAiRAAiSwBQKUr1uAvO4Q/M6mdROlPxIgARIgARIgARIgARIggd0nQPm6+3PEDEmABEiABEiABEiABEiABEiABAbKVy4CEiABEiABEiABEiABEiABEiCBE0CA8vUETBJTJAESIAESIAESIAESIAESIAESoHzlGiABEiABEiABEiABEiABEiABEjgBBChfT8AkrZTiE898+fblL195cCUnND5+AvJt00eH+xdXyeT5uxffvPPAKh7M9vm7F1+/ZUdskAAJkAAJkAAJkAAJkMAWCGxPvn7uykvnb18+f+OZz9WyHnvo9mXpbPTVhQu50w+uZmwtQGDt8nXv4Eh/DvZmJrJ3sIrc6v84EEReWcjNTDw6mdSjFr5KXZFz3xdzW1m+Pn7nxZufPPW4j7XC0SOv33vx1asrOKApCZAACZAACZAACZAACSxGYDX5KtLown0TIt537fL5a4+Jgq3y9cH7b9iuoLQfuiCOksqd5HNCWA5ZNwHRULoDiO0wTizDwqFBp7j3+hj8JS3nzwYu1tnVp7NO784X1On6Vzq4+tSb9557fiUXnfGt59aqhzv/7CABEiABEiABEiABEiABR2A1+ToMg+yUvnT/E87p2IGXr489BNL3c1deSje4Pnj/janexqKc+v77rl1+6IJtXBepXza3/Va2vGuQevJbA4WMbW7jpnfapA0Ge5qNsMqHKOy07TZKZc8ySc30B2v35CZY+SkyGH2WdhKneRAOxZEyJDvAwaqs9w6ODvYsB5W5OFL7hsGGaUJDmKYYV6OEJfnTkOlAB0Akdz5XU0ZFYWoypfw81ro1QI2PgFIxB/sN4DTW3zacQu/LNvrhfp6PkiYkXqvFTp3KvC4eePUT3kKcUfB/EiABEiABEiABEiCBLRBYWb4Ow5CUjxNII4l7+Vp3XIchibFrjyVXF+7Ptxnflg3bEU9nujuJ0qJa77tmO9jGxL0vMAzIeUiH/RsEaIJt85kbomNQQOVj7MW2CEMVb9W+KFnRiNkXjsK2DbAk4Kyc9L5lVFKtpaFxahZ21hwOWamWj5MmTSdtca7eLYvUWTSlnU1DJQ8bpuaICTODdvaYB6J9zRgSLX6rW7EwAiJv06mkc3O3c/nAq5/gjb4p9OH+xTT8YM+GRojMd+JrIXNuckPy3Ud8njwiARIgARIgARIgARIggQ0RCOWrCJ7y6dO6QRp2WlaqP60janj5WnRvCiSSVXZf3Qc1G90VeTyTfZFkzdvgNmsoUFuMeUvWfZkT7Mem6UBzRGwyp3TmY+zFdi/D3FlViyBKnYUbnAImsVUUJMgo7C6KDn1aAeLQbx5moWqaVE/2kTvxaE5197bmE1m7FHXj2Q1UGuI4zD6r6ipfvdJUE31s3TzyurtzWEOX4XqoPGqUnI2+ZwFKVgHceo7yVVnwkQRIgARIgARIgARIYNMEQvm6YNAld19dlHRDbBa09YOvsU5zdmfxIMIibx/oBvhjD7nbuVv5mpGVm43z/vaFCxM3ulEdmc4y8dOKvGZ0I8BUsOEobKPbnDOetYlHSWUDrGHDaiNLSduhrLrThvSR28psaIFwCLvSkbXXmsXaDVQacm4kezdeBoHKVBN9bN1MlK8lM0Sk+jyJ/B4W5WthxgcSIAESIAESIAESIIEtEFhZvi7/2ddaHezKotZqZFgdf8ZbgXyVdxDKlmnSpbh9ikg9uSee+XL+Jq3Jb0CIaDLVpG2RVaYGdQdTInm91XSY0FI3RSdVhWQjNOuuo7gsJhJu1u6ruskCMWs/CV4jlhFd3mExabAO1Ucd2fhMqYHadLZy4EpDZ2lk/s93y5FGqW30g+3g5mFJpwzxnnM0lceoqyGZ0nz8zovr+ks8vXP2kAAJkAAJkAAJkAAJkIAnsJp8FdlTN0u9Z3dU9vr0z+Tkvb7aiZ9xTVJq7ncIOe9n7CCQr8Ng39J0/toz+vVXIlz1JnBppO1Z+86ny+47t/D+4frt0AFZkTrlR9VTErWpL31fEsg0UYf5J3WCbVXBeseq6Mi9/UNzWj6DmsxzJ+qxmhnE2FfzaGQcvEaXQDn1SM35cVk4Jo9abTrQ5GtOJjGhq/SNJCSV1cE9N0sTRuFbCpqDatNMqvvqpmTSyNc4o5qMIDL34pdf3VTXIVskQAIkQAIkQAIkQAKbJ7CafN18foxwmgiIPFK5d5rqWq6W7dJY9g/n+CxFytYZ5B/OWW7maUUCJEACJEACJEACJLAkAcrXJcHRbAkCXgot4eBUmWybhnxL8CdPPb4gQydYJWXbfn3k9Xv4bcYL+uVwEiABEiABEiABEiABEliYAOXrwshosDSBbQu2pRPdiuEx0Hj+7hJ/ptXdPGxbr0u52gpXBiEBEiABEiABEiABEji1BChfT+3UsjASIAESIAESIAESIAESIAESOE0EKF9P02yyFhIgARIgARIgARIgARIgARI4tQQoX0/t1LIwEiABEiABEiABEiABEiABEjhNBChfT8Rsysck63fmbCfl2R/NTB+ItA9CbicjRiEBEiABEiABEiABEiABEjjLBLYnX8tfeXV/U7T+DdIvX3lQpgH/+mj6I7HpT5Xu5ARduHDe1bLRJClfN4qXzkmABEiABEiABEiABEiABE4AgS3J1/uuXT5/7TFRsFXyPXj/jctFtQ7S7pTqYw/dfun+J3YV4lbl63FAmL37ehwZMSYJkAAJkAAJkAAJkAAJkMBZJrAl+ZoRe/n62EO3L9yn7D935SWVsqVLBl97TM9v5/HB+2+8dP+FZ76cNn5NaZd9Y+nMCddN4/N5ZMoTE67tCxfOX3tM1DtsJt937fJDV9ooYYVp1/Wo/Nitutgbdepf5tw7ODrYl9uO5Uc7wzjDAH8dpbi8uH94uL/XmsO4eS5HIrGbBEiABEiABEiABEiABEiABJYhcIzyFXdckyB0YvVYtl4lJVWtml7SnwVt0647yXK+SlZsp9uhy8aybtgmNZs3ljXK3LkTKbqXR0FTzUTQmj4VhZnGJqmZu2dvpZrFMAzmKovkHDQwT+r2oibARxIgARIgARIgARIgARIgARLYMIFjlK/D8ITuQN6+cL/ffUUpuGEC6D4Qk7ZxWjZaTbKqFjV7zLm2u2HDMNx3ze6adm1zFTRAs2ZdaWpWBsPZfJRE696B07Smb1v3XomqVNXHNNoPka6+p3XLYxIgARIgARIgARIgARIgARJYI4Fjla9Qh9xPe0GPRdYey6deY/laE9ME5bHTpVWyNruvpnjVfEX5Wtzk23izJqV8VbZ8JAESIAESIAESIAESIAESOK0EdkK+ivADjZe/5+k4iAfyVXKDz+jWrERj18/ulpuHcxV5VznfC92p3NV3X2sOtusqO6W6uVrbU3df0wdf4dbkvLGLu6/oqYTn7ivMA5skQAIkQAIkQAIkQAIkQAKbJ7Al+ZpEYPn6IrkL177rCL76qBR7bFuvwxB/AbLc31vuHL5db/rNKrT0l0/t2lc6XbjPPiW7fvkqstJ+VHRG370kqlQ1rWsHywqcqgl0lc/SOjvKV4eDByRAAiRAAiRAAiRAAiRAApsmsCX5uukyTr1/3ArdjWJRG+9GRsyCBEiABEiABEiABEiABEjgVBOgfD0R0yvqVXdFdyNh/LLi3ciIWZAACZAACZAACZAACZAACZxuApSvuzy/cP9uvUt4hYTBn91+HN0YPB4if1/UhL8jO+6CZ0iABEiABEiABEiABEiABEhgGQKUr8tQow0JkAAJkAAJkAAJkAAJkAAJkMCWCVC+bhk4w5EACZAACZAACZAACZAACZAACSxDgPJ1GWq0IQESIAESIAESIAESIAESIAES2DIBytctA2c4EiABEiABEiABEiABEiABEiCBZQhQvi5DjTYkQAIkQAIkQAIkQAIkQAIkQAJbJkD5umXgDEcCJEACJEACJEACJEACJEACJLAMAcrXZajRhgRIgARIgARIgARIgARIgARIYMsEKF+3DJzhSIAESIAESIAESIAESIAESIAEliFA+boMNdqQAAmQAAmQAAmQAAmQAAmQAAlsmQDl65aBMxwJkAAJkAAJkAAJkAAJkAAJkMAyBChfl6FGGxIgARIgARIgARIgARIgARIggS0ToHzdMnCGIwESIAESIAESIAESIAESIAESWIYA5esy1GhDAiRAAiRAAiRAAiRAAiRAAiSwZQKUr1sGznAkQAIkQAIkQAIkQAIkQAIkQALLEKB8XYYabUiABEiABEiABEiABEiABEiABLZMgPJ1y8AZjgRIgARIgARIgARIgARIgARIYBkClK/LUKMNCZAACZAACZAACZAACZAACZDAlglQvm4ZOMORAAmQAAmQAAmQAAmQAAmQAAksQ4DydRlqtCEBEiABEiABEiABEiABEiABEtgyAcrXLQNnOBIgARIgARIgARIgARIgARIggWUIUL4uQ21jNg/eeeHSvReevrqxAJtzvHdwdHR0sLeuAMndUeDy4v7h0dHh/sUg0N7ByIlg7K52SXmjFGfUvqv1bDivmbiG2WeXSy0tzHj9LeewWC19/aRFMb5mVkoKjE/DxQXlLNA8MZXbc2a7PPMJ1ytdrmMBICNDV3t2Stajz3wjIWv3hHpWfTbIF9rROrnZjC1X+IrmlV7UWgLXuElit8x6W/HiGzcfzzWCUfuWtasegtZGJzKI13WlBJZbhJ2vkY7xqRgxOJbuFbNcxnzZFdVdU+EqCjunol2mHPCdMpQX8ctc+eBntBnL11tPX7r3rfzvm7dGbeXE1a98597Tj84cMutkZ/7o3RJXon/ylQdnGa//XFKPlsAmZWRXeC5mO/LVVtXchbXA8t3EE2B0YXcXbV0GC2RbjeLWGl3FAcZ6o5Jt7IzabUzYmOk1tIBOewKUJ6KN6qTFqc8ubPZZKHHBphBZ9zPyStdPWhgTXn2sAGTxuVkQ6maHr5D+IqYrAB6tf3L8kYFhtyS65iWcFuHyPuUCmLCERzBF9aSEqk85XD6Axg1p6kl7XCTWImMtQG2saF4dNa35fjsU4yZyZqn11sVospxzOG4+nqu59L/4yi+/CXbmYLHGRM8Thw0LvXk79bfPOM+5ta5gmn1PLnxuKjMGrJjlMubz64q9il1/TYXews6OQj8qDtwZzu5Ywck800C+irJS5YbtMMcRGRaODTo780fvfus7d34zjfzNpz/51qW7XwqsNtYl6nE7EbvCN1ZT61ieqCa/xpi3fFrnaz7ur6eZAdaY7RpdzUy5O7lgyZ193LGS1+2xWDzS7MJmn41RnereFYAsPjc7RXKF9BcxXQHwKK7J8UcG7h0Eqk0SnfxrYDS1dZ5Yu3y9uH94sAfFr2duRiA3JBaJtcjYJowcrmgeeMxd8/12KOabjEYbO9HFGBsY94+bT8/Vj/RHcdTleid6njhsMwtjnOfcmlcwzb4nFz43lRkDVsxyGfP5dS3iNfQWdnYU+lGLBO7caccKTuaZ9vIVBKTEL4cot0o7yUvdpK2bpbeevnT3S7aJWjZvbz1dt1JLOzbH6CIm8wasRNRNUduSDQMNX/pmP3KAWKpOH7zzwnfufEkUsowvcr2Xr247NKWh29Hg01KCPGvhLQ0wzKkWc8scd7NhsEZ59O63vnlHgWhnWioT3kKTFRq+akm2aXutvNaBDuzWNYmP4jT9gOeL+4eH+/tyQ7H85De9/QsUu1jMvNsMtiElmuXk3kS33s4ekxyG9ErGBpsL6ylg6jEmj6nUdqpyz5UfFe7zgCOIVfIJPOZfRCUZZZmcVHMgL3Xqz8FeenWjh+kRh0Iq483+OSTNmPpJB5J9mHp5fVUyMOiYVnIESeexOjS5913jQJoi3ETB6qjBUmwZptVk3/Wo8RgfjlTepS5xta4cKB3ZOBfWeotNCoL3zMMr8zgt1wvuMk0NBie0yxmWg5GrB1bbLOuYUNyLa6PSqnNW5wpSLwOTx+Bpp6y/dh1FhXZ9YeV4UeQ2JOMBdw6loxmd04cau44JqWNOEHTSOhmZippRnl1JG+bZItq4OmFDesYt4LNNm0kKiksask7N5Na5bEeMHyf1Wp7106iREmEFQ2lWEF6x4sZKTj7xqLSbmYU3i6tPQAjPA+LRA/ZHKWL3n4xxiGqY2b933SI0Dy59622jQgxYmCmVff11qMY2VjuSM4zjTvhQ4cXnMq8swaV21vnJWdRIKddJn3XyI9NRV6PLqAbxtcjRSD1yysfxzxG5HhnhfrTMNk44cOTqs7Hemc2aLmDogCl3VzlcP21GeOG4qbDwdqEFiGBQju1zhWD1F8Dhfn5hVobW9EdtxU1aMPoLpI6s1nCtBZ3xeoP069qATisdCilNiIHUrbv6KwbidlonBnPJSKBc+ggNeMqsiNCda1cmudtyN2EQLSIclSrvihqGoZOvopdUoUm0ouiKZE3xx9o5uXTjcdlBNdVqjWEYsI2ukjnIV8lEd2Kza/lfxFu+nzkFqu0k5JIozZu3kQmYoy411Zo6VSejphXnSCapSlXCGulL36z3UWs7pDHjpmsHxBGQdwRSxPTWQNbbmJIugWiWNUN4DrH1KuNlqaidnLA12a686qhv+bHZf3ZqZ6QT42jbnDXPsDjexvhOTN3i2FjXSBdECalD8QUUtvW8OcCotS0tpVV6U1epsvNi7qSBqYtVoo7mxSMaASBMt7bFqU2fWQae7NzcRuKWnzvrE44mDJ6lqeuodkPGUnHin0Z2kw+r03JSC+nQtlhriTWOmUCjnEWD9CpBreUVQ2rDRM32CM6hKTaaktlrujJO23YyeLUCOYAFWBcnmrM+Qh5zmxg/DZYOo4ELsnOVVkEZaqliDtjurCVOvzZSb/FpqSkr8WHtyLmdhIEYx7IsnqzOLrvZHWHl6BzaVsV8l80zkdTqnhwtXXA/16sZ1ZERunpWW9FUoKW1MRtsdyvaLPIZyUy7dOb0UZPoHhP64ImiG9h3FPXq11C8Bjtoo1ORVxqMRwLY7teB1i6ZYruTLeCm99LX2aieMHX0U9tIv7TlpFZXBwZBUxdkmoeIiS7i5mTrDYOP+Zf+tAJKSuoSs7TLJuyUs2KMVEq0NqHxJPxIOeprxHKw3XmN6gkziuvprrIuQO3weddVp/npY7JQtjUXXQfVYbf65ZRfy26wPwinAnPQ9hiith7vvhyl6Tncv5icHOwVG0wS270LCG7xpE+fhKQzkQk7w/WmdUkwbZubSRPaTI5mbQlqhzxO70Sr1O5NIxpuxmfDzBFGsse1M+Zm3DS73oh8rVuCoOKsc558zZ+5vXQPtavtTIq2bLUxTkP+1K7FklPO1sxNsqJ12Jk1sxnKeCcy1UEObXu/Wf1isZKJ7qyGHlrPMB5kPyh83RvXFOY/+vVQ1qtfPLiI/fDZ7v1Y9AJtvXzdNZAuEtVH+KwJhjW263RB3UE10FZwWny5H32W6sZi1NquLQ3inj6C0zbOEajPOs7ET4yYGr8Up0+9yzvHc15rCtNaIz7TawJTbe0Tp6bu5ra8qzeaTRdprvWoq1SanJUfnVXp1D5jl05qus2sTAOUfGIMMYtSxwm0iBrDFR9ZF4u9/YODg/ySrI2prkYfO1x1PZWc8fJzbtr0JHbM0pmVAxfYSne9ZWRUueHE7MKB6BHbMh1oHOU41udMFRh2QtvFHHOYF0eZPCmjsIQE0Q+4H/coZ7qB4mVi2RiwREnWdpnYZWSzJ/HcCnQ+QutscXFflnC6MQRKnl3bomeBhabZpldi53WEidQKJaozayFDGIe/MZp5qbRjLbw1ZhbvzL1JPaUM4PktuH7q+L7uIAcsPp1Ge2wH3uS0LanAt3a5GKUKKyYNKiPCTpkT+cHZrZ6jXj0Lj74SPLJ2wBIcYDOqp5w3b+k4ricgid5d2/uz3z3x1efyCp9vNauWWn/9uCzsIJqKkJtLBTB09ZhraOig4iQfyv/uxz1tgbW/vKsPqLkEGLnQgiKjGjXLFNoduGT0wBHRzu6ZKZ8IvYWd1VFp9aMwsLZllPsZh5n9qqHG8w6ydYYEmGNTdaGPnXxtFdH4zcPJRS/DQsGGndjuzFGbaY6Skn0ktQ5APzY0N8Ttty4VrehFoI4MlWrYWe6g/gQ+FtulLV7TzczqXh9dkpBJ6GEL8tWv0HI0cilGL4i0ruDRr1IMhO3ydAQhZeXqFeB9tK8cclD05l4y+IM+w8a5DIA0/PhuLEat7doyc+zCtg3Qho+tQ/UxjfJDpKs+m/fnyvnuOWCRX3maHD52LMpJ6T+s2+l+tjS9mnB16Wqs3f53R+qfaz3qKpnns/J/haKJYdxKaORsM7g9jLKIUhe70t8HcphD672D9LayvKd8IHdG1aLahMaOu0R9HJdC48OdGy2iMbJDF9hqd71lrM/IHOSGGOiL3nAgesT2vOeGJo47jCp3/mCAi+m8+AN4TVNm0aCkgegH3Hsn7VE80DtubfQYA5a+MUPt7ybA+dBRGiA9pi1RWb0X9w7c51LdqDUcAN/0Ukt+wcxMT07qyvKpO7P2OQqRY7sxmvGbpslLai/GPo1RKC6Ut4FT/RXbTZ8FzqHAeCQ2FpyGoAm2a02tp5GXrXWYi1FS9pmXEWFnuUzxJUZ1PbXlK8Eja/vgsxxH9ZTx5i0de5dg5ofNiNUNnHX1QQBwKS70qtCs4t863Ujwkps5gp8KX2QxcanAiK6eLgSss+Ik2/irIjKzPgxefUDNJQvv0lLLJq5IqMCi2HjpcQc2BBuYFPSHhtM7wVNu9qYYWNu+8s5J36GGNYjibAPK8bTlVqL08lVkmG0SWlvkVr1htQ6QHUX9nqfsEgRbVYPmJ++F1t3R1ryq04oB7qFNunTW7quzgoTbG331pug6Xlo1YejXTrxTF1KykSk3vO9azoQ05ERbeHHjZC1GqW1EhO30m7UqQcvLN9IKUbWoywcvN2xPuLKq936VtmHS2PIceogn6ys4/0ap5leDtFe7jMjWqTCQKc4mHfgE83mpVi8mtOgit4Fy+t0w/2QUnIYgSNraaBIkDM+FcermCAKNvg8hg8PynXGQRi0T8oVmfXUvnfbuhLqVzsnUO+taYsq/O69RapKSjg2TdhRc0B40+0nV1cwWVq4Dw8LlZHsBqIHDHFqLZdq2GvYODg8O7BJSDxMeXZByMSmMsVnJbsGyljvGssukmqAAwF41kT6bK+3ER/31GQ5Ej9geeSZLC0jrxyDYHq08Pwd4HzAYffi2luB6xY8+KWJ7JHVnmw9GYsNzRmBUuhys0idZhHDK+yjtOe8jtE4LV+4dyGu59dDmJz4MSntyxnFDIhPA9JoB2ZVNC+LHtgzzlvVsSrXW44dluxhmNL+LPBdhWfk1wNgqSvdS6skUtmXblNOeboj7yM2v5uZkc4ieZq5P4GgupKGkrW0N96ym5ng2x5ZS1Qlm07fF1qi52bIz0oAxvQ/r0YQaWnLevKXBcqT5Ybtdgea5b0CsfHLG1deNNXd2VUiPz9HG5IYb2ZyraWMx0u64QSo+HJzovGuHWpSx5XD6ZGMMbderAq6vsNOeHSRumT1pRjWWPvHTn9dy8qMW5XvjyQjHhp2Nt+65relQGunFlK7M3kffY4bpFHBLpdcrK1u6RTQv70C+ZhVXboKt0hS+jQl2EXFwFqV4D22VqaK+ypck3frKd2p/UozwDUZejymK6vPpp+Url9KnW0EZ6ri0T6u378LnZvH+4VKRilIzlYZ0qnn+PqfUg3f86q3LWYdD5mJf89S/+tP3aMAaK9NI6hei56CQuSpwRITtfGl1F4rGq4+yJuwHr7Hc6VdmvrpmX2F1TPKQHODCw3Z+BtRLOyVVzQ/2dUvJ5aiX9+zO9MvZJ19rlpa/jPSccwrXEmSVv+DBOmDbwFeWXGIXtjUePkJsTRy6oic196s+Hou9tZ7aq5HKSyo3FZicta3wNLviMjlT3+lAnNYQOmHZBdpbcOi0Ps3I4og9DLRUtS9/xkUTsYStIRmVszm5fDCSaPI67sy89g2Igyc1TakHikzh4diVWIf21mAoJ9EFhp3ZrrWrOcSZVTwMw8jVn5/0Jol4mPQGMYNQQVe4NtAjtt3gGjKnVY+brPNhHDubpulyG+HWj5Q6v+jTZrKaNrZ19MxU4yc4WV4zzVJyErsfBRm5Z6OUEAx342whuN48uhqmk+CiQyQddXh4eqyzBSGxDvev4+89i1zZ2jyUl+npaQg6caRdplZj+qYYvaacB+20oeI4xXc92pmKmlR4bA69Gjm5TP2uxz3xlDNa5Lyn1oxeR0M9ClbCjRcJSbqF1c1ojQAz4X4raMCwE1ZC8lTrl8N61MWFDqsk9eERtkcSBT+pGQ5zNOo6gLG1yHBptVHKcfWbK00O66RkpxCl/qLCTk+pnunN/cgmqZGpqP50Pvoe9dTWo/3wqFNSounh6IsTME1NyFIuj1JRDaw9bhpqZzXJFxdwb55OtMqlL7TiLz3UOYXe8c4NPp80AAAgAElEQVS2aDuudVriNqdQWh1WF6v5gIbW6Eqvxum7XVOWONACJkf1TF5u4D366iZ/eomjSFUu4eaUmJDGKZnI3ShDLv3oMt6J7HY6uQmE5JlyZ+FOyH+Xh+zq2pC8/O/LbVD0NNa27uAFBlYxSb6iAdvHTmBta+LYK2ECjsDINerGnPEDIjrjC2B6+eHu63TzYCQFG0IhDaTB9moEjufF9tSc/YvyqVa7Mm632e4KpWXz2MG1ISnpG/7LlrWknRMn61t4I6/7XLQlM6bZNgmsb0lsM2vGmkBg5BqdYHlmhhDRmZnqVQulfF2V4Gx7ytfZfHh2AoH8QrveJTLB5DiGSJoncvdSXt/PvgvmOHCeqpgndm1saBbKkst3Va3rojGn7X5yPtH2bqg0ul2FAJ+LVqG3+7bUZnPniIjmIuKATGD98pVkSYAESIAESIAESIAESIAESIAESGDtBChf146UDkmABEiABEiABEiABEiABEiABNZPgPJ1/UzpkQRIgARIgARIgARIgARIgARIYO0Ejl2+ps/1Lf3hn9Wsp9NMn0hZOsvpcVarZzXrOMvJlU8eGMbpUk8dK34TbOCjixNms1jnapWL9fKfSptSDz9Lsth8RqOXZljWoP+SoLAzCrtDfUsT2KEaMJXxetLsLH9JYhBpp6eHDXy2erWnnSZLqXkTv99msQxnoHZuiltT+fhhC9iuWlwbm82y0hhP8ySdmVBPorz0UlzNejrKdm1Mt1xs5Gr1rGa9WKZzR6dk5HkQL59kJTCxs4xcehGI08DHJmistg7awucydAM2UY8LMHIw4SIesVx797HL1/TbffmFKgtgeesAZzw3q63SIIwsvSjv1epZzTpIM/rLezGh/CotKil023WGqY9R6qyjjtg4jBOZT+8Tl+FkTnIhaeJz9ySjOsjVI778j3gembDqY7nWhtxOSiae20mmMmhx8yWLDQOFnVNzXzKRqe7Hxy0UeKUSR3JYKIERH9A97k6Sby7JletZ2QFkXpqrPO10xW8gv5RmwNIq6ZKQM03nmvNKzMozZP1d1cTUBGPA0eA1Z6kJdDTqiTW1omLW5Dp0MyWe+40WepnVuZp14DlOOV4bgfnUrrEltFo9q1kHucc0goFjXZEDqb17CTQGZMyx64+N104jenns8phzEBY+xwZO+3rkqGKMOINpDAgGzGjOce0tJw2WbOCnWwveJRxRvgIMaU7C3dgscTi2fPyKXNTxatYTo22GUJz6Kn+y8OL+YXAdxHEmlr6JYWt9CisJ+inyR2urYUNuJ+U3dvlMMt6ifA0ZhZ0TM9/W81OfzkJZrzg/ffT1PzNvt55NAAkpTevsij+O/LokJPemc515jfpqYs5GGA0e9Tzb1fyzUbD5VtNHbNp/m8mUeKv9hl7Nus23X5DBiLV0jS2h1epZzToobMoEBma1K3Igtfcv1fjar1KLW352heyhbYpFnMHL2HKDIaPNOa693QKDl8gpkK/pZf+e6mFbVsJKf+yNS4kIP6W/DjVrX9MGj2psuCIgzZJiKnJfS8qdYJprSt1mW2uRC2s/VX6wl42qV6VReupQe2vEHOrQ6jjkkiIUd+GA0c70BGBVmQvrwT1D6NR8LFHtkNcW/if77AemkRYQd7tsLAafXcHo2dknYvna2sSMuiyl8qAeG2eIxL/1FpsukxS0zQSOkwPnEk5OaPrnjHSkax281tmEzsg71JMhVMuyHBQNnNCu/unEs/RHfXhwmdLEZFL0kjz2Wz397OIwNIe1bdblzdVSI3TPzDIXDmlne+kOO3tnuQcG59DQUV2m1Xa43z1fQ52auMDIT1v2XCSRYKS41Xlr0+pRNq/tyqJr3MEbwq1HOfY1lUyhcwbMyF3jcayWElmfvaFqC22mC9WDg82DRJMTXQcurIWeIyyMTm1ZBXqR+1AelFVYouexKT9bHDXTOrqG8v5ycYf7KbYuxDTYbKu7Al5D11/RNtYtzdncvNsuq65DYrQ2GDdllQcEgNWdf27Nvd3s6mB8NJ9NiTimtDEr4147rcsvd60NApWutLiaxVHdldlQ8z6f/ik8jenjuOcSyBJjQXcfaQM9ELuG7lOfjshsq7v6zKpPKRW8rvXSU4faMjCHOrQ6jnmkksanKzaS3iC4dEMCkLcGkLPSBpA50TwgXBw4Vv3ktKLLJ044/cKJT83tTUldnDcsRbBULU/rKU9Pcmwn6zO5UfPTZd3ZqMtkXlnJ3rucV0c+n8ju7R/mVCtnSCi5heM8j6PB2lRLLcm1PpuYcaWmtLAnRaoQw4oksTlDWrtYvtrv89CjzQjMq6NlJdnINuymjsOAOAvaznPYznS+wi19yLLWp78yDvaSj8P9i3pOfYuZttMUZoeOpTuAOEEzuVhwWrMbCC4JpTRgztKVaLlFVZdK/Cn11Kbq+7HA2lYsxfHcqsL5bAOPHGOskSF1LtMArQAttV1r6F9TqV2OohZyVNrlQavRx9GsJFh9aTc6bPREl5B6q1VgDtgOfGJBcNoHKSh1RiWQLS2Nrk/9NYtEyC8viKCvjPvfQ+jBG8hRTRivHci3M0cC1sZLBYzDePa8WwsvmfTVzfSl3i0L7SiPvbFE1MVSCnNJWBkJRp0Ue/LT3HvXGBus7cmkNjJ1q7XkgfZBG9KsBpZueV1lPmenF7s34/50WE8eVpNRs75Hz7jHuvBcd6lEr438BGKplYIXfY5oLh3JEF43mPc2kXzcsQzNcQ1iu/WZjPMvQknBwXIHKWddbnXx4JQ3mfXmRnEcdpufHac5t4sFu0NeTS55fNTZZGmOxxozUw9pIP7alqFt5uhb25JfuDiiYvqkk3mJY6WqbxmObTW3vrAeHbXpx8oKIllqkPqiiBy5tK629oJQcOtsQlUTmskwT6TNo5s8JVPPNq92XNkpYgLXLo6aSzsBvYM61rdaS3929pHWMXeUcdS8MKq2R2k0v/VgOUngnERJBXy1V6xPEnn6M3OOcgUap9Qj3iweXIlY0qhf8JWedUsp4SoCJ2qWupQrnB9rTsrJG4/IV/sdUVNJWPX9ofwrCHBY0w9b8jLzOS5ylNDWCRPT3GWZ55OICtsy2qYbArtuWBoCqhyGcdAO2y4mxFlrEwOWi6nOp0SqWQTcSirOifR1HSMD7SmkxgwRFfOxB8kxnJIxA51yW8MzBobVjGQZ1FM8OyKRdSGwt39wcJA/jDotuZmZzzjpEnITpmcS1XpN2LN45LSMbVNWV2pSp1l6bGlZQ8fJo7G0Bp7FdrwwI6cOfLmG2xyL59Zcjt0PXNbZZMRROjlSuJwLzcLOkll9iAsPPLbFIN7kTuPpo0tMwpSZhWZNw1pobfOHndgOcjJHtSGjykRZcxwm+q8+upZ4qj/toq3DnTu/DPvs+57qCFoldhDUO/DhciaLP0e4CjAAtiE7aDpT6UcTbcuj+wnqSj7VoHjVQ3cuB3dx9UAf0xB34PNKl5NLKPpNnQPN+r/UVatpYppt2B91uorNvG1ET1DtmOYpQ4OVlGvxKXk9i05cEN3gw/ywHTyboC9tO5PSGcZpZihNj0vSHaj7jT7mPN1CCVPHGrE9hshVUg7UrhyGcdAO22q7aRhGQoOHWWI22A5ouNOavXTWn3qlNctbh489JjeW8dgo35/qwYj+NB4pAujziZt8sSds/+up+w0fwFz8eR3SWaSp1eRcy5ElnjzpkPZ5dSxMtr64L69b9+R3RHdFe4/BlNcBY0GsP1xJdjZsTJWv4lrXUQ0DswUntRkG3EpnWYR5EfsZLPFrDc1UjuB23eVAfZTDMA7aYVttN4oDA5ZXnLoEc9w2Czm2S7ak5pxIX9cxY6DMAIQMERXz8AFsw/OzOqcFC6oZMyz9fU7OR2i9d5A2J+QN2gO50XPDl4hLyE2YnumLmIUyncsXe81cXamhd2lLyxo6Tp2JpxCWG5gP2oXZO5Xs9JdWzay2nNPW3Kdehjpbd+B8uQXeCAGH3qxm+bJBpdEWHnhsi1lMvopD/alz26bRXvY6b1gKtoOcApdJNGnwMnl+KtAP+o+cpT4x0DLQuDdw7rSePKw37Ht6h7WnvVLaVdEs+5LJws8RrgLMENs1K2w5UzmBJtr2U4HmTVsNilc9TKPcgV+9moQ+pvHuwOeVfvXoNd6ksPAhxsE2Ogr7o05fJLqo7fgJqp7XlvOvB/FU6Fk1lUe/kssZzA/bfj7QjWs7k3ImjBPV6JJ0By7GZg+kAnthE6aONWJ7DJGrpByoXTkM46AdttV2oxwwoLbDLDEbbAc03OmcvXSNPQlr2Pl1xmt+vp2MCIvqTINcxoIWh/1p7yOKu/DzepfntA7L5KLcQFyOfEI2xD3fj7tPnuQl68W9g+QyPftWL1UMjE45Dh4PlM4EK2mOxTBHvlpweGJKv5yljn4uJZqc1rXroyfD+NSSA72ZP7LshIq9stUxiArbY/NqIMRBOVA7OOzioB221YfmM+PReM8YE5+CgJprmh59CSCetW0ejFvpASe5x1yZSW50A4VluqPGYohpH7Hxg4f+6ktnJq+ithD0W9t91mkJhFl29RQ3zkdYo1imd7CGvYPDg4Py+YSaRdNKPqZcKY2dHrqE3FKzM4Jx8Qg4H906wOVU292wnKTMzsHBIjrezafVUUqWKKUchNcOiwHFT1rVZfKo7tUFPNZisydb7w69GYwlZQOahitccqn+ZWTfk7p0cmsZGFfbzncT1x+qhYtYK5cWIILR3g0e4Wqy/uqygRnUaUbWAOuUkUdlw+qTuHS1nttjPxqdjLeb2rxLOermZ8HnCPs1lHPAANiOM+xGYIe1haCmGfvxscukm72cdQewMKW/eJdmDgOdJV5v3qx+GLfIr5Yas8uxeByb9Ghl+yyrA2hBQGmOc60D07gyMJ4KWO0aKhm1q146tQ/bzeyoj/bRmZSTURzpK+slnU7t2pn6dIC4SVfolAU2eWCbOR7bU13KQ3HoCOnUPmyPIXLLoFn4cGg+NQ7aYTv+VaFW/jHh0GT9qdlHGFDbozTwkrRgDk0K1vekeS0WXaoadnaicrZ5Bi1dM64ccGlzDX19M8pFEo6W5KTXfmmxtFO+4PN6mo8ogz5/31OrkeoP86Uo3tQZticut/RqVW4YzEVkTzVQ/R0k2MIpD5aHT7seLTBUjUbkq74lrinlX0O5N31LQ041LU4bi5is0xb+As9WUofR0EwnPWJCmo4+T5aUcjeiwrYbnHJHl+UXbpk/tavTiWPHpzpXkouUpCDRqMjkFDBGY+K+Ph0ZVwPXyOFI7HRp1hPRMqhecyhfXrWdW3j8FJbTn8Bj+aewslTdgkmEU2ysB6upiLA3jwZDOYkuoqmD4dHpuX11RcpQPIJ2BlmKnMFzfFyts5jDUCtR+iLvaayNGiuphmio1VDFRx0p309UO+MQnXntqE891pfehIkd5cRtZJMl4K4Vhp31dG7VchqX6cVBnrWMVWL3gMFeT2Lc2oaBdQW32binRUzICk9f2gOI7MSsxV4HpYJKotALDl0KWlKfZzWG31P9sJFLvFojYTGvZ3xO6LqOqWsIDJ1LwI5lZ+dycjyMz71MmsRWKtjG/LBd4ycrNIG2NO1H3aOb1FaDsqjKobM1INaL11TUaX0lfole83aI8ujRDCVN79DjrV6zi3qcotdZMRglunc680VL9QlPUB1LTBQR+fStUIyvnTWQIpJRehbbC1xTag4J93Hwuak+CVuOrh6N7ScC3EMzewhSgDFxM8hRBvbdiAXbbnDKAG3LxecXPvzCxbG2iKzi+iQsORmmmZe+Zb8kjSh4nyUQqrtumXAdnDNoYKVBWMr+QVl61RCuqewz/D+Qr9nvhMpXee1Xk7cnLckvdRs9tyxcPVhmGg6Gcg5dRHXD8Oj0eB+uppREiQQJIbla5oyMkm2ySsOzfRMom6M7m/KUbI2P4V0d1dihdGPCgxH5OhoInUjQOlCyrEc4bvG2eJ4BdXGHZ9MC19nJJBA8haXnkSmLY9pT2Mnkcgqy5jW+C5O4uefwCdW55yeuhwnEOIQEziIBPjmcvVnna7+zN+eLVryKfHWCdV1PMOJn/lsUi5Z5Nse7l4cnEYEsBnxLZKHFsa4VeRLB7X7O7slj99M9rRm6adjyFePDuUxOK27WRQIksBCBhX7nL+SZg3eZgMw7X/vt8gztQG6ryFe4w0D2fHGt7UBlTAFuYjl5MPJvrdUW1Tp8nDxyu55xmZUpG+i7XsppyE9ko/1s+Tm8LIUcngviNCwn1kACJEACqxBYx+u2dfhYpQbaboNAIF+3EZYxSIAESIAESIAESIAESIAESIAESGARApSvi9DiWBIgARIgARIgARIgARIgARIggWMiQPl6TOAZlgRIgARIgARIgARIgARIgARIYBEClK+L0OJYEiABEiABEiABEiABEiABEiCBYyJw4uTrmr5NVz7ZveXvKdnGDNfvYRktzr4uZYWvSjEf+c8b2eEKLtdBZ4m1sYTJqpk2Sy9N2ehsrRrs2O2baqflM8Eorbnlsa1oPq0M/eNwy6e5UJzlr75t0QjLWe0CEGtXeH4KdF1h2FmdiYf/MsINIEoul0+0q3xWRe6cWuqjOznvYAPPmBtwKWzjyy6tj/jUvNKP+/zIgkkVpa8/W6as5DRZL78UNw1mpPBNh13O//jSG/W3gQtgNFZ3whbAyPxPqWepZ5Iuk/V1rGfBHOu0rAnGaahhHMUxy9cpl4ZPfrnpsEtU/yjP4oF9GgscbS/UAmz6oX3PWI0jBU10MHHYWPBZ/XNd95nPNZkVb7lzTRIn+OXUlPqbaqeY5D8RPu+lmHCbN2ZGtBXNO88jC2ntszsSRzCPvPzoUg061k0jCJG+pz5KcTVEceEjlMK0us54ya4fkcRZYdLiyrtqgg61hJJSLvYF1LOyWgltkEx+jydaGOkvfE+7xLukpJ7YdLXlFhewpd40SS2prvTRCy3KcpxTNPq4+sLCg2R2opolkgjmMKhuo13jKUypR8b4hTnub+kypiRSnMvQJqEFrDXDDdSgroPHLsHoD98GdtjV+TjRf30EK4vbZ0G+Rr+w+nmO+ayhd2uhFgnUX5l9z1jtIyNHulsvE4e1ZlOO57ruCc01mRJ3sTF9EovZn6zRS1U7xQheey9DZEXzLuS2FtJIHCHmXz90Gc7qWDeNMNZI6uHYyZ1x4Rf3D5enERtvBdHksof8Hs9yRerlpY8WteuwM7WxgVkcczklnZxY52G6aa3sRLaiQjsa45UtMHTcyc6ciWBsPbklktiBWRhPYUo9MsY/F437W3pCpiQy7nwJ6w3UMJ5f/2Yd5esMWvlULF9lqstPfgszdej6TAfSn/jKr/X0U9/stC63pGtvel8UYmR7dV/HaY/ehFcCQffc+sbe25XoB/tapqVeY9vWTnoxs6cjNXYwUHKBomQkHPoaBV1bTUgTPViWXdU4KrnVNKM4ydpdmTWZktNYpJkDnctmyrLDmeZNUViSViOEbM600//14do7wx8gSknvl8moxhB9jEXx341M60U9wg4ADNS1ZV01sCyZw/3e3IbmGRpJqn3CKy/E0biGwt4Rf7nGYGGKrdpgG2a4BEpnbdLUBq8M68NORdTM4uYOYxq1HuUWrME6yF0+5lFN8xNmZnGwl61K8TZW646WwUicUSZpfKU7Oq4/ERQpg2oCtSTIXKpP4bAvj6yWExDZynLb8OB0fk3/f3tvjyPbc2MPbuvtRGv4A3JmCXqWjB5oAYOWUcAAbciRV5bcLgGzgAfIlN0baGtABg95GMG4efOrPl6xICh5Gfw4PMGIjMisVz9r/LWyM5pTzsWiqCgS1EGWMDgRkmqZa1yQaNZ9DepP6faW9Yj4J0CF2aZwgm4AvNb8HkyGaJhiE56s5q9SCFfdWlrJvO140EwRRcgDlEVFMgyaPCi6f/bCMxse52FLRPXcPj+T1aDIzWydBU7AwOvOkvRIpW24HIEQyF/VTN+6fr0O61+vPwVlVJuf3NMFrsmyOx6gUePFkBVaO5LSACKcrEcSeXbMw+4N+vybFwHC7BQLQKuM7KjGmZqEsERMBgTvzZK0QmE1QjPMETPmFwt3AmGPhGV0IXhfzcuZKFAmMBI0Y02BPb2nvcZ7mnPk8aDxFoehkXzszGcpSoDxMG/uL2+WYk4+MOIIYZ25KXLXWkjKr5FnJJaQVCXNy2yp79RY9ZgeMfI50JUUT5z2Drm6vjKNIaMWeTUYWkRQ7DV7yTqbPwWemLo68FKwoQwPY0S8mQfiMMIcSUsKNRYtyC1DOhC1NOhVLDcc+8U6Q6tTuFCRY6cMZjVl0H9Uoo0tieo8ar3WvGp2KTeWG/W41Mfc780O8g1aqN+81qt6w708VRVSZsKnkWX3coFHTZYcS2eJEhTMIDIhpTsVma0dyBAw4YCF1zALTUgxWkvKUW5MriFkpOcwu3oWgsVwRxEHfI5cscHluFw2zNijgD4hTPNlTConv15/YoyTm1zSJoHhk5LUDzxvtcVOWxXpDPCCFsPcGVPIqbTLFOkuiuYQFoY8xYHBlC0e2T6056RTvkwu5mRHkVcNQ8MR5amC85psLwiM110daKzd+CX9BKg0p97wZhQ/LlInjYt1uWwYCpkQpIcSDJQeHwpxRWtOg9PjJU4RMb2GE09aMjl6OHQqKRrRCkIKlU/LEQQbm8ig3LoQx6QqmTa/VT6LBTOdzrcXWFIKqHbAtrzMjhvD2Uy3S98r3EnM0K+rywYcplydY1cKhrAALkR0FJSnXABIKHYsk5+J4o7sphIQrvJZpamYm4SHNJ+7ez1l5SuaocnxdlYc0vOwK8tusItG+tV21ZB5iM4VvdeyTsIIsTaNmBh7ldHNthMpdpLVCqAWsko+rkTFOy98I4W421Sug2GWWwxVpSbxqfBRbkyt3DoOifAqadybc94tF9dXLXh8bKL/76tAIDgXC6SYT/LFXO7Ac4ESUUlgf9l7knN6OFM+T3/Yc2KSc37d+Gg03CegB4ajJt9Ct0VOZVoqw5PcCUUWZ6S5GEzF8FlpXDU5ejxtLGd1Tu8lzGYRN0upDUcPsqvJrMqNkqONp5mhTDpipcyp4eeYlSXngIxX9U8Py8LmUZeph0mc0YxYby8/fr6+vr3pq/0KZcJJe0zuiSKeqsALjTsyW7M2uyNPbBh5VBeNWCY4RjBHdEPK+GRR0k9smCp2Iy2SydjJjJVt0KCo1cYu0QFzDZvicaJHypzE5C0b9CYKMU+wtwNHZbSz3g948T5ZUcQhKll9fNupLFbdeZ8Z9O7Ni88FXpglThObSYtVIfS9yHqOM9OK+0GaDKgOmgq3inJhZsGGLgvBtFkM0Uen3fAMnAGSI6iGXVmeMojt6C3v0rpqDzptBzgInOmzkcgC7POVFA1UUyWiLFTYZg4q8aFMXCy4FLrK4RFCgJnFxKNAHNW6ED5ZEpdpFx4GHsvsN4azWbmmas4yEH+yRDZpMsucAzJe1S09eCAXZHiukWcBstlZ5tnDwxUNLWPlikyNgTwWKT2mEvzBhU3bMaaUKg2kBw7pfcJQWE7GKcz6sNqumtUrnwdRQ25bi2PKaWfmJCxXqRYdhfzlp7cy+YQzIq05mUCWw2dI4pl+xo4W6b2jass1s8R1JxfmvPc919fXzWYs5f/C5+HzujGAUS8D2xE3F116J+f0wCl2sqRY3ys4sctsmpQzH6cNBZRHAsKyyG1Hite5d9g50SaPwlhpXDXAO79uLLO6pMhqWadjTqEVg3UP7EL0Hquw3SzBXDEzlElHrPNLrbLkHJDxqkDSQ1RiIHk0ZDr5HJL38/WXfOz9Jt/s6S+XCId0HlopOtFa4MVpzD0dKKkEf7vlUciXaFuXDKV+qshs1MuHydjJDJFtwD7xILN5iQ6Ya9gUjxM9UuYkJtdsaG/Zu5435q7fOCqjXfRGCKWsKOIQi3y1A0U45buA1kXhHFA4PpZhSxvDaWLLNvihv0Ama1kW9QvuARz9kXIGVEdOhRtVmTGzYMOQxwrTlnGyYjRvyGfgDJAcQTXsyvKy36JIMfJNC8r0KhaAPIU88w69WxUphz5UFA2rJW3eiRFqYQMD62s2pRXHB5ci7RopoFjM8DIpR68imG4QAK5FGbGS22y4mOXGhO9ihoH5VQwBA054FVvIeFX/9DBH9OcEnWcB8mm28K7ioUXIhSMmXs0CpS2PqQR/cIEqT0n5gVOxPssckvdJR8ZhknGOszyttqtmcZo3B0ueZwJxyp0ZgxKa5SrVoht5xmavx7i4xMLWYzIvGCxzsiHL5KRiLjJGoY+GgiZsRHJkWW0pwzsP3/tUXF8FCD4hpfDAh9c816GVdend5/6ize/dY2hmtPKW2COiSCm6bgJrNk+rwi4m8Dh2AqmB1cBHKWhpqDNYYZlr1DPfariYUcJlQ8pj42lBWhVujmuyxbtKobrVt1DXFO37PGcTMMaQiCZzYpPDUO3glKPFE0dYQGNQI6E5wreQKkvRwdnlYEOkvBSQdsR3F6Kq3jAKPPK29Wt8USMX2Tf9xxMSceWSvS9sLhmgOkZMkXI9MBg5N/WsLnuKNim4ApOV3HVlFZYHKmdDoi3BmAyWuU4OzjY4aMDWxrQ+tIz5wkQeWc4PnGiVlY0p7mpVaRg05IqNsjEFbtlvqQ5Kiwyhsk9h5O17/Iirr6qw20oFMA1xKkbhvCZaQY87zNIw4mpHnXksE1LWOJax8KArOxhZEVmngPvS4IIyA6qNqXA3FwHFuSwNMyZQG1HHa2opJJbIyM0DNRrTOhJYsYLlfGqBdURBFdOIPEY9Kq6t5BtH4cyHA8HjdC22NUXDbKpElIWq1C15hmJimGqkeqscRTyYWUw8iqVQ80b/JKfwnlSZTI51ZDiVo0ysE3UQLQcnOrSHpZ3Z2eUwVLs1ZY5rT14jw3ZZIh20I0WM7K4UZHAOOQwVJgzEy9NqiAreJW4AACAASURBVMlw1OPVbtrOk4vAxmkgPbCVI5iSB0q3SDHKBw5sBqe8xW8kFMkmIADRLlDuzJyW5dGIl9pirBJrMqyXMvk0XUHBUiQrWA6XoMc7Jg0ub16CKCbFbFO15C/b2dvbHX9IkWKtYnF9tZ3aPlMfQHUux3vR6ExVSx34oXrUGHo42QQOtSstmGotQuXtOv0XFZRKEdDzWuDQLEglIlCE7Hn+rX8+Rw1ilIJXhjJMeQgVW+u/BE5kAEfRXOFYXREIj4oF0iIAQRTaCWaMgJk5w3hegIYjTWSkDi7df7QBKq/SREz5a00DJSd22fPMvVFFJeIPQqZ5ZIaKkIHTuORZIBl24588DoKhMzYUEbko2MqS5mxGpCG9b43gyBNcOm2S/Mr5lqQe07/kJR31VV1PuJMpQjJFkmpAPcY4eDhvOfG2YaNQe9+Vb/ljJqs5w4YpcydhxSZioXTxP2gDRR22FyhRwws2Ew/2GMAYZMFGmkffTAihr90SehgqcdHXmioexZlt80hRQ3UH0AAXPUe/XTZjigJARZGDp6lIdrEA1xqJCBm8gIusA9MpaQJ0kGfFqAlIjTo9pv5NDwtJduh1WgfcbhLWQ1yqnNpD04sj41A557aQrDwoewLzanexABizuCE8EsUuXJqGoW8HRARvMQYKhUa0CLGOhdWyhaUig3ImM3nnB5jZ0sCjGimgC1hykWacCAbHSZmixgjmMqjw5ZOQ5RqmJw5nU87OJCPN/OY1BSxr3C2AyI7C52h4ZkvwAUTs63a0JMku+s3XE9VD1WoZSAQQ02vE3Rs6HsnsZq4llBrcB6I3p6S8ZUwrhahHbyzOvAD4PBmJPbOqRiCpdEiiRBksW24MVXnxFjdsKDrh9uSpY1I0ddTKHZtXW79nuXu48mTYO2+CXliKKtkgrNo6BGgf9FpfX08Gv0DHySht1gw0A0cM5K1BNstyozgK8U3GhKlnbZXfhMJryvy0jVldX/VEdmbhlM7X0NK2OwY+bcPsAL+//vekqN+03r+TvkDG3OxfAHBDvJYBmeKnHcn6+nrtdLR9M/DODKT3/qduB+9c2CPTCS/4EPSRcTvWnoFP25jzB6sC9PSHPr3C9jN+58inbZg763qg++9IUa+oBzbI7xRKGuPMJ4q/U83fq5a0nT289L6+PpzSDtgMPJqBcfwevw3T+/2j2e14NzPw+RpzILrv897xUUgvtJvbYu/4+Rpmj/WDRn4riqyYvqN8UDN97rR9ff3c83MPOnsTve+d+AKAu66vF2L3cDPQDDQDzUAz0Aw0A81AM9AMNAPNQDPwIAb6+vogIjtMM9AMNAPNQDPQDDQDzUAz0Aw0A83AMxno6+sz2e3YzUAz0Aw0A81AM9AMNAPNQDPQDDQDD2Lg46+v01/Z0N+YfnsZfy36tn8xIf/c4qm/cW3c6z/ruA3iNbMHRq7xIds73SmSi+cLP2/pwUlYoKvi9J9goUgkFjGWPGR+o3hf4fpHUm9v4cfWI9Ge3+W64DdpZjL1+Yq/xXPjHD7Nba7n8YmmTfXxCSzifXnu7Kz7kj+AE11nty/TByD44BB5Bk7TcdrweeXd0Ho3uDwP/zePXL4DlMonESW5bl/5ugA2b3aPBPxuC+0+Ou7zrgg7X/h5yyrPelAbTXh7a0iWIsZHUlQW/l4tXCZ35ae7vuI/byD03NgEd7g6L0nI79I+pF32yE1IgBfxJE+hdhwXhDvdi+hF4c+hqIS+YanAWahq5zJP4X1eVVB03nn8x8tu7H5Jw/VIxfnnysA1ZddUc8r2IE1J5oH9xXz3+F4MftmgrOey2xUWm+VYRzjNxmp4VZ4l+xpvMTlS3Jf8KPLJMcF/65vUyRRXmb07ITnhSsdmglfDq8p8hPEGGYXOtW3/C6vk8WTxMuRDAEs9h9ZfYbAkpFSerOYKiiTNle+jDILfoFl/q7ypWtT3wFzhbCi6j477vFeQ9h9/zfPzHIpq6BuWKqSrrnSu86zO5zUS8Z7eeHQLn0dOlp/y+qp9V84iId+LD5/q26HsQVYjAry4p97ZKHe6V0BX3XMoqqG/2H8yfkVxWVP/Nx3rPJejPc3izhau6rl5hjZd+ejar01zrT3jvceX43xa+arJPs3GanhVnoWtNd5icqS4L/lR5C869u6EXEp45wQ/cRouI1tqu+zyRLz3X5+Xep6L9h2ilxNSKk+CuYIiSZOvRydzDLPqDfqqAJPxPVVPoY4fNxTdR8d93seAffQ5FNXQ61OmQzkWyuNtnec40HNHH93CN6Etrq/K/Qu+s4k1Kgzaj92xhOhXaGFYKDP3+Um+KYLrTRWccRKq7SdyrfVo5a+w1SLJcwQYpbtvhIu6316GV7A05Q5T/y9VesAVZ1mgZrAEpcFOuZtdKjTCktIKdZypcIC+TBFdzyXUlqIdfNELfS9HBgdjpzaWDUdeO74MF3oCCepxs6BIALnafBYkl8q6ecoHHcs6I0CBtFCKalQ5BsN44Zn6hYiZzDaFaxrfTUCr41myBizEj+yLMUzSNIxuNVtPdOkjSTL0jatsmJ0ypZ2+Kh/4mG21BhtRxgVJe8n5MHfuAJO5GM20Y25jqGGwY5Kvp3aKKsAlQ/7LU1PlERKtFfWMsQ1Lm37jBUkoudBNQC3F4ZBRsa9XZauO89h/knZDB1l6Ls+O/5otKybiKggU02eNQlieXT1kCeZcBYiUQfFsDWc2gGeXvCjHk4MNXUa/XtGYaJhp9QPqEpHjBZlSURx3wjmsAX0JCEWYAhLRBO+icLJKZOL3DEVp7tpEU+GUdrgHeCDT191K0d/mGZ78hkdhgT2Fi4ewNENVAIU8eIAwBUWU3a0A1208l84Snw6IO0t4D0We58ECoaSaggxUvjYHe+ocMcWiAM2y4dma+PU6zvdmSiEeR5EGBeyr2JIa7Qg9wUcPRliCjkKdNC4cnuP1iKJoRV1dW4qOSloW0pHxPKblz8r5ecOR125VCD1Blt+13Mwp0viuNp8ZyaWybp/yubyzz/X11btGAI0SuRTIWu5gJxliN0pKsBjKgTEOIWcxX2tXso4aJBhkgYblzrBY5uRJr2S8vWiMX68/bYxzu1zydt3nq5aN0ZyTuUafComGThalzykmbYqdCtexVTNcst4TcrFOy1BuUhICdiD1KRFTfWisHBkOh8yekH2Q6xmhc+HeYjJo3vaCavC6RXbzlFeABLkzjekvlfhHqWlwCxIDR9XUhUt8dOFEnm+7iC6vYo+enTrnKLmGmHw11sIGJ6tltIH6g06PrQXNXTQC5frcg6vy2NEwNYhSq71iuT2ZCyOkF8z5y2hQroaUJwaZfpYRxl/FBVPu7mhGsRKlwtwpZZDHPDQLdb8VFldT7aBHsJINzuMyYY5ZUTpsVjzypT5ggiOUJ6oEzUNLR2wIUGY93gviIODrbkrooJF1UdhA1suTN6MDOU8msvEuIDHRWkDJeTICiuAivFxRhRSuHDrL7hWCFOS2qmZAMQO7wlfInBByiVKyLfUEMpcurxSksQ8IfrrrXgiX5ISJZlwrRUcEr4TwBjoAVcvnLor2dd4zwjARp+Rt0xwlFTMbWvc4msrSgA/nhvwAipAN5Zx/pRq9ayWaLx60jh+l1tgoLkZWzRib9FM7jpygRTxYjuiTdMpo8rFHnvbaQrTKke3hgMyeLmPQnJzDMwcoBEE1eN3BEipjlnZWj9Rvrq/+5kYVpA8wlIaSmlIZuxACehE/X395Nlc+VtC5zrwOVZSk9XAns8wlMbKktwf4jUed0Mhib6jsxzJ8Ocej5ZTDJiPPSVgUvA04DHqnqfW+AjxnTdGFstWJluIFcx3mFX9sHwyEXdkwtJl5PeaSKaq8zePl9e3tbZzCn7oOFkCUzcZ8csCXrwppYbIPWrKU53LnUBfOpLMsGTL2kTPb5MyX0GZfmkUNXWWjOtNcjh6c46l1qRxx5gxOvHdRShLfrRCMQzElQHRWsnwANCdZDTkMZLFKP7s+0HuSD1rpzoCmtoylcryFn3i/NO9loSWObTMx8I4qEzA/TYSAATFjeXbTUawnQTHSTdHUK2GMPjCYRjPQHucEiirNlmDfYxEbr0DnBvNhWQyqVKse/TkAIgFeRcvysEr/X7DBmU1m1RZZxF1ysj9keU0/mIqIA2mJt9t22JBl5ERArWFJzlYsX+JQo+5WSi7TahytyfPvyFjIvrwz20hQxtVaiL33prvEIUVMDClaNmH5FEVc2uNkKzOAj+oSdh1kikhOZRCspMeD+dljucPAVEKx/C4UUV2+Ruo9AkuAeRvVJ9CqWjW1ZWyFnrOkaHjv/1+dVmB7B5vyiwtKIySORkwpMP2M5EU9YR/4Su/BwM9XOaLqX9M9B+6oxseOXXF9jVIBgTl02YX8tmPdE2QiyLu92gSNMrw1Ob1hVBXLXBLbJ709wG881uWyH8vw5RyPllMOg5dRJgvbvvhdJ8+r4eMyGPKiN+IjZUjsdyRf7xHRynmP4SHNDIh257jUY8Fy4aX3y5t+FCqfg77Jb/M8d284AmRjGSUcBhvy/xcAsklFodNcFs4eLBv5S+5sc11PZN95clG442VB3pWwE7rhHE8dSuUI5Y6IvHRRngqYnX5NCRCLlSwfAM0JV0MOA/n8VKR45pa9zaJU2lGKJyTD9aey39gP0MlDDgJLz/m4CakAbSN3WUJmXz3cjMOGu0zR1AFzl7zFEF7sdCFnDVq1RwQPN8TGq2rTw3TQFQMGN8KM/8/6XCNi4lU8WOY4KpdscAaTWbVFFtGXnOwPOfMWzoW0xNttO2zIMnJ67DI5W7F8zCFilitFwlTtpk4yOJ0OEGy8lijh+utXhC6nee+96a5Uc/2uzSYsn6MoV/fYp7ErDK7ryrkhSE5lEKakx4P52WNefeYLU3lk+V0oorp8jWSUyWLsD9N2nUBrUatm1LroQXykDMnoufhyvYeHRHpXlMLMwJgnrNLkgoAzplw4rGbXcTr9+fKmv8+Nk0+y+sCHC9dXZ0lq9WMb8Poov8OUSvEQ+t6Wf7ZYBkYCftWlXc4PW12QfZLKtDyhO5kTcKlY2PCzMUG9gGY/lhGDc2xkZeOWZgI+ieu5JRqCsezJnbehcUc28Aiu5BSu1G/b+Sv3kiI3L4R5HWohBc2Fq+zFy3QsdswRBkVXVrjUMzwyRaW3eOrHWj9e3n69vV36JYSbp3wHCEQIOJVdsDetYSBabY6yM8DPmGswdIy1LNzTzO+YZRdN76qjBVAQYdqIeXb0HRrOTMLqTaMi2tpm7O5TKsfolH5UrL/OhVWowfHgIUXQEfCcRuiBEgSMmD+dHhRM+wBFKEUKO8ZZ4bJEj+BloKEMaIQhUI5JXVrPDZBQwhzmq/qNnEQsAqzbzFIKFzC1KcAtPqKod6EpmnoqtrkPnIHBkDdDFaDIL2YzXxRS3hZ8wbsd6glnhZYCrfnhNaHIhhFydPfIya4sT6GoSZgNzgDZ69IK6908osPLNaxwWWI6R25aCpEewxIFziFzsSzH2zX8q+SObN5GeQABltdqpUQ/MMHsWrczLCqUtFi4xJUiTQ6OENFey4qyUp58ecCdTVjWrXVeayc3XImtyZZsyHr21bedkreJLWeG9ZSpLM9sbUxRz1WzH8sbiiijixrX8bn6hEC1eG4REIzlCOe8qcodkwEihHLM2lS+fYjj1hLsqnldF4SGOBcjF8JQSSaOXFs2jIzO9QyPiaLSWw+m8ruBY2NwRjxnErTICzbJ4e6HzfXVv4SmiZX68DMwMocuu0Bb1ICpASigak+3xhUNMLGyAleDVc0TyrJt21r8wM++9rmP1Q0/p2HgNuLc2yfZ7YINtXWDqRh7LLmsTbO2gCMGpPbMXCSUrMsfeMWIF4lukVcEsFTxmJOf2SbW9T3Qz62VCx9P68ZSWEm4IlhUyOUM6qgeNqPCWT2sFfUQZZBCFJh2R4fStFLmRhuLExMUxRJKKImNCzyP4THbr8sHVQGqLJzS0Jsk4fEuijQDvwFNaoCPpFkKY6OdEh37hqH8HZeYycWLC/Lk4a3YY84VUDzm+Um9oSGSpUd3gdOEqRetf7oj9LT6SenBSPAIhoibiuQwu/TFzJhB+f/gj7wDTqGkhMecqO8IJYYWNDjKE+mQAhExYCLBUXu1JUDrXSPHiOTiPhBJzCInmxr0yK5/iyWcwjZ0OfF4CjuwQT3gqroeT66ftwR0540n042pxsKQ8AB4nbwqhnNg2xEdIoWMNOMfAGK8iik6WFtvRph05o3sXHcZk00teeRwuPvCw9/6gCftGGVRTwVRM4zgguyo3Qg57KqIogvcoIiC5zc2NjWKWGUkJRVilkqeRdQjhph7ltcp14JGXDjsahS9UoKpOTKcxxL0yFSot80RtgNAPI/lNn75U+u2GGIxcq1TGWOp171IjRlA53rkWQHcQgatO8yYxieUyJyKNGXSoTc0QIxsKbJCNBWSzMkvdfuofa78fG+sx1tDxS/cB6GPClPhg9GoJ5mFZVIP6yBCByNE5CRJbebCafzx4ub6egHnbTiEizsCCznvys1tVX5yL2Hxjkn4DNUV6/t0b5y6vn6GIhtDM7Bh4M59dBO11e/HQN6Eez7fj/nO1Aw8j4FeyY/gtr6aPSLye8WoTpmne6M43r4X7i+X5/2ur6dvGAWH4ps+iSlsWnWKgXxyOuXyyYymCq7rDbHuz0A+2Yw2nLMMyHvgXZ8Bnk3Uds9kIB1lekt6JtUduxl4DwZ6Z34Yy1//+jpVcF1vpDeHh5H6ewZ6l+vrmL6v/qXf79EA0+XvaxU1rqr3NdIjYnwt1hptM9AMfC4G7C3Rf7Hvc6FrNM1AM9AMfAwD0+XvY0DcmnVs7Pd9Q/KIGLfi/1p+xfX1axXQaJuBZqAZaAaagWagGWgGmoFmoBloBr4DA319/Q6z3DU2A81AM9AMNAPNQDPQDDQDzUAz8OUZ6Ovrl5/CLqAZaAaagWagGWgGmoFmoBloBpqB78BAX1+/wyx3jc1AM9AMNAPNQDPQDDQDzUAz0Ax8eQa211f558OX/gHyu/4ba/2TO5cQfY352PN2c5H3hZS0X/y/piMzvyfhqX2h/9L+DH2zof0VqcsL7Tz8+yh4Qh88IWTJxn2FlyH3Sp24U3vRPOX7mO8womCqP118vp5rUD48akmmZtE/gRQTUhpeA321va8Y9T6zRayJRSP1RHW1zSO0T+CtgvX52Dhf+HnLM5Vb897eGZKkCPKEhnls4RU5e92phtm/A9wMXfLeMTd7RPtSY+Q+74hzhXRnvVdk+tym2m/vseF+bho+P7rt9VVmMCZQN4DxZxLt/2VVv+sC+41aas/bWqRoTuyg14Rcu/JkktXxc2n2JBjO59R5+t2xNryI+hqS7wv2BH6uCnka/Rr1tOs1bO5sJT3tjmK2yV9P+S7ue+hX6sr/xHxldiW8gqWTEc6TWcN8AutrMXXqTYWC6MQ2vvGWVPFmvDG6Rn2e4GuiLrY7ij4ZG+PzgWl+nkNRVfmOpYXOUlF6P7xhSopKPBtlVfjGtFAnbyku/+ja2EyYffozzW6Ro1CV3BZ2G9Ue0cYhqe/zTqHOPtxZ79k0n8duU7B22EM33M9T8m+F5OT11WqeZvsDFthvQf41vE2U7+q/JuQa42SS1fFzaS6S8CnrvIj6GpLvC/YEfq4KeRr9GvW06zVsXmH70flPQ12pK11PmpW+dyvPk3ne8m5Qc4CrGErn7znSxWdJ9dDT1DvRtqPok7FR8v8cisrKX95uulwN2D9ff62t8fCGKSm6RlkWfjpA6T3N0PR4OvaB4a5/D1x46D5E93kzjtPynfWezvNpDL9dwZ+G+ccA2V5fy/DTbOsCe30bn4TRHiqbzaJcA+qu7bb22fROOeJNH2C7c3y0LRDtZzImAMuWjzcQChjvKKSkIikcRDIMbwzSa1mj/oaYIgduKmVUdJC9ngoHhJAKwrUaVYLqvL6CuWRMsE0kWA6IQg5vKXEEfHsZg6JX3l+QB94UMA5pNUdBUliSbv5KjMBzEq9bxmkAgMiNRSoSlu4MhYApCo8sbuiR57cpSuNdtGHDY7hQGzpMJqhQimrM3xg0sGTpiDzjBaGa8kgz6JeUXHVaBXN8BkMTWS8Ajrsyj9BKGh5GS6hxSaYDHUThw32FYv/HFP6bKR8LADsmcelBqSICFGKqXvNUZKauppUicdhenj2115NyCKBfrz9FFwTmp0A3pORvUUWHBCx7dtBEisHm8PKYDuK0oYJy/3iniDX5b1LOxcizp+IKbK7Hi6Oq3J+hc0jgLe9kwfqv16ndyPOYYF256vzrdezZqDJCkMZ2PfQ7EX6OIg0Kgq+hrNph0qzR7AZy72YHilpovjHHux4U33CTPsFTJILmoKR5/zkwXYe0/J+rPmk2HHntRpGgjimQUX1ys1yLq8M7nGkbTUj44eYpH0GIblGU7wCOMUOP6fEZY2CQN7SRdxRcKAPgGAxjJKDXxb+sJ21aVpO0jx/eok4vnZd57GVUeLLcgow0dKQT1OGRn6g4dMNy9kvvVAhUvu+mys2yNixrTKta3FPRQlGwmQgbjoCW3j8pRIznqsfTMreSfdmZK0/VkbtPL+V23Rog0qQ9nJxRtpA2d5GYRfD8tOb6CM2911fMutQ2plAZs+2U5bU6nZVomiGp0pohlr84R4oRSiyDXNd5I2lvr1lVY2PAh1eydpULNHhRPHYqCx8x5yKXqjepKeQcIj/Lk7EWAyJhG8qkz+nU0ikeo5IbKoRXPG8vav7r9acF5Twiw8uzxJxZAB0BJGYVMieHnYebhSWnKLyHONTsqe3nltMo560LNwc29BilUkdRo229xtbeHidtw2mGZY2lEs2WBjX5MlGO/pIgsdAeIkskvIovy+MEcukotngpBOV9FB4hg8DD+YMZuo9eAX2CFilQ/25Wsl78ENJHRGlTtsZFfFSNHnRLF2Yy4Ylq7JntYZJnQbWLmcOd5sxjFEKk5nAhg/jZlXKloVW/atRhUgcO6mZWpiz1Q6C28UVR+z1DW/HG5UAWiEu7CaCJH8fIenUee7fEQLmc2+Vy9V3RKNi5btlnuEiAlAL93UWUumwcrtfrAhc+lKum0rOVy5yHZc82CWdsJpd4xFyHppCUo3mPYU+Tnb9iM/HyRvzVG2VgBK8FHg8Rs7S12g6sgHAg5DLEfbIE0G1kDCht1keIWXZWqURaHkTk6VVMsLNjSHSmRG4MjVfwWxpS0qieC4cssZG6zmNZNU15pMOqjUQZqD5JbMx25EENYuKyZVI3j+mjFJsqB9nyVoZySBZLV0eEABI6kbKen0JmQCznSFpWuRU5G17i7DmeuSCzEBBejZSGGZgjiKFYGqMB3g0dOXEZZgQtlO778cK911cmUWUlDJ9ayuuO2WlTAY1E2MTOxF9lqFNAyR3dFAp9/fL69vb2+jMWTkY/oI+g21AUuvKmYRcTdBQ+Rqci54XkIWaBQ7JcLkWrRXINkbOyPGeZlrVDJnLM3TAg2PSojrEs07RZrKkI8ZBg6eftxTctjVj4DIj4f8DBc0z8Cf99H3DeqVIemjoeILLJXKb3IHEMz+I1BRutlRvMDEqlM5zXrPGelUXuUpUotylnHct5NstwpkxequPCIYtV+tmVMNj4+SrbwQs2h810abbj/IwcWIaO/VwWwWaXRA6yOsdK9DB5qVdrSsOwvedYlaVmoIyF6/4bIbqMw5G8WVOZtAi+6leNWmd14iKdCQ/fnyKvSIR6DCyKbP/Up5W3skaGyPJ2oTFvcDCdPcpL+tE1xX4kI8RTuUhJYoeh/dItVtqAjECbatWMgUkfi8GbvaYImepX9SHItdWk1XJ2e1qydQZIW3ZMvCNGYeaTC6+8N9so5XyomAGlnj4YEgj7PsgAE22DkEyLGZRKpMHenkOnpwnuGGMlyYl47RgaDBLEzFrDRW0yXrzjzQ52xR7HKC0NOPGs3vcusJfL8FMFCEvF+M7sod05Tn+p3ZMhuu/S/jQHTRFtMIHlmzWA++Q6nbvFGx4SG4HxyjoGxvIgieNnphML7BjpzMSzJt5HZI4SsqN3ISf44KdnXF+Z6KPygiRqkKRM3s790FaGeVqT9/Tw8qafSciHSW/yq1GKWTIA/JRN++74sHPknbMn6BnznNb7PUdYnjgky7RizEcy4Acrl7OyvKSpBnNjm4VhgP30qHHh57vr6AKbgKkI8YADo0pm6YGtIAMOnuPNWjUX/U/sohYDmXLI/GQoslIc1x7MNg5/FZLhaK3cYGZQKq3ZGAJlWHdRGtyKIEINbAZZx3K8+W7D2UDyUh0XDrlqmDLyz9dfYyf4+fKmvxk1FgbirD7H+dk+x2C/kEXCD5YkxzA5HHhVs9blek1pHLfhDKty1WArOs2qvsVbPRyOZYeU9tZMWgBd9atGrbM6N3uEg6mfm6ah9FiiPpit5PycB4EE3soaGTPL24XGvMHBdPZYzz77kYwQzynfoqYkscNgE+W1MjzEAbQBGYE21aoZA7MehMQEQIPYF1+vduCIkZe1k5w4srGNo6lXTLnwynuzjU5YHvaYAaWePhiK9FUfxKhIibbBSObFDEqlbn/2zdeFfWKCO0Cw0uVqY/fB+QCF9xQshQxzZJlLjLtspgLVOCeR1aSqIyjGnEhB1T4RmvxNTKeQZDhiVTU69iVcAkWji96AUvQaOsUwkVyoozgBy6s/NGKFXSvnTizAfLwitJnYY9VEu+VjLrmKnOQDnx5+fRUa/Px9XBjRDpr3jTbtJWOlzmtNwsy6GoPstPpVy4+Xt19vb790f6Fp1VUybzrHc3jJO4CUhY/hIALmZAxV8cpWLNOKGV658y0SZ2V5TSSj2A0xSoXr7AtthgHBpkfxBEqKKCKiYxhJzAXDUIe3Os/DMMPrHDXcR3/NpcEvv859wFFNlsDEg/mzoYfMSiKTejDbuOsqy7R10AAAIABJREFUkCEglDWWSn9r8mmcE6TukRgXlxtQSCSAi+RTCDaeU+dnhHItK1wWBk9NqW4C8nsYY18wH4/jWSCsQFfNsM0x2MrlRCoyVK/RG9oaY6eTMAOvSGM+QqdTmjjwtJyhUGbgXszb2xV/ZyYqC0QiFV2T1lQBRwGsmFZNYagp582cyw+crM3yiqnOrVNzsulO3ZszjPkJvJU1MmaWY6FP4bgkOJiOHlM/aQT228lTqvlReTuapNkBzwAmz547looql0MBaEMQd4TiFEXD2D4KjzmX5PHkEbdC0X7nu2iupMzCHMFAdAsv47ygvyI6z0WmqPSut1EkXF5vnvIRKQOKuec+KC0JyDF7TBuylZ1VKh2RhDnuB/YHOiSUZ8gUSSdAo2JwMiwySppZHalFKjtiILI04ISyColvb/E7u6ggvcKPUY53p7nRvNrkTw++XjKG0cxVjfUekJBQ+OXMLGP20cy4KJjigCwKFwQTDGaDZfIrRHSreGAeWV5cEDrNHXmIaJGIyzwBwvY1b/oLiCcqHn99HfcAfPBT7Y8oZyyXYYnJyMyZpZLsEaNpWI81UAZFxnjN84ZeiID676o15smA1vOo5vXokFeGjNwjBgoaS1x1TlLUAalsvjLkpNQ0okM+lhE9vRJ6AKKYpkrrxbdfsotZlCm3H/m34zlAyly2lsfU91wgmvz80a0x5ZTdKXBrFgIlFvx4WwF2eR2ftQoGySOMYl7Y2w+tpZIRehchDAMqZQ4ZXJAW0zy2UvD+MoIBtTezWAeg+c1Nw0aWElDt7YDou05194HjyWBUAwAzRHKdfkGqaZUadTCSKI57pICJkBl6PCvLClO8MQMhTzFh4DlD8Jj6VxYC5phHItMN9e8xDIqmNANIqdSEMRJTrGEP8AVSlfycwUulRElrCp6pN6OeIFMMlynaGLK6YOOwpCACNFuZMRAMjf2Ens22eBnuh6kLL1Gt1dRayYD4LKcQw4BDjg0KDkYxHnnpef/zNLBMm8clShQAwG7qLtUCzH8iAKmRmmuELnHpO7MmCvMdRYZnhU7J6Y2uhD/mInAPoxFg1lYBcKStxlwn4YpgUSGvP83t/KReSYtv9Q4iNEaR0RGJEOZJffYhNVreCnyIMfrsspLrXBKPWbDm8mpIG96V0lFYqWG9ZKKFgoYhb2HKnAO7H5ZikEkIQ8GP1AQTeXwFjNOLlzljtDQSQWw4q0ZFitnPnqvMMsQ4o8YlWOle+PrR5WDWeClE3JEynkcAp0MHMqw6/Vo/xUQAUSE0y6tzRVCmDXEKX4Re5w70+Imb55Nlm6GDJEXe91Jdd319LKpM0mNjd7QNA4l06W4sqI39Q9VYTQ8N2sE+jAHZvz/nvvZhlNyQ+KYl+TFL6boJ/xiMN8zAB7m89/b7QWU+Oe3X7zL+lAdkne6NU9dXRO3Xb8JAXhTXbdvXU3SmWTOi63NUHumdszJo3QMYeHb33AGxr693kPcFXfNG896N+Ywt7AtOwu8AWVqn766PmMnbluRHLKWM9GLtV5pfjPc7GQg38Z3I71TZu9fyESvhoUXOBVzXG2L9nh9BP7T0DvYkBtLJ7tktkpLtCpq7fGd3jb6vr9ewdZvts5vnNlTm1dfXu+j7gs7Sjv7zzu97z9jCvuAUNORmgBm4ZUm+81Ian1ac+qqdqulv5nmaW34KA++8Eh5ag62V+9bJQ4I8tKwO9vEM2I49jnr3Ndi+GGu9M8fIZyzTvr7up+YBI1e86T8g2y0hPvL6egve9mkGmoFmoBloBpqBZqAZaAaagWagGfiWDPT19VtOexfdDDQDzUAz0Aw0A81AM9AMNAPNwFdjoK+vX23GGm8z0Aw0A81AM9AMNAPNQDPQDDQD35KBvr5+y2nvopuBZqAZaAaagWagGWgGmoFmoBn4agycvb7u/+G1/uvtM/92+92o0X9xfOEfq9f1aC3yj90/VT1PI64moUp3xtLJezR77/0P9A+KPdNa7wpXSb/Q69WEDt193vu4y8gZ3han6xX31XOfd432fOHnLatM4s2bltZy71+GXoN8LEVnCq9s9rpn1LPP9jlGpOabd4ynl3D97vmh9VwP9zYG3yvPbejcSzcxOUBxg5VKd/kewoc26Q0U68Y4n4RLpQa/783rBnyPcHnXNVUz5IymN+9cnNvw+3s2oSe15tVHY7+fuLm+LjMrrNSkKF+nmH0oexlheqo7JWff15P/g8zZ6zd7OiIhl3rZ8rJFjnjFU5rcK/xOmi7IF0UEOtNaT4YbYFQSRPXCnAzLx/u8i5Cb4s/wVkTbqnZTdF8993mXYIvCn0KRELJswjuWSqSLsvR+H4oWLHtFWfjefB5Z6pF4+FkInb3veS7pvSfgWd8PS3wK4GZ1hO9i8KH1LGgC6CqdRroaXpVnzfyumhX9jx8/SuW7wvrQZLeVf5vXYaFXhSy7rlIWb3OHKD7FYFXIA4DVYSuGrpmLOmoBd3lHK2x+G9X919cPoiJPZ346Aemoc64OdiLfpzQ5IiEDvmz5RNKeGFqqXGpbFJmLS09Phjulv2+3us97giKP71T8boruq+c+74KNUvUUioSQ9bb18nbHRxs/X3+VEe8IWfJxn7Iu/HTMacqfMjc1mF0L19YP1H5Y4lM1XJyBxeBD61nQHBV5GulqeFWeIwzvMLair95l3wHIJ0pRcnIR321eh2GvCll2Xak8zPlJB59UyPmw5y2vOFhN72iflPsHwVqvr1J++tHvdrTrX/HJNL7ucVsoxgH2zQ3j/CMB6Gc4sJJCnKktTz2ePGAklmCOUxHIWF3PSIxg8Axkx62h570X1OkIIrmrMiTEd/D2e4Aa71Wm49frCPvr9WepVNxrHjm9XpqKIjlU42bnkxbqQRP+P/KaKQxpAKoNRQiVXsk9TuahDDJXnR7bXY3kKbo+EOMDuwate8NtI7F00a9XnSFxtzzRPgOBqd3fDYf7UcNE3Sv252gIJepJzWrFV4U73+iYUbhHdN6iLd9eLlBU5PF4SONxN4xoin0PbLxsJzOAMbtpUURqKh5KBwrFvA950NVSwgVkGd930b4A2fciyoFdOaTc/yyHQrlZaUHHKH5Tz1q4Rna1kbAguVCX+gfrgfaSJI6VHwHS4WhL2pk1+Fx4mZHCxbaTKcKTZlq3CH5H8xmO3GURgCLZ423BvfUt0dYUlCdnF5GnVy4TrErE4i2J69mDpwIHUMV5vp4NmYQThU+V7B9LhuIdwI+dlCOmvAq7MdSQeKcBmdXOXMUUHXE3ikSHDQcl8UVkAgA2at4oYt5lIhaBKZU0rontzXRaVJEoCieUkbxShjPvqKz1f3VB7qg8AcQDO5thbAgyu+FNIVmNSPHKhurOCu0Y1E4DUK1NKEYYHVM6jo6j9/D/sKCQAV2wcSM71knpzojGM5nZYOKcdY9rghZDSqVW34bC3VOtlYtnYUgBXaydS/eI6NModYMtyGymJOepdNiE0ObCDeeQQDuxDvU3f12vr0rIQtZo0sHtNIi5MyZ1CsdExYgobWLIe+7Ua+Zi6ZTojWnVCQobDEAiARIhWosPl81qDtAac8oUi89WtS9EwishxNlVgy7E01LfXgaSUsmxSVbHEXQ4T3lcKYxh3bgso0AUllFulgoSPWREEglBD2MOBkYKD12RWenG7mDY3TvjjacFh4I08LN3fi4tzYQr0NZZCB4nBYPpKLigAPlOEvcBUjIgyGXh4pD5QYisp36WXoAL54a8y+NsRYatZOm249sBdZy6SBJjUWib6ayCliIUqouhVTPGkp4LDBm0iAPLETxLB7iyYfV0JsFYadPOzlkhRw1jq/PFsPYM5zXZXiiYz0GFXJLFLFUWW526+juDmonK041VjQTUyVIQ8Ikby2U2icEs6G4AhffCwDPU7jFAjKiiVHQXEwIFh/Q8qZ18Bqw+9YQp52EZ4cvXHHGw6eXEOlqbYY0GHD5yvh61tKn07A7t5JryvCooQxbSkbkw1eM5c4z1aTWkPDHI9LO8BNw1jDegxyzZkFEsAbekJFPuyiR1N7mSiCzWdBaFY4fMMD1EqfTRWJESee6CvJ9eiOQxHZBin48MlOdS+ZuExoHn0zAGXRGPlMaYmqH38GpHPmwsBRDOzfLUvA6CIrtOlrDj0hzL4ZrYWMqKOLFxAoq9OtVpby0qrw05A2R1ntfuJXcf5yJYzlQgVz4BmTaRNk1UCrmbioj+TaVrrq9YAhOz0yPPicvSKeZOonjmo8L5WfDQ6nL0JFlotxoig2ZZouVg8jigu7BBOcexhrTPV8aLRpoSoALwCwh/swOOmY/wSJKUtmFQpiVPth8VIJaUmH6EIx8U2/RQlj/V5Ktcjd3dhTJGKFM0PIhz+nl7OVF4zF+ET9KCiRUsixewjAg86rKRaS03DCuCd6wO2+Se8D7zQYqYVqSpgnhpLS927o3MT0BlvcmIYY8lRbCRQDs5kjxYYszoorwHuMV+ztzEwa2aMTTpPVMspZIij1sLwhq2v9qi0Goi2o4KE1NNoEWrGaNdsPEX9ZQxqiKNgpfXt7e315+Yiz2qu0d4Ph24RtWCy515V/gGDLezmXgmF1LTy4PtzLQ7eBzGvMmpanfgNVWxPu927s2Ti7f1KmMKOiBzv0DGq4ZID5ugVD3XwHJKjb/FyJUjdGmIwcuvCS6mjZUsV/nLFKshh4EsVulnt2JjB5FsERx40Vg64SniYDo8GG1OT7lL81LJ4RyXlTccchJ/azI1JbXC3AKhcwB1EJW1UIhX9MEmJMDIsMh4VSTpAdji1UIiBAYWL58xtUAj4BVu+uqT7gLUeckeFV4Gvqxk2C6LsLCeENvDqPHnq2z2esATL/FOP4OqFcvGcJPIAI2DHSatyJOjam5RYb5Yno6InniFulhyGJYlRuHuob+v8E7XV2EfP9EyRvsYW9THk5Kn8+gptX7VcJc6xYLnraNAN8cZO2pRV0Y7IuXoalEekpDEYthj3qKAjfNk+2GBWDI7IAa+V+2+6/LKgDyRC56mFhi5r9wc00u4RHBVHGddMLGCZXFKwBJHbjlMpKmD0xqDuzAck2VseS8u7J6i4hVZsV4XLlAyPwGO9SajenssKYKNBNrJkeTBEmPGEskok4Vf3GLaS0ImJwc96y0V8Z+Tu+NeIN+90W7kVLYZ9HbP09YQZlZMOUaZ9uVNv6aXX0F5k39IUaz5XRk369FvGZCCLXfmorKj3AjPNsYEZUxWRl1mMFnUPcgpNuuIUpJ1nhkdyMnJdhF5B/RALtDSYN12A/HwyVq0TIDLZT0+6sG8K0lzlZjQICkrWa7yl9lWQw4D+fRUZEMKboBjHBVkVOThA6LDKpzGp8fhUio9mgiwsPLGY0BLtvbA71M+zkoJsqIULX6wWdeVe9AQypAD7DCCjFfVpocINkkMXYYWr4wSjYDXHM2cJwYvhMwhysCXlZwjZJHwA9ZzuvH08/XX2Od/vrzpvy6q3zXUeMUylVslgC45L0sBVjYNSxdFYdM8pbARpVDPqm1I2iwjYEs/fmyur0yk0sQKltc1xnMC+XJPpXWpqxj9spklhB7DF57W1cI1sCzhcrBR4a+3t4tnpjmOxfL9MyqRAidM4oySTUY8wzMeS6VidnfPw4VAjtRjr1QYEnQGJDSYjiw99iwgPvThPcCNcoEeVrtXsRtsKDSTJSY4gmel4xk8kXGGzi4sS8psy6Muw0QUQCvyQvD67oSi7DUvG50FBJws8+N5y+yXnnxFVgx7sfP65wEOB1JEZzJM6XGhCDbixjJicIqdrGxMq21nm/SE2XOLgDlg2R3znHmxPj7VQXpKN7T2Pv7LsUvChSKKsIg+hzFyvjfmSiIGSQvoMb/OEZnKBOo/gfB6bDDHKIsUV/0w/sfLm2zFcwhOMxguEWSzC0/ClOThaTZZXmTIkNPjFWlz2QOMcJ7eaRBaht0ByEy5tMTxzHFIl0VY4kRGokqSYwWQehElotlp8CF7DVRPWKohvJaIQyE2afpZ4bJGSmbzDmLhS0Md05GcaoVE9Xhuoc38RKJ6yHoNxZrFkBUun50KAqRdFEXNS7JmIyoLjFGjRo+Qmw2uihHRRIKFlWePF2ss9jgtUie/RFl6SDouImOjpzIksHMdxLr4nIse0DWlT7UBkDxYfCHPVkArhb7N30zMxkeFz7YlplW5Y2Nej8A5veoWL79lM3Z93zi88rAvAF5sGPcm50BcuW+nfEBTBqN3IpZnEoGyQT+rxLMMuXXnzQVRi1ftP/RNMf5lVZvr69jlxmcl2nQ8Jy6LwD/YMZyomB8l0G15jkzJrX2G7Qgt3OMpp0m94Mn39YyN2A1juWihXtVusp2XZJBI8ipZCyWBTxituBEeSZJSEnJEW0tghRmKmR3/7LBI7nUDULZM1fkD5xpKAuTUAb27bQX31hMvArhWJsmgFzoAFyu4bjMxdWrMIEPmmAgbo/Hu67042tIBsL9hYneHV9iNMR04UQ3qwcx65MuCAPKf8F/VjJxl1KxBRgCuZ/A2tW50DpuOQjk2y6jxzARr1CjmMguwWOHoCKkRlVTRb6xEw4zQMbKjaNhJxRFvTj6NDJf8/8VBTWNi6WTr6en4EmTGMXnsPZJYJ4EkmzPu4CBCbTHE6ugDq1cGYcg5SS54o9EDkRP7/pJ6ejAnCaSsqZO5K2N/2uYLlqKeGXrYpICkhi9jh65MLb6YE5aLAFfN7pIsAspfaxqYOGLIXk7a7JeApqC48seGuAaWwwwNw6MUfDUcg6o/pDLeTPNG5PXoHyGiED5wqoVpUQRX3nUCMuKl9qDiTCRDglMsyXQGMlNxRsd46Iiof3BJx0M31v5e6WFCQBYrFY9VjSkPkF1QBsocMdb5rg8CokqRJ0I62NyPiHjpABUh52mMEUwbYpIlN0cCq7bgByOHIdGXlCVa+6yyZiPyanPMsADP1lS0DgyTvynLyivDiB4SlwN26zUVEWPKae37d8QWOwIrzHikBS2mK3o3pZCuG2sqkOpAPEZhizTwg8hl+OsqttfXh5Yk9AV5Qns8PTRRFSw1iSA5NeMp0m1eKUQ/vCMDacrfMe9nSdX9+oiZ+PpdVFxf9ex2agc8dX19BM8dIxiYV648v+N7ZQBpaZxPm/zfrhPSvj4vuN+q2nc+aR9y931YP6ThYwZ/1y5/n+trWkbvTGVOl5CcbaWbnM4Gb7vHM5C2yseH/8wRpd3xbcNnxvkFsH35LpJe4OP3db2RN84vMF+/AcTlnWaewt+gxi9RgkzEu37I/iVY+S1A5n1tWXG/RY1aRC70g+vKYH5j1j+Y5yW9EP/bHgjf5/pKX7R/wLvCmMDx1fuVX72a66lvK5bGacVHMfDlLx4fRVznJQa+chfZxsWXV6rspPiQICdzfXezzTuNqO+bxO9ObNffDEwM2FqbfxlzsvrKj+PTl8+1c/z+rH/ljvma2N/r+vo12WnUzUAz0Aw0A81AM9AMNAPNQDPQDDQDn4SBvr5+koloGM1AM9AMNAPNQDPQDDQDzUAz0Aw0A0cM9PX1iJ0eawaagWagGWgGmoFmoBloBpqBZqAZ+CQMbK+v8tvz7/FPPvU34t8h0X313OddzvXpwk8blmnGX4nnfz41/l3EfZQXMT6SorJy5Y0LL61KJWrBa2l0rNTs+q9rLjCtVN4GMxB85X+mGVW4JOSdo+SGwrcudy40R39SOF/kyYAPNlM6zs3CPnMm+yG9vk92PPK05LnGYxAXR8+jPGF5W4ud8NLeuLCx7Uu9z3sf996RE4VfkWJuC6367WV9Qz4dExFOO9xoeKKzboyc3e6r5z7vjARPpys/bYjI6XWBroo7/1RYEWPJk1Dc9nBf5eJ9875xx9K5rdarvYTwa94ybc7S31aaCXYb5k2NPuDvCF3NyHMdttdXIY35uhvGZmZ1ch6ZaH7XMOD31XOfd8ldUbio1uYvDMuAO6V0+hJ1w9IuRtaXzu9DUQZy/FQWfuxio6hljqBTsZK5xhTDhfPVTDS6EZ20rSOU/wWxrelXGDhPX9mKXOIaauuis/vIrYhxrPKKjGwUi/21ufTmRjbPFufu19PDlZ2ayX5Ir99a9snkh9NS5s41liaLUsH4/BKpJ1Ge2ziur0WAnvDS9sxL5YQXWCi8MXT59Ra2L0dViytKOBFxASpTa9fXTN2JYMPEIpy2v2i4YFSP8z14McEw2BF7Xz33eZfQi8qfQlEJfcdSiXRW1s5lntn1uueCoisCCMwbm1+ypHokVv65I/IVNRyY1rOwc6ita4KrNqz9d9merq8gnk96k/eHX1/P13fSckODTPXt3X2f90nkZ84NZ0ORXVry0N/1H3Ws/nOSCv52goHrka9l4acSYF/Aqzn9fP1F/znpo0ibJjxyuWvsvfPdBfay88T7gcPFwtdQF10O0j1yaEW2RD9hsvg8TrGsnxvgfBayz7NyfZG31HiLz/kaYHl9LeL5nl5Aev71iczdVvgO+gIUCrzuHPf6ZUXuTc+N3A7lXHyz2hF7Xz33eZ8t4CkU1dDLc9VJnPWBrs5zMuQzzKQT7jgllvU8ZYZuK37X6HW0a4BXttdlqzE8UFtBPB/+Ju/t9XXNK61jP9GAoYRO1uArPhcZSqE5/ZitO+PTZ12Dr5Ln1+tL+u8Vuak3f5EnjCwb4q7FqEZxAffGplQrzgEwfTVCADw1Fw+l20GhR4aCotqQINOku61TVGIfynq3O3DgoVPb7IYjokOLl+eqHq/GKVIErh5OM5KLZal/DsmVHcp6e9VPAA8CBMDUgyUbzgURYMfH5CwfOs5ramLj8FdylCUH5uBdwxMwvg0e6WHpOJEl8Oh1fvwXEkulwCT3EVHJ0GUueZAlGYZ68ZaQAR2Qipkjz1HPoFmXDLKDeQ8YaDJyglmkcveo56oii5CikgoSoMVuaXid60wlasxaixuzlnayOdGGy9kMz8zHSO8BAo0Yk6EPkA7VV8un0k0hwV2VvCjczWz1xboISI6SoYchCLj0Svu2m3r6yCEd8OsVzQo2YkWRZcWlRIyNA2ykPiiVsfocXAjOhbs68IW38IK0eo8ddToywDy9ui/yjO8yEwkyLQMYWTvSFA4PCb6ZkjOFizgyPp7YO8ZHa2dkyPfA1zI5KQ1Q1UVcofKptu4b0GOh0GYvNbgtqFDup4kkozFrEbjmQXElImu7RasT71V5BNc4ynrbcaABkFwH9gOKfG0OXiy9B+XkC3IovHWhuOJVp/jnJYeaowWlFO4ExruQ2wVFktDVw2lBcqks9c8hL9WRxue9lPBE1FKZwlgptt3yBUR8QQfLXPnIpKO+AuCzpEnvHbH4Il7ghu9cpKF1XMMuOtYj1FOOsPk13D1uwZtE9BpHHnKklbL2xtDM72hb74yueDp9fV2aEkhsyfi4YqHJfLGsad4JCeuVq1+vPzXG2wuGPDbn3OWp5pnSsYh0rDslq6PNMEBqS6JhRekTC+UU2h1dv2p0aFJzgS6XFHngQri0pxQuUHEu6NZXQY1jnVfAWSF7DetbvvuN8Jx4yNBQrA3bBtA6a4V7WWO313HaQldv3LgmNSnZGM6TLUqRQchlr4sSxU4xJlRcNCzBnJiGLJa+8Y0ogtxVltMCoqgRs1RGDVSP+hl24NGtG3nEYJQGBsg7LTR3H2DX/49QGFOcI9M0OD06/fA88+pcSjBMkKMU5VrkNu4MqDA0gpAWr2QZFIYUw3s2wgbSCThiKiE3jelEjJAFWuTSVx9nMoGi0qXcYgCyDRc97gpH+ADiKGipHNQYjgeSZh/v9NOKyxRxkXlEeaZ6GCUS197cBpCZq5UBxIvX1WbVhPUsTba7qZjd9LlgQZoN5dsrz49kI6JyVB6cYA1DBNYNam1rEJijytMMdLW4W1MlZx1kKQxrMsFKDwEnqXV2xmFMaMQYYlupysxuIktiI12SLF3SnXqg5M696DBnMdM+pWtcVBcjq0bHspoLDLmiKAKv0gGu1XjScK5piB6ZXFTAnpCjhnQb10jws7BwkcchmwbV4JVgZFGS7Rdotq2eEiAJ5osd018qq1CAYjzJo/26P3fRkNUWagumuji6OJAq13aHSPXAs1IaPJgw0SFXUw6P9CqGE2BJ4CqQqe+xpk4IVohrb+DDjsEbe7CccB09nL6+DtBRzHgrxxswXbkZBsupUoLEesjmZ4/ykn60do69kynNQ0Xg1KDWKdEwonULAz+1eTJxaO7kGhVmdWTy9rAswVKRLwe1Y6Zv7stoqdA83tClCZQzatHrUgqQsQYspNdjQXKMqsjh8fP19e2t+igeYB7wSj02w1yjk/EYzJUkh2xbUsQmkPGqsdJDii4PxWjFZWkoztRMI5QFRFEHynLK4SfYIONVwftDxUaqJj0shVP8GGMXlgMLbAWGH/ugLF/N0lpb+fIaCATrvPIy4FAm+9rONoMXWQCvP2O2EnO2vAwlTWee8szGmu8EnLnbppDTo3XHtKEYzB2ZQpx4JDSho2DJIpeanxjW5IT3W9q13l4Ed+RJDytrpWbvk0cYDcsSNFtWXLKHy6kz7Ct3H5S46aFEX9mc8UKwyZYLYRnm6XU2KBeAKc1xSsfh0hA9iBg/tmJ8K3TBuyOtqZHAP+7kfI+VDSUnr2Y3zSgVubQQ0CWO7QF+9ljmYT+W4Yv4T3nlhLIYlvNAoBjgYwUHnhRE1aumVHtLROuVFEWqUhKMtLWUNrNS83APzAbxXBSzQVnUY2FyjMK9XJGB4eFSAuS4NY0NlcoKB1rE/OwRWvFw2QWOw0qW2SbkBPyCurLNGeQp/YyWqBwjV0iVXc0bW+5kjVv0BhHIZK7vZgHsSDp/fR1RjCNlJhYqZ9gVlLkOD9ZDthj2eF0ezh9ZHisBp0Y1eBllshiTM/9y3mySZ5YAL4ZIFd0FDXldEMP3guE6fC7ZgnqwUG2zCLhgyjFgxoj0jPDz9U0+FT7571LZ/bygZva1AAAgAElEQVQ8L8Wqjoi2NGGuJAyXdbtwILYcDjJeNVZ6SNFndxusuMx5ECUDGoksHYo6UNo5AsHGK/zkCTJe1cIfcvLhnWpND2M8/7+HcjW7sBxY3HQIY+qrw44ZSg4Mez4XLhY5paNHjkHqJL686Vci8vXIm/yLCwUikNGhucZ5L+JRllMOezgDZ2qiKeT0SHH9YwJJckimtIwYJDShgy/Rbmlycn5iOYUVz2qpsENanZbq4ksKkKzzCKNhWVyypQURo8Ql2sC9qzXlgxIlPSRs8bDarJqwnqXJlgtheXbT58WgWgB5zqZ0HDYN+YMI6CNXBuMFgxf3CE76aJmTF9jyjHI9dQtNnWWEw88eyzw8NyzD99GFp3ic0N52jttAUPlSsVApiOpWTa02QihlSVGCPD2Q7zRy+fFcsqKYneNaj4HIMSr3akVeruBmiwQo47GhUlnlQ6Oanz1CKx4uu8BxWMky24ScgF9QV7Y5w6Z7KsfIFVJlV/PGljtZ42Z3S8WgWeZIgeqCdO31VcI5T7JtYpf3PAyD5d1WySVANj96PJ8HTg5oL4jpGnhv7yOcw2ucjox+fHSvaTY5iNl4LPcRoTTUM2uQX05FipIffA5DrWysqMPApakQ1yehQK2VlBlsw4t6RqgpRlXky9uv8b2TXGTf5CifUMwPEqJEMBtOz9PMXGJgMi/nEBmyrc4CjpyVCczFcFSrLkd9DBeEk9eKy6GdkkeeUYXktIAyJNbjsVSWUw4/weGyABqpdY6GLKPzdInuZOFWaG4KZoNlwsJEDflwwgO60hrQQeVxkWs2aNwPiuJ19P2Yhl9vb79ECooG/5kACeL1MAMsF5kw0eVQKCO5SHmD3WfwDekimYjB5ECn/IN1iqTo3Gh5SiPpQUwlzsTgQY1iPZsHOZCWJBiQbJSMi2TZcJGlB9DpHwPs4bII85oi3hT/Mk7RVfRoMZCBh76QJm/2ZLnwLBZptQConjF/6IklZDQJFR5KDRRsSJe+vY2PiKpQlKakefGx9uIpr2wu67Cgy7TMN8ux++YEaRLsAX70GLyYO/uxPDV1TjY96TQQj9Pw/pESAuvlNvBtx+JSENN4rJy5NNRfsXbs4rlQlKPkJ8whaZWNepWTFR/Ks3p6WlGPNwjHTPb2zYC+oZB6msuqyHJFcogsa4gzNWY3f0pFSTDEctkFO3DAwENAEEPhwkLaY7iLhDkNLbzz5mTOMbhICXiMlupKOWWQXlkrqxwjF0m06UHLJYbMEVme4Aw2lgXAVjsZ+S3EEsPHT19fdR3Zd9PBkeT3n7EGuCCWAUXMR4DkrF2BcswPj+zq3cOxWR5vVwNUtSq9dIsaxdDIBTEhjySkRlRSoe2narwgyRnmGiAe53p0OiJzck0RN5XM27aYaUwA3/iputhmV3PBngAOk7qPRm4y31Se1GoeROgYhVghocZLRqtnbrAxT0dMzfb1OYG58FXB/YuVwuFCdjL0XfMATrhwZe4uveWUsBZKwjlUFlBsRTEeS6UkJPex8uEngyTDbvwDqyI5NmfHeKlwLdetzZ3ZgBw2tNCSEnCYQZfDUv8qgdqKDk4k10V6JAgRUQEdTK5ajnGJbZZI82/9KwtDmWICGhiQxCwDSH6NEAeIYhej+QlAVBArPSDneLXfXA9d9Gqly/ugh+Q8WGhcLMvLJpxjYql4dqpRudJcnjnTF08549BXKCUNpirkypJ1SB8eaaGtK5JWaV59gRiSFz5WiqOreINPvJbeTAbL4ZakqNQXWixtLIBoQl8TKUg8IBwXHjBjQauHDoDeujMsslpi6iLbKo1cZyxn30AZq4JmUiZoQBVDJGA5GasByLDJFXebEfjFBLHtyBNj82YSUIm8uR591qgAW1pslCscMYzE3hll+yelExeIlJAdRQORpsrl1Zg2BQiEufABf9YWAaoD3WrGExSjG5RLPWxHFLFayydHGcuURFpIZA7VVa9zUYQniCuVSxqBIj4WEo/RHPk3/CjoKNIdrPMi/5Kqer+leLF4K6VSZmtUXixPUptuZqcCYjp2B3LKTiqf0hw9jMnWYV6iaPXG8kW0Bfvp6+vi+Z0V3KVfk4dyt5P+2XYK1VlsszTaYjPQDDQDj2Sg2nAr3SNzdqxmYGFAms7PbsvobYpnxLwNyZf2yifpr1hKda462xzlge4rktCYm4HTDPT19TRVZPj1T07zXj8++Thzd7VPbE+aEmktNgPNQDNwCwPVhlvpbondPs3AWQbOfsB7Np708OWvp85G+95285Hmy7Exb2hXNYcYP/pzlS/HYAP+Zgz09fWWCZ83mltifJjPuKnet9U9IsaHEdCJm4Fm4EsxUG24le5LFdVgvxAD0m190/zME/aVr6/WXXd9J/CIGJ95fhtbMzAz0NfXmZF+bgaagWagGWgGmoFmoBloBpqBZqAZ+IQM9PX1E05KQ2oGmoFmoBloBpqBZqAZaAaagWagGZgZ6OvrzEg/NwPNQDPQDDQDzUAz0Aw0A81AM9AMfEIG+vr6CSelITUDzUAz0Aw0A81AM9AMNAPNQDPQDMwMPOH6Ov6sT/zHiOaUh//E/nBwjnTH83v93Y8r6tnz5iOn/rM2wcoVycMpJPtbAM/+y4h3ogy8tXQuvNZ635+zqtM/XVs2R6m8B8oT+BGMtzOugO76Uxfn6HhC4XXi++i4z7tGdFZ7J0ULdFGsrTG0xcBZmG3XDDQDzUAz0Aw0A78HA5vrq55I7L83e9MRUwJsDpeH94nDwQdSfoDvgVn8v398OmaB6ywlq+tZz0N0DwlCGZZ4i4KMHyCeCy/k3XaZOhf/AYWUIcrspbJ0X5VrF6nN7fysKUwjIW/aW4a/XGc2O8w25dHAuxW+mZ376LjP+4gXGnsORTX0DUsbNYFssRloBpqBZqAZaAZ+cwaq66t+zn3nyXBz0hE2D08gh4MPnIsDfA/McqHYItOKa9UUbqJaDR9C5kOCEOQl3qIg4weITw5/3M4PwH8YYp3zshEOY+TBMmI2edCTZPr819cHFUthNg15Hx33eRO6I/E5vVFD//n6q2qODXlHqHusGWgGmoFmoBloBn4vBorr6+6E4L+95d96sCXL5RGa3A9OrRrmVX97jL4NkxMOfsahZjrzRHYyPbqB6+noBWHjoFS5rzr1BsrD74DO1oOuklzATXlH8QET5va6sayT6z3X2ESqKR4/BrVDS7nMe8cGz7hOZlbg18s3KBkDZMqNHnp5+/fb6zqPcqv0ny1v487vdlFPmgOQRCFHRFKMGLAEXnpl2zAj7QFICROWw5Cp0OSiLpWV9wAWMbXenbebOW7R+AN/bkIhYpxYeKZIuQmcg0fDCJNTx7Cnc8mcey3R6r9ex+5h00YhzDhMJeRQBpjRL4SzYkaDXuiLyk+7Zapx2AWACEvQHSnr1JIVFylyqtOHlRTC+azRi1bp+7mMz7vRYtCKZqAZaAaagWagGfjdGVivr3LKWI8XfGAVCz3T8FmC5fX6yu6TZWZYz1fjaLUF4kdBP4J5SDmavlhElnMSw4dDZSRiF8h4lRCQxQPennvJYR64hkcatkRI061Gq4bdSV4NSzI5IcsUKYm5PvaALIkXNkRp85OB5Xi4JBxNeYKDByTf1eh9sORDhOkVAfPX2IF9c56WnvA+nELWjxEopNrStWzIMt8c3XhRskfIQlwBPAqOgCJlPT+FHBTGUslRnvjEyZEmqqX7UNkxc4GIMOmlVmFNY7y9oHTODVlNrQtTj6SHyFNIyFYMXVCVNW7ZsC2zBoZ6lh4ICKDBNBzHZQrj22hEKCR2iGGPF6qWmoFmoBloBpqBZuB7MbBeX+Xk41dAkMEnnzjR8VmC5eWkkwbTAxLglQdJ1uOYfWOBQ3dg8pNOMjv8Kx/pxIVIlXulS2f5FAll+CvVwBedFJUvEWu0VePBs7AaVslT5kOKLDoHkRLSj0LnxC6LYIWRmL6OKRKkZLk8fUr5NTx7QMYrXJjgIuhQeRPtZnfkXmKlZNvoGjSoiwvDmSkQAtOPr0+nmxNPytp7B3ty9riz3unC4uEviAfYhSoP9gzBynRq/DMqYk4HuXKS5wKBMenxYH72mLoSEwpTicMybwPI8fBXqsvzCYj0Azaw3UsZoC+VhIlMZRDmWZ9aYkRM8UARhShFdQKiYcGFlT6tbAaagWagGWgGmoHfnYH1+ipnEZxXvPo4kIgKxxU+S7BMJiNCGkwPnsEEHnR5OlcBHUD5SVpOavm0M4f3Z5SgijWQ29Uh2ZvlcIPkNfDFbVOP+KzRVg1iT6+rYZX8PEUWnoNcw4bAwQ9PSoonOVjB8lSefU+LULDEK0diXQq/hgxNEMNEsqy2VhZgZPgRbZLEi9o2d+kScnKWpoDzNLTAk/FJWXsnjijq5Owji974oujBoHu9vzDuSYMuwkZAuHKSlwLNJenxYH72WBYOUwnD8umGJMhXi1SX56vZkGH8eJNtNqhUBmFa9EgVxIREfodi7cGFHbr3YDPQDDQDzUAz0Az8rgys19fxLYqfZKzw6UAzzt+h1DMQ++QTjTz5ifLws3c+nkAObz0H+j1AkOov8nliscxXg928MT7kGdHjYqK+ZUj2ZnnN5rHpniYeBlmjO/z5oOsAJkxrGtVwrkWBQc14Lt5IA0d9Kr1FiYgu16fPqkJOwPJIT/8vsRfe2ANyGIpU/o4shTUxAM/uqM19cDpXhVgvFm4awWGkS2VxSCFnb71icJe4QZl8VkrG1TsWr0dTASRmbb6B6djP11/667Nei+RFldlbR+qhGw2z2/TkU1lWzgXuZAqY2MSD+dmjluc0mC9M5ZHl/ECJVlHjrjO3Gi6asq6KjbLvJO+y0CQHh6Wcqbyhv31ntrglsC0CAtNiM9AMNAPNQDPQDPzmDFTXV/uea/pMXs9SQ+cnKtfpHzIZateZ/zjWuVZPvB5gYZcPSCHLwWv8yB8kIW8dSAfHMK3O7J7P8UhYClC5rzrxhhPLHt6FqIGPXhEx6kmICNRxfE8kQoQYFNXJ+fsWnFJTGDwESuXeaGftUDHCkAOMeoOu1Fyq3KAECn6N3M5b7e3JL7QbBfc7DyN8e3F15J4bK0aoSIosogP696/XV/yOQDjOISdv9qfWmO5FcIo5YM1YP+wdmNISCHVMrzsv/tYVlmlT0Qi5Zwc4dY1c5CKsSQrUDJF4d3XdMdMcyR8NSiGHu6ikDIuBR8NtLAVtqDjsFHGwBAMqhEQFkAmm0SNxU6MGxFxa7gAjA5YtlL7QNF0EiCIRT16jHo0Qj7yoIs1BCX19PSCnh5qBZqAZaAaagW/NwOb6+q056eIfwAAfoPUicNMx/AFAToaYbhgnvdrs0QzItSfdeh6doOMxA7ntPxH5fX3laWq5GWgGmoFmoBloBoKBvr4GFy09jgE5FseF9RMdizclZrwbo1Y/lQH9wq7vrk/leA6eVuZnWgTp469AvVGHQUvNQDPQDDQDzUAz8Lsz0NfX332GP6o+OQv7T9xkPwpOnZdA9ld+NUWt/b0ZGB8a2Er9FItgIJq3DMc5D/ze09PVNQPNQDPQDDQDzcDMQF9fZ0b6uRloBpqBZqAZaAaagWagGWgGmoFm4BMy0NfXTzgpDakZaAaagWagGWgGmoFmoBloBpqBZmBmoK+vMyP93Aw0A81AM9AMNAPNQDPQDDQDzUAz8AkZ+LrX1/KPePi/ZbzpH0iJ9zP+9ZeiugnRAzrmfHL912WPqv8Pf/2f//rb3x+A/84Q/+ef//nf//rjFKRUTjZnHh8Vh3NJzP/9r//+3//6xz//wPoHy3//y3//z5/+z+mgiuo///ofpx0eb/jHv/3vCuDxbfaMOXUy6uD/8ad/6IxfNSOI+XgGLLKiurMJ63oB/SNeyy76CCCdsxloBpqBZqAZaAZuZKC6vvodUP+ex6OuXY++G5bX18HCwdAhTfdDrDOfv0Eewrtt8Hzy4vpa13MGyPZU/ed/rRezrfGZTIc2f/jr/5R3nlV5GGYMLle+553OK5ZOIDxvstRy7CqVFrfHY6eHjv79L+vHED9+PLxzcsPIFe4vf35cHUcNc+WMANT9DGwiPOD6mskE4o985S7yTw38o6I8BWMNaufLx0n+P73S//Fvs+ZHXrPjnizcuqMK250nJ+KuG0FCkyzpQ6g//yty6UeHU3ZNParGJ3rckBz24GMLzvLfvDr+/pf0oZs+Ru2WsWi2ircfP5I7aqcpS7k+sqU6dzPQDDQDzcD7M7C7vj7qS7io6P67YcQS6eBmdTCUY0xP90O8NfME5NM83l5PcUwZVeXDytBtje8lIp9HLVqpPJNpceTD35kA520qls57n7Bcajnh84Emuw7Z6W+FOtEix2UcnW8NyX5HDTOlZrcj+X4G7o+wwXdjRZtoD1BzpXL/xK+HQM6A8xqcvralR71T/e3v5fUVoHNkaNMr94ZcEf1e+h9/+se//vjnfznaH2QpFY2rJilT2PkjHkH7n//Ah3rulTJOAfJjpiXG/vyv//zr3//0D4c9RubCeQrMNwcEseQo2Mbt99HrMdC31Aw0A81AM/CVGLji+ur/5YJ/+2/Yvrz9++3F9dsrr34B6P8RlX//G/9F0NKdjPHFL1+iXC6dB/Vug5mgmAHScTsevb6+4j/44pZk6Dq5PeNnKEkxBiZ1uIrvm6dBkT9+EEqJQA6oY/cqnhEnbvaOKcVyrRceqSMKWXE9PwxnGNag9JjyT/xW5Dh8pA/U5YuCv/1dj2L0PQa+4vvj3/73L392e3xX8ENPivaJvit/yMExfQ8ASHzmg06McWzVz/j1aDhiqh5n2eEgGP7y5x/pyxYx1ux6+PsTvmDxew4ZG0j9Guqf8u2E+zqeUshHusQSvhgRiv66/qYxUwScPxj/gKSnw7/a1zX+jZDMmoGM71q9HC9Q8Pzjn3/CF1ChL2vhWSPwSOR4/jWYxLwbdRryP6ZjMePEbFLhyCK+2hsjF3CS5fSNLvVGSiGc2Lm87kzpBGtjI9MvBj9+xH1DefsjSHbatUY6r+szAQgqfC4cj5j9bVpoP35UnBdKgj0oMkhOWl4p3uqBfIoQ9so8P5IlTcT//OnPoM5mTed6VlbzuCFzpUjpHJzgcsWzExOUpyCvQVyrLBg/yhT8459/OLLPkQEovSZItu2Iwf/5538KjfS9MVv61c6FFFQetEP833FI88sSG2xbKFHGnC4RkiKX6UN//Jtwu3zfPheewah3DghiyVFAjokb4D1nC81AM9AMNAPflIHd9RVXM9yi5DKDO1BclvSKY+rlzjgxqnfDl6Rc3SP0+H515OTQLquzXaJcOcKvj4CuN0cF8fP113IDk+woEzHKwkul5IZXKnNc+ByCWuHmGKxQzE2UKWh6ZBeW7bZJyavCLdTkuKtHaVrIS3DGmQlXSpxI1CQfVobXeqbRM2hcGOJUzQdiT6mnbZyJXTvfeXRgUuoN2c7NODBNp8O4C8HAM4glvsNBXYIcIO1ce8CGh5oERJvUP/QiOioliuJUR9kDrSijihGSCud6Ix8dl0UZKeSpKjxckySOTsgYIZB6thZsiudvfxfG5Kga4MWFbpV2HEc56BzJ4ufviC+NgRuLo8rRXK01Tsa5ajWV4Lj0WmMLG+6Iiwez6jLz5kpDsC/ZAeuFbfoX0cqYfUWMhVayUSolNzgkJlTM+rJhUOyYI0yKeq8LzS/h3loCCZ3pVFdKvpsJb8q2kmmT7mRWFFlhTmOBdpC/TAFVBG4tGD2C2LxmyeCHXj69QyzC/OIl2GcuRtcf/vo/vt5tiyPLaHX/iIowjxR5Ho1n/RTGP1jxwpX844/YdLPFZ09eFN2HEwCPbOVmMKqseQtHcbGYDk8/KkqJZjr7uRloBpqBZuA3ZmB3faX7jlSf7zx+51rvO3uq3ClMVnf9StUNMI5XGXDZBdMS4jQkHuknrrzxPfBIyRBNLgsvlRoiZx5R1xskW7mcr6/+WYHHuCAEpszhcnc2Pqrrp2PxXKvGhy4IfExhWa4iy7EjGWjgdPjzc6ceWP3ycAFBlWjJHoek6WY4HxklWTIWBZ0jIedTOwy4QJa3Jczg9fKQv99jilym46xfLRbYcy1kUJ9Ny+srbiOosa6lGC0pMgwghyBNN+f8SPbAQ5cTpyVhE0hxBY2hmfOlajUtYnp/sgEX7rILYpl5yN2ll2T6rQRbMqMN/M4gUcAAy34/VEBWV6lkLzWm/+PIufl9drzHxrejxRRYvNRX/lW2XaUoZ815/k4PXolMj1FQpGPwGobzXI+KvC41yjbTvPMExYdrtLNl+xzZwbIg5fiMO5Pk6G3GlvikzCPJrPlnaqrN8wgexj3fOKQs07bmcV3ItAw1pTjq6qldLWQOCN7GPE7XVIB3MC00A81AM9AMfEsGvsf1la620yzLLdW/cf3Q6ytfs6u75QR8ecT9db696i8GrwSkwi3YelldNUvejYIONOmEvVwgxZ+NRzwcYvTJz22Wa3dCtWGPYF9WkNq+cwhNOrfFqJ2o8ok/XzAkBh+gTc6nNxhwgSwHkElajnT+BaYz48K4eMcZGodgfBuZakQeVrpMt5G52HxwRF0zCYger2xp2pIiwwByHJKSTLeC6XtgsvcTv16l1IUpCkgmzV0Usx+muWrVFzFzf5oBF+6yCxIq85AJr8A4LEHlvy0PBmQUcu7bspmpweDl8U3IepoRgkq3uHSpnvFnipCpoHea32F5zfV1eCSKRDV9K5smwhcy1zh/5z/N+/QoKYhS/ixMAeXIA+P0/xOkMTpf+7XJ3VKE+KUDipfS5XkMzuXXfeWXtP/1x/yRUNrWKKiJuUxVGtv4SpYhJSTUohQ3B0TnuKOuU7ulB3jyb7EZaAaagWbg2zFw8vqqdyvcgeJ7wqtuN6vxqpFLFe5uIaeE+LVbcuZrp8wgDeGfagJ7NcG4+KWLHmJG7vFLvxqoVEpoeE1pJjXjg+wgJtf0q8bLWFK8vP16/an/l9RTchqbcwJLmJS+ovRZCtss8ZmJ5fpslE8w6T42Ha2QBaccfdZDXrqsTqfV4VUo/ZDkR9hhKleLv/wNf+DEki6HJz9H0lWWvv/Uf3GqBy9mgOVxWC++T06ESF76JUmT+QANeboRGW6GZCq6gcQXa1KOXUIEJGR1ybVXhY/I6sh/7ojAIzfjgWwTAXJiXtJEawS4jG/8xm8mcxaSpTHoWgsA/hrBi94QKxDrHoVGWxqXN+fQBW1gg8G8pSmev9tXGo+Q+40OjAlCyMSAZtfmKZVa14zEikW08RgzkhomfbJgjvNd0VYHd8WwFEhp2Yq6UvI8usxkIjO/OkXLZdKy4PMdZ8aFyUCiTp0wPYpFzHiWZYzZY4wkV+VMWaxdyVLWwjoFjCS6YuQiemXe/2f8d8VSv1F8wgdx7ZbJPi2lufDcVBqT0YYcjoSNwANOvzYDzUAz0Ax8QwbOXl/Hzcx+CRcXzOmeeIk+vfZoCAuwXpfG3RO/6+t3Tvf89fqCf7MqV0j8MCDo5BX6wrZQpctnXNw8ecSr2dD6I66iJ2cFhtsvkBGF4cnQkcq5OGBZI5DhLrlTxChcSbyl6fDAGtZdN3j4mMLyOAja5/Txm29yLhnKcaaUY9n8LaKezqH0byMl/3J9nY59A2OlHF/BjVy4gai1npmSxhMpsPw1CF1fcSPVmDhZMgMsw5guKlqL125n01DK3zdyinD+prN1WAoAGAS9uM7F6ZDP1kG7/DWgUT77Sky5b/CBleVxVsa/eR60a/zBsB+1KaZRZHhADuDl4HPA8fdyrItoKqOvUs+Mm5LOLPDAsuoNzSYAhrE1Q21JtPt9zMnUP0blDYPUca8m5JIrEnkb2DxSFr+0gDFBSzLFRI1pIkJpV7WRayRKFNlvomJGJE/IXqO6B3I0HmYMi9QqskmXNnC6YFoqeR4tS2pCOI+tIGfJ7eqWUgXmItgoleIzzfv0aFFpgnJdwVjkn6Si1WcvmZd//PMPyVIA/+XPzE+00DSPOilM71iGtvkkY2xcE0Z5XK6v4hgEjvbgP7w3SK6y+EZR8Ma1C04Hb5Pb/+GcYm5a1Qw0A83Ad2Ggur5+l9o/VZ1yJ/QLYvqyW2/Vl26Ln6qWB4CpT4cnA6fjHXxKJR3EYWevdlKctJ/9kc+m41ZPF+PPDr7Ad1cbFPE2qro3NsatdgYyb3KVtb8l/rm67p26yGlpoRloBpqBZqAZaAaeyUBfX5/J7hWx5ZtTv77KXVYvrOP70y93d/2//vT/xGfk/hXHaYG/67gnzkVf/x7JLTFj9p2G67+EML5e8699xg38SyBvkF+RAf2q02+q9hXZVyykMX9RBv7v//f/w47dr81AM9AMNAPfiIG+vn6ayU6/POw32U8D732BvNcXJvwraqPC8Qt1/mu371v2/dno1/Dwe8L3B+0IzUDNQPrl4fQbpLV9a9OvcMcneviN6E9DUJpZ4Cx+J/zTAG4gzUAz0Aw0A9+Hgb6+fp+57kqbgWagGWgGmoFmoBloBpqBZqAZ+MIM9PX1C09eQ28GmoFmoBloBpqBZqAZaAaagWbg+zDQ19fvM9ddaTPQDDQDzUAz0Aw0A81AM9AMNANfmIG+vn7hyWvozUAz0Aw0A81AM9AMNAPNQDPQDHwfBvr6+n3muittBpqBZqAZaAaagWagGWgGmoFm4Asz0NfXLzx5Db0ZaAaagWagGWgGmoFmoBloBpqB78NAX1+/z1x3pc1AM9AMNAPNQDPQDDQDzUAz0Ax8YQb6+vqFJ6+hNwPNQDPQDDQDzUAz0Aw0A81AM/B9GOjr6/eZ6660GWgGmoFmoBloBpqBZqAZaAaagS/MQF9fv/DkNfRmoBloBpqBZqAZaAaagWagGWgGvg8DfX39PnPdlTYDzUAz0Aw0A81AM9AMNAPNQDPwhRno6+sXnryG3gw0A81AM9AMNAPNQDPQDDQDzcD3YaCvr99nrrvSZiz+OhEAAAEGSURBVKAZaAaagWagGWgGmoFmoBloBr4wA319/cKT19CbgWagGWgGmoFmoBloBpqBZqAZ+D4M9PX1+8x1V9oMNAPNQDPQDDQDzUAz0Aw0A83AF2agr69fePIaejPQDDQDzUAz0Aw0A81AM9AMNAPfh4G+vn6fue5Km4FmoBloBpqBZqAZaAaagWagGfjCDPT19QtPXkNvBpqBZqAZaAaagWagGWgGmoFm4Psw0NfX7zPXXWkz0Aw0A81AM9AMNAPNQDPQDDQDX5iBvr5+4clr6M1AM9AMNAPNQDPQDDQDzUAz0Ax8Hwb6+vp95rorbQaagWagGWgGmoFmoBloBpqBZuALM/D/AwecoFyM7yXJAAAAAElFTkSuQmCC)\n",
        "which means `output_parser.parse` expect a single object with keys [review, sentiment] not list"
      ],
      "metadata": {
        "id": "qUdNEukesuj9"
      }
    },
    {
      "cell_type": "code",
      "source": [
        "import re\n",
        "\n",
        "# extract only list from json format using re\n",
        "output = re.search(r'\\[.*\\]', response.content, re.DOTALL)\n",
        "output"
      ],
      "metadata": {
        "colab": {
          "base_uri": "https://localhost:8080/"
        },
        "id": "UACmpLoQuAuu",
        "outputId": "60f73203-82ed-4b11-d921-1d41eb490e54"
      },
      "execution_count": 15,
      "outputs": [
        {
          "output_type": "execute_result",
          "data": {
            "text/plain": [
              "<re.Match object; span=(8, 1381), match='[\\n  {\\n    \"review\": \"Absolutely loved this book>"
            ]
          },
          "metadata": {},
          "execution_count": 15
        }
      ]
    },
    {
      "cell_type": "code",
      "source": [
        "print(output.group())"
      ],
      "metadata": {
        "colab": {
          "base_uri": "https://localhost:8080/"
        },
        "id": "6V8EzG_ZD3yl",
        "outputId": "6fed6e75-36c1-4223-c67c-5484e23450d6"
      },
      "execution_count": 16,
      "outputs": [
        {
          "output_type": "stream",
          "name": "stdout",
          "text": [
            "[\n",
            "  {\n",
            "    \"review\": \"Absolutely loved this book! The plot twists kept me hooked till the last page.\",\n",
            "    \"sentiment\": \"positive\"\n",
            "  },\n",
            "  {\n",
            "    \"review\": \"The story started off strong but got a bit slow in the middle. Still a decent read.\",\n",
            "    \"sentiment\": \"neutral\"\n",
            "  },\n",
            "  {\n",
            "    \"review\": \"Not what I expected. Characters felt flat and the ending was rushed.\",\n",
            "    \"sentiment\": \"negative\"\n",
            "  },\n",
            "  {\n",
            "    \"review\": \"I bought this as a gift for my sister and she couldn't put it down. Worth every penny!\",\n",
            "    \"sentiment\": \"positive\"\n",
            "  },\n",
            "  {\n",
            "    \"review\": \"Took a while to arrive, but the book was in great condition and the content was excellent.\",\n",
            "    \"sentiment\": \"positive\"\n",
            "  },\n",
            "  {\n",
            "    \"review\": \"The price was a bit high compared to similar books, but the writing quality justifies it.\",\n",
            "    \"sentiment\": \"positive\"\n",
            "  },\n",
            "  {\n",
            "    \"review\": \"This book changed my perspective on so many things. Highly recommended for deep thinkers.\",\n",
            "    \"sentiment\": \"positive\"\n",
            "  },\n",
            "  {\n",
            "    \"review\": \"Some typos here and there, but the overall message and storytelling were beautiful.\",\n",
            "    \"sentiment\": \"positive\"\n",
            "  },\n",
            "  {\n",
            "    \"review\": \"A friend recommended this and I wasn't disappointed. Finished it in two days!\",\n",
            "    \"sentiment\": \"positive\"\n",
            "  },\n",
            "  {\n",
            "    \"review\": \"Too much filler content. Could have been half the length and just as effective.\",\n",
            "    \"sentiment\": \"negative\"\n",
            "  }\n",
            "]\n"
          ]
        }
      ]
    },
    {
      "cell_type": "code",
      "source": [
        "# Another way is manual parsing\n",
        "import json\n",
        "final_output = json.loads(output.group())\n",
        "final_output"
      ],
      "metadata": {
        "colab": {
          "base_uri": "https://localhost:8080/"
        },
        "id": "-pjNhGRFtpAO",
        "outputId": "5bdb78b8-5303-4a59-c5da-1b3f98c6bfba"
      },
      "execution_count": 18,
      "outputs": [
        {
          "output_type": "execute_result",
          "data": {
            "text/plain": [
              "[{'review': 'Absolutely loved this book! The plot twists kept me hooked till the last page.',\n",
              "  'sentiment': 'positive'},\n",
              " {'review': 'The story started off strong but got a bit slow in the middle. Still a decent read.',\n",
              "  'sentiment': 'neutral'},\n",
              " {'review': 'Not what I expected. Characters felt flat and the ending was rushed.',\n",
              "  'sentiment': 'negative'},\n",
              " {'review': \"I bought this as a gift for my sister and she couldn't put it down. Worth every penny!\",\n",
              "  'sentiment': 'positive'},\n",
              " {'review': 'Took a while to arrive, but the book was in great condition and the content was excellent.',\n",
              "  'sentiment': 'positive'},\n",
              " {'review': 'The price was a bit high compared to similar books, but the writing quality justifies it.',\n",
              "  'sentiment': 'positive'},\n",
              " {'review': 'This book changed my perspective on so many things. Highly recommended for deep thinkers.',\n",
              "  'sentiment': 'positive'},\n",
              " {'review': 'Some typos here and there, but the overall message and storytelling were beautiful.',\n",
              "  'sentiment': 'positive'},\n",
              " {'review': \"A friend recommended this and I wasn't disappointed. Finished it in two days!\",\n",
              "  'sentiment': 'positive'},\n",
              " {'review': 'Too much filler content. Could have been half the length and just as effective.',\n",
              "  'sentiment': 'negative'}]"
            ]
          },
          "metadata": {},
          "execution_count": 18
        }
      ]
    },
    {
      "cell_type": "code",
      "source": [
        "final_output[5].get('sentiment')"
      ],
      "metadata": {
        "colab": {
          "base_uri": "https://localhost:8080/",
          "height": 35
        },
        "id": "YF7zq_pkWfSo",
        "outputId": "45b6a145-2b62-4698-e0b7-0f9171100812"
      },
      "execution_count": 21,
      "outputs": [
        {
          "output_type": "execute_result",
          "data": {
            "text/plain": [
              "'positive'"
            ],
            "application/vnd.google.colaboratory.intrinsic+json": {
              "type": "string"
            }
          },
          "metadata": {},
          "execution_count": 21
        }
      ]
    },
    {
      "cell_type": "code",
      "source": [],
      "metadata": {
        "id": "psLVQ0ECEJ8-"
      },
      "execution_count": null,
      "outputs": []
    }
  ]
}